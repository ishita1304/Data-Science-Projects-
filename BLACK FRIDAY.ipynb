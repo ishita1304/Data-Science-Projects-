{
 "cells": [
  {
   "cell_type": "code",
   "execution_count": 1,
   "id": "e31c9296",
   "metadata": {},
   "outputs": [],
   "source": [
    "import pandas as pd\n",
    "import numpy as np\n",
    "import seaborn as sns\n",
    "import matplotlib.pyplot as plt\n",
    "import warnings\n",
    "warnings.filterwarnings('ignore')"
   ]
  },
  {
   "cell_type": "code",
   "execution_count": 2,
   "id": "829af352",
   "metadata": {},
   "outputs": [],
   "source": [
    "train=pd.read_csv('~/Downloads/Blacktrain.csv')\n",
    "test=pd.read_csv('~/Downloads/Blacktest.csv')"
   ]
  },
  {
   "cell_type": "code",
   "execution_count": 3,
   "id": "378b84c3",
   "metadata": {},
   "outputs": [
    {
     "data": {
      "text/plain": [
       "(550068, 12)"
      ]
     },
     "execution_count": 3,
     "metadata": {},
     "output_type": "execute_result"
    }
   ],
   "source": [
    "train.shape"
   ]
  },
  {
   "cell_type": "code",
   "execution_count": null,
   "id": "94bae7fb",
   "metadata": {},
   "outputs": [],
   "source": []
  },
  {
   "cell_type": "code",
   "execution_count": 4,
   "id": "e5b5bee1",
   "metadata": {},
   "outputs": [
    {
     "data": {
      "text/html": [
       "<div>\n",
       "<style scoped>\n",
       "    .dataframe tbody tr th:only-of-type {\n",
       "        vertical-align: middle;\n",
       "    }\n",
       "\n",
       "    .dataframe tbody tr th {\n",
       "        vertical-align: top;\n",
       "    }\n",
       "\n",
       "    .dataframe thead th {\n",
       "        text-align: right;\n",
       "    }\n",
       "</style>\n",
       "<table border=\"1\" class=\"dataframe\">\n",
       "  <thead>\n",
       "    <tr style=\"text-align: right;\">\n",
       "      <th></th>\n",
       "      <th>User_ID</th>\n",
       "      <th>Product_ID</th>\n",
       "      <th>Gender</th>\n",
       "      <th>Age</th>\n",
       "      <th>Occupation</th>\n",
       "      <th>City_Category</th>\n",
       "      <th>Stay_In_Current_City_Years</th>\n",
       "      <th>Marital_Status</th>\n",
       "      <th>Product_Category_1</th>\n",
       "      <th>Product_Category_2</th>\n",
       "      <th>Product_Category_3</th>\n",
       "      <th>Purchase</th>\n",
       "    </tr>\n",
       "  </thead>\n",
       "  <tbody>\n",
       "    <tr>\n",
       "      <th>0</th>\n",
       "      <td>1000001</td>\n",
       "      <td>P00069042</td>\n",
       "      <td>F</td>\n",
       "      <td>0-17</td>\n",
       "      <td>10</td>\n",
       "      <td>A</td>\n",
       "      <td>2</td>\n",
       "      <td>0</td>\n",
       "      <td>3</td>\n",
       "      <td>NaN</td>\n",
       "      <td>NaN</td>\n",
       "      <td>8370</td>\n",
       "    </tr>\n",
       "    <tr>\n",
       "      <th>1</th>\n",
       "      <td>1000001</td>\n",
       "      <td>P00248942</td>\n",
       "      <td>F</td>\n",
       "      <td>0-17</td>\n",
       "      <td>10</td>\n",
       "      <td>A</td>\n",
       "      <td>2</td>\n",
       "      <td>0</td>\n",
       "      <td>1</td>\n",
       "      <td>6.0</td>\n",
       "      <td>14.0</td>\n",
       "      <td>15200</td>\n",
       "    </tr>\n",
       "    <tr>\n",
       "      <th>2</th>\n",
       "      <td>1000001</td>\n",
       "      <td>P00087842</td>\n",
       "      <td>F</td>\n",
       "      <td>0-17</td>\n",
       "      <td>10</td>\n",
       "      <td>A</td>\n",
       "      <td>2</td>\n",
       "      <td>0</td>\n",
       "      <td>12</td>\n",
       "      <td>NaN</td>\n",
       "      <td>NaN</td>\n",
       "      <td>1422</td>\n",
       "    </tr>\n",
       "    <tr>\n",
       "      <th>3</th>\n",
       "      <td>1000001</td>\n",
       "      <td>P00085442</td>\n",
       "      <td>F</td>\n",
       "      <td>0-17</td>\n",
       "      <td>10</td>\n",
       "      <td>A</td>\n",
       "      <td>2</td>\n",
       "      <td>0</td>\n",
       "      <td>12</td>\n",
       "      <td>14.0</td>\n",
       "      <td>NaN</td>\n",
       "      <td>1057</td>\n",
       "    </tr>\n",
       "    <tr>\n",
       "      <th>4</th>\n",
       "      <td>1000002</td>\n",
       "      <td>P00285442</td>\n",
       "      <td>M</td>\n",
       "      <td>55+</td>\n",
       "      <td>16</td>\n",
       "      <td>C</td>\n",
       "      <td>4+</td>\n",
       "      <td>0</td>\n",
       "      <td>8</td>\n",
       "      <td>NaN</td>\n",
       "      <td>NaN</td>\n",
       "      <td>7969</td>\n",
       "    </tr>\n",
       "  </tbody>\n",
       "</table>\n",
       "</div>"
      ],
      "text/plain": [
       "   User_ID Product_ID Gender   Age  Occupation City_Category  \\\n",
       "0  1000001  P00069042      F  0-17          10             A   \n",
       "1  1000001  P00248942      F  0-17          10             A   \n",
       "2  1000001  P00087842      F  0-17          10             A   \n",
       "3  1000001  P00085442      F  0-17          10             A   \n",
       "4  1000002  P00285442      M   55+          16             C   \n",
       "\n",
       "  Stay_In_Current_City_Years  Marital_Status  Product_Category_1  \\\n",
       "0                          2               0                   3   \n",
       "1                          2               0                   1   \n",
       "2                          2               0                  12   \n",
       "3                          2               0                  12   \n",
       "4                         4+               0                   8   \n",
       "\n",
       "   Product_Category_2  Product_Category_3  Purchase  \n",
       "0                 NaN                 NaN      8370  \n",
       "1                 6.0                14.0     15200  \n",
       "2                 NaN                 NaN      1422  \n",
       "3                14.0                 NaN      1057  \n",
       "4                 NaN                 NaN      7969  "
      ]
     },
     "execution_count": 4,
     "metadata": {},
     "output_type": "execute_result"
    }
   ],
   "source": [
    "train.head()"
   ]
  },
  {
   "cell_type": "code",
   "execution_count": 5,
   "id": "a5a201d3",
   "metadata": {},
   "outputs": [
    {
     "data": {
      "text/html": [
       "<div>\n",
       "<style scoped>\n",
       "    .dataframe tbody tr th:only-of-type {\n",
       "        vertical-align: middle;\n",
       "    }\n",
       "\n",
       "    .dataframe tbody tr th {\n",
       "        vertical-align: top;\n",
       "    }\n",
       "\n",
       "    .dataframe thead th {\n",
       "        text-align: right;\n",
       "    }\n",
       "</style>\n",
       "<table border=\"1\" class=\"dataframe\">\n",
       "  <thead>\n",
       "    <tr style=\"text-align: right;\">\n",
       "      <th></th>\n",
       "      <th>User_ID</th>\n",
       "      <th>Product_ID</th>\n",
       "      <th>Gender</th>\n",
       "      <th>Age</th>\n",
       "      <th>Occupation</th>\n",
       "      <th>City_Category</th>\n",
       "      <th>Stay_In_Current_City_Years</th>\n",
       "      <th>Marital_Status</th>\n",
       "      <th>Product_Category_1</th>\n",
       "      <th>Product_Category_2</th>\n",
       "      <th>Product_Category_3</th>\n",
       "    </tr>\n",
       "  </thead>\n",
       "  <tbody>\n",
       "    <tr>\n",
       "      <th>0</th>\n",
       "      <td>1000004</td>\n",
       "      <td>P00128942</td>\n",
       "      <td>M</td>\n",
       "      <td>46-50</td>\n",
       "      <td>7</td>\n",
       "      <td>B</td>\n",
       "      <td>2</td>\n",
       "      <td>1</td>\n",
       "      <td>1</td>\n",
       "      <td>11.0</td>\n",
       "      <td>NaN</td>\n",
       "    </tr>\n",
       "    <tr>\n",
       "      <th>1</th>\n",
       "      <td>1000009</td>\n",
       "      <td>P00113442</td>\n",
       "      <td>M</td>\n",
       "      <td>26-35</td>\n",
       "      <td>17</td>\n",
       "      <td>C</td>\n",
       "      <td>0</td>\n",
       "      <td>0</td>\n",
       "      <td>3</td>\n",
       "      <td>5.0</td>\n",
       "      <td>NaN</td>\n",
       "    </tr>\n",
       "    <tr>\n",
       "      <th>2</th>\n",
       "      <td>1000010</td>\n",
       "      <td>P00288442</td>\n",
       "      <td>F</td>\n",
       "      <td>36-45</td>\n",
       "      <td>1</td>\n",
       "      <td>B</td>\n",
       "      <td>4+</td>\n",
       "      <td>1</td>\n",
       "      <td>5</td>\n",
       "      <td>14.0</td>\n",
       "      <td>NaN</td>\n",
       "    </tr>\n",
       "    <tr>\n",
       "      <th>3</th>\n",
       "      <td>1000010</td>\n",
       "      <td>P00145342</td>\n",
       "      <td>F</td>\n",
       "      <td>36-45</td>\n",
       "      <td>1</td>\n",
       "      <td>B</td>\n",
       "      <td>4+</td>\n",
       "      <td>1</td>\n",
       "      <td>4</td>\n",
       "      <td>9.0</td>\n",
       "      <td>NaN</td>\n",
       "    </tr>\n",
       "    <tr>\n",
       "      <th>4</th>\n",
       "      <td>1000011</td>\n",
       "      <td>P00053842</td>\n",
       "      <td>F</td>\n",
       "      <td>26-35</td>\n",
       "      <td>1</td>\n",
       "      <td>C</td>\n",
       "      <td>1</td>\n",
       "      <td>0</td>\n",
       "      <td>4</td>\n",
       "      <td>5.0</td>\n",
       "      <td>12.0</td>\n",
       "    </tr>\n",
       "  </tbody>\n",
       "</table>\n",
       "</div>"
      ],
      "text/plain": [
       "   User_ID Product_ID Gender    Age  Occupation City_Category  \\\n",
       "0  1000004  P00128942      M  46-50           7             B   \n",
       "1  1000009  P00113442      M  26-35          17             C   \n",
       "2  1000010  P00288442      F  36-45           1             B   \n",
       "3  1000010  P00145342      F  36-45           1             B   \n",
       "4  1000011  P00053842      F  26-35           1             C   \n",
       "\n",
       "  Stay_In_Current_City_Years  Marital_Status  Product_Category_1  \\\n",
       "0                          2               1                   1   \n",
       "1                          0               0                   3   \n",
       "2                         4+               1                   5   \n",
       "3                         4+               1                   4   \n",
       "4                          1               0                   4   \n",
       "\n",
       "   Product_Category_2  Product_Category_3  \n",
       "0                11.0                 NaN  \n",
       "1                 5.0                 NaN  \n",
       "2                14.0                 NaN  \n",
       "3                 9.0                 NaN  \n",
       "4                 5.0                12.0  "
      ]
     },
     "execution_count": 5,
     "metadata": {},
     "output_type": "execute_result"
    }
   ],
   "source": [
    "test.head()"
   ]
  },
  {
   "cell_type": "code",
   "execution_count": 6,
   "id": "4c668636",
   "metadata": {},
   "outputs": [
    {
     "data": {
      "text/plain": [
       "User_ID                            0\n",
       "Product_ID                         0\n",
       "Gender                             0\n",
       "Age                                0\n",
       "Occupation                         0\n",
       "City_Category                      0\n",
       "Stay_In_Current_City_Years         0\n",
       "Marital_Status                     0\n",
       "Product_Category_1                 0\n",
       "Product_Category_2            173638\n",
       "Product_Category_3            383247\n",
       "Purchase                           0\n",
       "dtype: int64"
      ]
     },
     "execution_count": 6,
     "metadata": {},
     "output_type": "execute_result"
    }
   ],
   "source": [
    "train.isnull().sum()"
   ]
  },
  {
   "cell_type": "code",
   "execution_count": 7,
   "id": "5d6b01bb",
   "metadata": {},
   "outputs": [
    {
     "data": {
      "text/plain": [
       "Index(['User_ID', 'Product_ID', 'Gender', 'Age', 'Occupation', 'City_Category',\n",
       "       'Stay_In_Current_City_Years', 'Marital_Status', 'Product_Category_1',\n",
       "       'Product_Category_2', 'Product_Category_3', 'Purchase'],\n",
       "      dtype='object')"
      ]
     },
     "execution_count": 7,
     "metadata": {},
     "output_type": "execute_result"
    }
   ],
   "source": [
    "train.columns"
   ]
  },
  {
   "cell_type": "code",
   "execution_count": 8,
   "id": "7a3724ff",
   "metadata": {},
   "outputs": [
    {
     "data": {
      "text/plain": [
       "User_ID                            0\n",
       "Product_ID                         0\n",
       "Gender                             0\n",
       "Age                                0\n",
       "Occupation                         0\n",
       "City_Category                      0\n",
       "Stay_In_Current_City_Years         0\n",
       "Marital_Status                     0\n",
       "Product_Category_1                 0\n",
       "Product_Category_2             72344\n",
       "Product_Category_3            162562\n",
       "dtype: int64"
      ]
     },
     "execution_count": 8,
     "metadata": {},
     "output_type": "execute_result"
    }
   ],
   "source": [
    "test.isnull().sum()"
   ]
  },
  {
   "cell_type": "code",
   "execution_count": 9,
   "id": "3886172f",
   "metadata": {},
   "outputs": [],
   "source": [
    "data = pd.concat([train,test],axis=0,join='outer')"
   ]
  },
  {
   "cell_type": "code",
   "execution_count": 10,
   "id": "4ef21515",
   "metadata": {},
   "outputs": [
    {
     "data": {
      "text/html": [
       "<div>\n",
       "<style scoped>\n",
       "    .dataframe tbody tr th:only-of-type {\n",
       "        vertical-align: middle;\n",
       "    }\n",
       "\n",
       "    .dataframe tbody tr th {\n",
       "        vertical-align: top;\n",
       "    }\n",
       "\n",
       "    .dataframe thead th {\n",
       "        text-align: right;\n",
       "    }\n",
       "</style>\n",
       "<table border=\"1\" class=\"dataframe\">\n",
       "  <thead>\n",
       "    <tr style=\"text-align: right;\">\n",
       "      <th></th>\n",
       "      <th>User_ID</th>\n",
       "      <th>Product_ID</th>\n",
       "      <th>Gender</th>\n",
       "      <th>Age</th>\n",
       "      <th>Occupation</th>\n",
       "      <th>City_Category</th>\n",
       "      <th>Stay_In_Current_City_Years</th>\n",
       "      <th>Marital_Status</th>\n",
       "      <th>Product_Category_1</th>\n",
       "      <th>Product_Category_2</th>\n",
       "      <th>Product_Category_3</th>\n",
       "      <th>Purchase</th>\n",
       "    </tr>\n",
       "  </thead>\n",
       "  <tbody>\n",
       "    <tr>\n",
       "      <th>0</th>\n",
       "      <td>1000001</td>\n",
       "      <td>P00069042</td>\n",
       "      <td>F</td>\n",
       "      <td>0-17</td>\n",
       "      <td>10</td>\n",
       "      <td>A</td>\n",
       "      <td>2</td>\n",
       "      <td>0</td>\n",
       "      <td>3</td>\n",
       "      <td>NaN</td>\n",
       "      <td>NaN</td>\n",
       "      <td>8370.0</td>\n",
       "    </tr>\n",
       "    <tr>\n",
       "      <th>1</th>\n",
       "      <td>1000001</td>\n",
       "      <td>P00248942</td>\n",
       "      <td>F</td>\n",
       "      <td>0-17</td>\n",
       "      <td>10</td>\n",
       "      <td>A</td>\n",
       "      <td>2</td>\n",
       "      <td>0</td>\n",
       "      <td>1</td>\n",
       "      <td>6.0</td>\n",
       "      <td>14.0</td>\n",
       "      <td>15200.0</td>\n",
       "    </tr>\n",
       "    <tr>\n",
       "      <th>2</th>\n",
       "      <td>1000001</td>\n",
       "      <td>P00087842</td>\n",
       "      <td>F</td>\n",
       "      <td>0-17</td>\n",
       "      <td>10</td>\n",
       "      <td>A</td>\n",
       "      <td>2</td>\n",
       "      <td>0</td>\n",
       "      <td>12</td>\n",
       "      <td>NaN</td>\n",
       "      <td>NaN</td>\n",
       "      <td>1422.0</td>\n",
       "    </tr>\n",
       "    <tr>\n",
       "      <th>3</th>\n",
       "      <td>1000001</td>\n",
       "      <td>P00085442</td>\n",
       "      <td>F</td>\n",
       "      <td>0-17</td>\n",
       "      <td>10</td>\n",
       "      <td>A</td>\n",
       "      <td>2</td>\n",
       "      <td>0</td>\n",
       "      <td>12</td>\n",
       "      <td>14.0</td>\n",
       "      <td>NaN</td>\n",
       "      <td>1057.0</td>\n",
       "    </tr>\n",
       "    <tr>\n",
       "      <th>4</th>\n",
       "      <td>1000002</td>\n",
       "      <td>P00285442</td>\n",
       "      <td>M</td>\n",
       "      <td>55+</td>\n",
       "      <td>16</td>\n",
       "      <td>C</td>\n",
       "      <td>4+</td>\n",
       "      <td>0</td>\n",
       "      <td>8</td>\n",
       "      <td>NaN</td>\n",
       "      <td>NaN</td>\n",
       "      <td>7969.0</td>\n",
       "    </tr>\n",
       "    <tr>\n",
       "      <th>...</th>\n",
       "      <td>...</td>\n",
       "      <td>...</td>\n",
       "      <td>...</td>\n",
       "      <td>...</td>\n",
       "      <td>...</td>\n",
       "      <td>...</td>\n",
       "      <td>...</td>\n",
       "      <td>...</td>\n",
       "      <td>...</td>\n",
       "      <td>...</td>\n",
       "      <td>...</td>\n",
       "      <td>...</td>\n",
       "    </tr>\n",
       "    <tr>\n",
       "      <th>233594</th>\n",
       "      <td>1006036</td>\n",
       "      <td>P00118942</td>\n",
       "      <td>F</td>\n",
       "      <td>26-35</td>\n",
       "      <td>15</td>\n",
       "      <td>B</td>\n",
       "      <td>4+</td>\n",
       "      <td>1</td>\n",
       "      <td>8</td>\n",
       "      <td>NaN</td>\n",
       "      <td>NaN</td>\n",
       "      <td>NaN</td>\n",
       "    </tr>\n",
       "    <tr>\n",
       "      <th>233595</th>\n",
       "      <td>1006036</td>\n",
       "      <td>P00254642</td>\n",
       "      <td>F</td>\n",
       "      <td>26-35</td>\n",
       "      <td>15</td>\n",
       "      <td>B</td>\n",
       "      <td>4+</td>\n",
       "      <td>1</td>\n",
       "      <td>5</td>\n",
       "      <td>8.0</td>\n",
       "      <td>NaN</td>\n",
       "      <td>NaN</td>\n",
       "    </tr>\n",
       "    <tr>\n",
       "      <th>233596</th>\n",
       "      <td>1006036</td>\n",
       "      <td>P00031842</td>\n",
       "      <td>F</td>\n",
       "      <td>26-35</td>\n",
       "      <td>15</td>\n",
       "      <td>B</td>\n",
       "      <td>4+</td>\n",
       "      <td>1</td>\n",
       "      <td>1</td>\n",
       "      <td>5.0</td>\n",
       "      <td>12.0</td>\n",
       "      <td>NaN</td>\n",
       "    </tr>\n",
       "    <tr>\n",
       "      <th>233597</th>\n",
       "      <td>1006037</td>\n",
       "      <td>P00124742</td>\n",
       "      <td>F</td>\n",
       "      <td>46-50</td>\n",
       "      <td>1</td>\n",
       "      <td>C</td>\n",
       "      <td>4+</td>\n",
       "      <td>0</td>\n",
       "      <td>10</td>\n",
       "      <td>16.0</td>\n",
       "      <td>NaN</td>\n",
       "      <td>NaN</td>\n",
       "    </tr>\n",
       "    <tr>\n",
       "      <th>233598</th>\n",
       "      <td>1006039</td>\n",
       "      <td>P00316642</td>\n",
       "      <td>F</td>\n",
       "      <td>46-50</td>\n",
       "      <td>0</td>\n",
       "      <td>B</td>\n",
       "      <td>4+</td>\n",
       "      <td>1</td>\n",
       "      <td>4</td>\n",
       "      <td>5.0</td>\n",
       "      <td>NaN</td>\n",
       "      <td>NaN</td>\n",
       "    </tr>\n",
       "  </tbody>\n",
       "</table>\n",
       "<p>783667 rows × 12 columns</p>\n",
       "</div>"
      ],
      "text/plain": [
       "        User_ID Product_ID Gender    Age  Occupation City_Category  \\\n",
       "0       1000001  P00069042      F   0-17          10             A   \n",
       "1       1000001  P00248942      F   0-17          10             A   \n",
       "2       1000001  P00087842      F   0-17          10             A   \n",
       "3       1000001  P00085442      F   0-17          10             A   \n",
       "4       1000002  P00285442      M    55+          16             C   \n",
       "...         ...        ...    ...    ...         ...           ...   \n",
       "233594  1006036  P00118942      F  26-35          15             B   \n",
       "233595  1006036  P00254642      F  26-35          15             B   \n",
       "233596  1006036  P00031842      F  26-35          15             B   \n",
       "233597  1006037  P00124742      F  46-50           1             C   \n",
       "233598  1006039  P00316642      F  46-50           0             B   \n",
       "\n",
       "       Stay_In_Current_City_Years  Marital_Status  Product_Category_1  \\\n",
       "0                               2               0                   3   \n",
       "1                               2               0                   1   \n",
       "2                               2               0                  12   \n",
       "3                               2               0                  12   \n",
       "4                              4+               0                   8   \n",
       "...                           ...             ...                 ...   \n",
       "233594                         4+               1                   8   \n",
       "233595                         4+               1                   5   \n",
       "233596                         4+               1                   1   \n",
       "233597                         4+               0                  10   \n",
       "233598                         4+               1                   4   \n",
       "\n",
       "        Product_Category_2  Product_Category_3  Purchase  \n",
       "0                      NaN                 NaN    8370.0  \n",
       "1                      6.0                14.0   15200.0  \n",
       "2                      NaN                 NaN    1422.0  \n",
       "3                     14.0                 NaN    1057.0  \n",
       "4                      NaN                 NaN    7969.0  \n",
       "...                    ...                 ...       ...  \n",
       "233594                 NaN                 NaN       NaN  \n",
       "233595                 8.0                 NaN       NaN  \n",
       "233596                 5.0                12.0       NaN  \n",
       "233597                16.0                 NaN       NaN  \n",
       "233598                 5.0                 NaN       NaN  \n",
       "\n",
       "[783667 rows x 12 columns]"
      ]
     },
     "execution_count": 10,
     "metadata": {},
     "output_type": "execute_result"
    }
   ],
   "source": [
    "data"
   ]
  },
  {
   "cell_type": "code",
   "execution_count": 11,
   "id": "255e92d5",
   "metadata": {},
   "outputs": [
    {
     "data": {
      "text/plain": [
       "User_ID                            0\n",
       "Product_ID                         0\n",
       "Gender                             0\n",
       "Age                                0\n",
       "Occupation                         0\n",
       "City_Category                      0\n",
       "Stay_In_Current_City_Years         0\n",
       "Marital_Status                     0\n",
       "Product_Category_1                 0\n",
       "Product_Category_2            245982\n",
       "Product_Category_3            545809\n",
       "Purchase                      233599\n",
       "dtype: int64"
      ]
     },
     "execution_count": 11,
     "metadata": {},
     "output_type": "execute_result"
    }
   ],
   "source": [
    "data.isnull().sum()"
   ]
  },
  {
   "cell_type": "code",
   "execution_count": 12,
   "id": "4bcb8ed9",
   "metadata": {},
   "outputs": [
    {
     "data": {
      "text/html": [
       "<div>\n",
       "<style scoped>\n",
       "    .dataframe tbody tr th:only-of-type {\n",
       "        vertical-align: middle;\n",
       "    }\n",
       "\n",
       "    .dataframe tbody tr th {\n",
       "        vertical-align: top;\n",
       "    }\n",
       "\n",
       "    .dataframe thead th {\n",
       "        text-align: right;\n",
       "    }\n",
       "</style>\n",
       "<table border=\"1\" class=\"dataframe\">\n",
       "  <thead>\n",
       "    <tr style=\"text-align: right;\">\n",
       "      <th></th>\n",
       "      <th>User_ID</th>\n",
       "      <th>Product_ID</th>\n",
       "      <th>Gender</th>\n",
       "      <th>Age</th>\n",
       "      <th>Occupation</th>\n",
       "      <th>City_Category</th>\n",
       "      <th>Stay_In_Current_City_Years</th>\n",
       "      <th>Marital_Status</th>\n",
       "      <th>Product_Category_1</th>\n",
       "      <th>Product_Category_2</th>\n",
       "      <th>Product_Category_3</th>\n",
       "      <th>Purchase</th>\n",
       "    </tr>\n",
       "  </thead>\n",
       "  <tbody>\n",
       "    <tr>\n",
       "      <th>0</th>\n",
       "      <td>1000001</td>\n",
       "      <td>P00069042</td>\n",
       "      <td>F</td>\n",
       "      <td>0-17</td>\n",
       "      <td>10</td>\n",
       "      <td>A</td>\n",
       "      <td>2</td>\n",
       "      <td>0</td>\n",
       "      <td>3</td>\n",
       "      <td>NaN</td>\n",
       "      <td>NaN</td>\n",
       "      <td>8370.0</td>\n",
       "    </tr>\n",
       "    <tr>\n",
       "      <th>1</th>\n",
       "      <td>1000001</td>\n",
       "      <td>P00248942</td>\n",
       "      <td>F</td>\n",
       "      <td>0-17</td>\n",
       "      <td>10</td>\n",
       "      <td>A</td>\n",
       "      <td>2</td>\n",
       "      <td>0</td>\n",
       "      <td>1</td>\n",
       "      <td>6.0</td>\n",
       "      <td>14.0</td>\n",
       "      <td>15200.0</td>\n",
       "    </tr>\n",
       "    <tr>\n",
       "      <th>2</th>\n",
       "      <td>1000001</td>\n",
       "      <td>P00087842</td>\n",
       "      <td>F</td>\n",
       "      <td>0-17</td>\n",
       "      <td>10</td>\n",
       "      <td>A</td>\n",
       "      <td>2</td>\n",
       "      <td>0</td>\n",
       "      <td>12</td>\n",
       "      <td>NaN</td>\n",
       "      <td>NaN</td>\n",
       "      <td>1422.0</td>\n",
       "    </tr>\n",
       "    <tr>\n",
       "      <th>3</th>\n",
       "      <td>1000001</td>\n",
       "      <td>P00085442</td>\n",
       "      <td>F</td>\n",
       "      <td>0-17</td>\n",
       "      <td>10</td>\n",
       "      <td>A</td>\n",
       "      <td>2</td>\n",
       "      <td>0</td>\n",
       "      <td>12</td>\n",
       "      <td>14.0</td>\n",
       "      <td>NaN</td>\n",
       "      <td>1057.0</td>\n",
       "    </tr>\n",
       "    <tr>\n",
       "      <th>4</th>\n",
       "      <td>1000002</td>\n",
       "      <td>P00285442</td>\n",
       "      <td>M</td>\n",
       "      <td>55+</td>\n",
       "      <td>16</td>\n",
       "      <td>C</td>\n",
       "      <td>4+</td>\n",
       "      <td>0</td>\n",
       "      <td>8</td>\n",
       "      <td>NaN</td>\n",
       "      <td>NaN</td>\n",
       "      <td>7969.0</td>\n",
       "    </tr>\n",
       "  </tbody>\n",
       "</table>\n",
       "</div>"
      ],
      "text/plain": [
       "   User_ID Product_ID Gender   Age  Occupation City_Category  \\\n",
       "0  1000001  P00069042      F  0-17          10             A   \n",
       "1  1000001  P00248942      F  0-17          10             A   \n",
       "2  1000001  P00087842      F  0-17          10             A   \n",
       "3  1000001  P00085442      F  0-17          10             A   \n",
       "4  1000002  P00285442      M   55+          16             C   \n",
       "\n",
       "  Stay_In_Current_City_Years  Marital_Status  Product_Category_1  \\\n",
       "0                          2               0                   3   \n",
       "1                          2               0                   1   \n",
       "2                          2               0                  12   \n",
       "3                          2               0                  12   \n",
       "4                         4+               0                   8   \n",
       "\n",
       "   Product_Category_2  Product_Category_3  Purchase  \n",
       "0                 NaN                 NaN    8370.0  \n",
       "1                 6.0                14.0   15200.0  \n",
       "2                 NaN                 NaN    1422.0  \n",
       "3                14.0                 NaN    1057.0  \n",
       "4                 NaN                 NaN    7969.0  "
      ]
     },
     "execution_count": 12,
     "metadata": {},
     "output_type": "execute_result"
    }
   ],
   "source": [
    "data.head()"
   ]
  },
  {
   "cell_type": "code",
   "execution_count": 13,
   "id": "9091a031",
   "metadata": {},
   "outputs": [],
   "source": [
    "data['Product_Category_2'].fillna(0,inplace=True)\n",
    "data['Product_Category_3'].fillna(0,inplace=True)"
   ]
  },
  {
   "cell_type": "code",
   "execution_count": 14,
   "id": "4156dc15",
   "metadata": {},
   "outputs": [
    {
     "data": {
      "text/plain": [
       "User_ID                            0\n",
       "Product_ID                         0\n",
       "Gender                             0\n",
       "Age                                0\n",
       "Occupation                         0\n",
       "City_Category                      0\n",
       "Stay_In_Current_City_Years         0\n",
       "Marital_Status                     0\n",
       "Product_Category_1                 0\n",
       "Product_Category_2                 0\n",
       "Product_Category_3                 0\n",
       "Purchase                      233599\n",
       "dtype: int64"
      ]
     },
     "execution_count": 14,
     "metadata": {},
     "output_type": "execute_result"
    }
   ],
   "source": [
    "data.isnull().sum()"
   ]
  },
  {
   "cell_type": "code",
   "execution_count": 15,
   "id": "1a101e7c",
   "metadata": {},
   "outputs": [
    {
     "data": {
      "text/html": [
       "<div>\n",
       "<style scoped>\n",
       "    .dataframe tbody tr th:only-of-type {\n",
       "        vertical-align: middle;\n",
       "    }\n",
       "\n",
       "    .dataframe tbody tr th {\n",
       "        vertical-align: top;\n",
       "    }\n",
       "\n",
       "    .dataframe thead th {\n",
       "        text-align: right;\n",
       "    }\n",
       "</style>\n",
       "<table border=\"1\" class=\"dataframe\">\n",
       "  <thead>\n",
       "    <tr style=\"text-align: right;\">\n",
       "      <th></th>\n",
       "      <th>User_ID</th>\n",
       "      <th>Product_ID</th>\n",
       "      <th>Gender</th>\n",
       "      <th>Age</th>\n",
       "      <th>Occupation</th>\n",
       "      <th>City_Category</th>\n",
       "      <th>Stay_In_Current_City_Years</th>\n",
       "      <th>Marital_Status</th>\n",
       "      <th>Product_Category_1</th>\n",
       "      <th>Product_Category_2</th>\n",
       "      <th>Product_Category_3</th>\n",
       "      <th>Purchase</th>\n",
       "    </tr>\n",
       "  </thead>\n",
       "  <tbody>\n",
       "    <tr>\n",
       "      <th>0</th>\n",
       "      <td>1000001</td>\n",
       "      <td>P00069042</td>\n",
       "      <td>F</td>\n",
       "      <td>0-17</td>\n",
       "      <td>10</td>\n",
       "      <td>A</td>\n",
       "      <td>2</td>\n",
       "      <td>0</td>\n",
       "      <td>3</td>\n",
       "      <td>0.0</td>\n",
       "      <td>0.0</td>\n",
       "      <td>8370.0</td>\n",
       "    </tr>\n",
       "    <tr>\n",
       "      <th>1</th>\n",
       "      <td>1000001</td>\n",
       "      <td>P00248942</td>\n",
       "      <td>F</td>\n",
       "      <td>0-17</td>\n",
       "      <td>10</td>\n",
       "      <td>A</td>\n",
       "      <td>2</td>\n",
       "      <td>0</td>\n",
       "      <td>1</td>\n",
       "      <td>6.0</td>\n",
       "      <td>14.0</td>\n",
       "      <td>15200.0</td>\n",
       "    </tr>\n",
       "    <tr>\n",
       "      <th>2</th>\n",
       "      <td>1000001</td>\n",
       "      <td>P00087842</td>\n",
       "      <td>F</td>\n",
       "      <td>0-17</td>\n",
       "      <td>10</td>\n",
       "      <td>A</td>\n",
       "      <td>2</td>\n",
       "      <td>0</td>\n",
       "      <td>12</td>\n",
       "      <td>0.0</td>\n",
       "      <td>0.0</td>\n",
       "      <td>1422.0</td>\n",
       "    </tr>\n",
       "    <tr>\n",
       "      <th>3</th>\n",
       "      <td>1000001</td>\n",
       "      <td>P00085442</td>\n",
       "      <td>F</td>\n",
       "      <td>0-17</td>\n",
       "      <td>10</td>\n",
       "      <td>A</td>\n",
       "      <td>2</td>\n",
       "      <td>0</td>\n",
       "      <td>12</td>\n",
       "      <td>14.0</td>\n",
       "      <td>0.0</td>\n",
       "      <td>1057.0</td>\n",
       "    </tr>\n",
       "    <tr>\n",
       "      <th>4</th>\n",
       "      <td>1000002</td>\n",
       "      <td>P00285442</td>\n",
       "      <td>M</td>\n",
       "      <td>55+</td>\n",
       "      <td>16</td>\n",
       "      <td>C</td>\n",
       "      <td>4+</td>\n",
       "      <td>0</td>\n",
       "      <td>8</td>\n",
       "      <td>0.0</td>\n",
       "      <td>0.0</td>\n",
       "      <td>7969.0</td>\n",
       "    </tr>\n",
       "  </tbody>\n",
       "</table>\n",
       "</div>"
      ],
      "text/plain": [
       "   User_ID Product_ID Gender   Age  Occupation City_Category  \\\n",
       "0  1000001  P00069042      F  0-17          10             A   \n",
       "1  1000001  P00248942      F  0-17          10             A   \n",
       "2  1000001  P00087842      F  0-17          10             A   \n",
       "3  1000001  P00085442      F  0-17          10             A   \n",
       "4  1000002  P00285442      M   55+          16             C   \n",
       "\n",
       "  Stay_In_Current_City_Years  Marital_Status  Product_Category_1  \\\n",
       "0                          2               0                   3   \n",
       "1                          2               0                   1   \n",
       "2                          2               0                  12   \n",
       "3                          2               0                  12   \n",
       "4                         4+               0                   8   \n",
       "\n",
       "   Product_Category_2  Product_Category_3  Purchase  \n",
       "0                 0.0                 0.0    8370.0  \n",
       "1                 6.0                14.0   15200.0  \n",
       "2                 0.0                 0.0    1422.0  \n",
       "3                14.0                 0.0    1057.0  \n",
       "4                 0.0                 0.0    7969.0  "
      ]
     },
     "execution_count": 15,
     "metadata": {},
     "output_type": "execute_result"
    }
   ],
   "source": [
    "data.head()"
   ]
  },
  {
   "cell_type": "code",
   "execution_count": 16,
   "id": "b77d856c",
   "metadata": {},
   "outputs": [],
   "source": [
    "#data.drop(columns=['User_ID','Product_ID'],inplace=True)\n",
    "map_userid = data['User_ID'].value_counts()/len(data['User_ID'])\n",
    "data['User_ID'] = data['User_ID'].map(map_userid)"
   ]
  },
  {
   "cell_type": "code",
   "execution_count": 17,
   "id": "8732d10a",
   "metadata": {},
   "outputs": [],
   "source": [
    "map_userid = data['Product_ID'].value_counts()/len(data['Product_ID'])\n",
    "data['Product_ID'] = data['Product_ID'].map(map_userid)"
   ]
  },
  {
   "cell_type": "code",
   "execution_count": 18,
   "id": "2d5a653c",
   "metadata": {},
   "outputs": [
    {
     "data": {
      "text/html": [
       "<div>\n",
       "<style scoped>\n",
       "    .dataframe tbody tr th:only-of-type {\n",
       "        vertical-align: middle;\n",
       "    }\n",
       "\n",
       "    .dataframe tbody tr th {\n",
       "        vertical-align: top;\n",
       "    }\n",
       "\n",
       "    .dataframe thead th {\n",
       "        text-align: right;\n",
       "    }\n",
       "</style>\n",
       "<table border=\"1\" class=\"dataframe\">\n",
       "  <thead>\n",
       "    <tr style=\"text-align: right;\">\n",
       "      <th></th>\n",
       "      <th>User_ID</th>\n",
       "      <th>Product_ID</th>\n",
       "      <th>Gender</th>\n",
       "      <th>Age</th>\n",
       "      <th>Occupation</th>\n",
       "      <th>City_Category</th>\n",
       "      <th>Stay_In_Current_City_Years</th>\n",
       "      <th>Marital_Status</th>\n",
       "      <th>Product_Category_1</th>\n",
       "      <th>Product_Category_2</th>\n",
       "      <th>Product_Category_3</th>\n",
       "      <th>Purchase</th>\n",
       "    </tr>\n",
       "  </thead>\n",
       "  <tbody>\n",
       "    <tr>\n",
       "      <th>0</th>\n",
       "      <td>0.000060</td>\n",
       "      <td>0.000439</td>\n",
       "      <td>F</td>\n",
       "      <td>0-17</td>\n",
       "      <td>10</td>\n",
       "      <td>A</td>\n",
       "      <td>2</td>\n",
       "      <td>0</td>\n",
       "      <td>3</td>\n",
       "      <td>0.0</td>\n",
       "      <td>0.0</td>\n",
       "      <td>8370.0</td>\n",
       "    </tr>\n",
       "    <tr>\n",
       "      <th>1</th>\n",
       "      <td>0.000060</td>\n",
       "      <td>0.001078</td>\n",
       "      <td>F</td>\n",
       "      <td>0-17</td>\n",
       "      <td>10</td>\n",
       "      <td>A</td>\n",
       "      <td>2</td>\n",
       "      <td>0</td>\n",
       "      <td>1</td>\n",
       "      <td>6.0</td>\n",
       "      <td>14.0</td>\n",
       "      <td>15200.0</td>\n",
       "    </tr>\n",
       "    <tr>\n",
       "      <th>2</th>\n",
       "      <td>0.000060</td>\n",
       "      <td>0.000191</td>\n",
       "      <td>F</td>\n",
       "      <td>0-17</td>\n",
       "      <td>10</td>\n",
       "      <td>A</td>\n",
       "      <td>2</td>\n",
       "      <td>0</td>\n",
       "      <td>12</td>\n",
       "      <td>0.0</td>\n",
       "      <td>0.0</td>\n",
       "      <td>1422.0</td>\n",
       "    </tr>\n",
       "    <tr>\n",
       "      <th>3</th>\n",
       "      <td>0.000060</td>\n",
       "      <td>0.000633</td>\n",
       "      <td>F</td>\n",
       "      <td>0-17</td>\n",
       "      <td>10</td>\n",
       "      <td>A</td>\n",
       "      <td>2</td>\n",
       "      <td>0</td>\n",
       "      <td>12</td>\n",
       "      <td>14.0</td>\n",
       "      <td>0.0</td>\n",
       "      <td>1057.0</td>\n",
       "    </tr>\n",
       "    <tr>\n",
       "      <th>4</th>\n",
       "      <td>0.000137</td>\n",
       "      <td>0.000361</td>\n",
       "      <td>M</td>\n",
       "      <td>55+</td>\n",
       "      <td>16</td>\n",
       "      <td>C</td>\n",
       "      <td>4+</td>\n",
       "      <td>0</td>\n",
       "      <td>8</td>\n",
       "      <td>0.0</td>\n",
       "      <td>0.0</td>\n",
       "      <td>7969.0</td>\n",
       "    </tr>\n",
       "  </tbody>\n",
       "</table>\n",
       "</div>"
      ],
      "text/plain": [
       "    User_ID  Product_ID Gender   Age  Occupation City_Category  \\\n",
       "0  0.000060    0.000439      F  0-17          10             A   \n",
       "1  0.000060    0.001078      F  0-17          10             A   \n",
       "2  0.000060    0.000191      F  0-17          10             A   \n",
       "3  0.000060    0.000633      F  0-17          10             A   \n",
       "4  0.000137    0.000361      M   55+          16             C   \n",
       "\n",
       "  Stay_In_Current_City_Years  Marital_Status  Product_Category_1  \\\n",
       "0                          2               0                   3   \n",
       "1                          2               0                   1   \n",
       "2                          2               0                  12   \n",
       "3                          2               0                  12   \n",
       "4                         4+               0                   8   \n",
       "\n",
       "   Product_Category_2  Product_Category_3  Purchase  \n",
       "0                 0.0                 0.0    8370.0  \n",
       "1                 6.0                14.0   15200.0  \n",
       "2                 0.0                 0.0    1422.0  \n",
       "3                14.0                 0.0    1057.0  \n",
       "4                 0.0                 0.0    7969.0  "
      ]
     },
     "execution_count": 18,
     "metadata": {},
     "output_type": "execute_result"
    }
   ],
   "source": [
    "data.head()"
   ]
  },
  {
   "cell_type": "code",
   "execution_count": 19,
   "id": "54baea15",
   "metadata": {},
   "outputs": [
    {
     "data": {
      "text/html": [
       "<div>\n",
       "<style scoped>\n",
       "    .dataframe tbody tr th:only-of-type {\n",
       "        vertical-align: middle;\n",
       "    }\n",
       "\n",
       "    .dataframe tbody tr th {\n",
       "        vertical-align: top;\n",
       "    }\n",
       "\n",
       "    .dataframe thead th {\n",
       "        text-align: right;\n",
       "    }\n",
       "</style>\n",
       "<table border=\"1\" class=\"dataframe\">\n",
       "  <thead>\n",
       "    <tr style=\"text-align: right;\">\n",
       "      <th></th>\n",
       "      <th>User_ID</th>\n",
       "      <th>Product_ID</th>\n",
       "      <th>Gender</th>\n",
       "      <th>Age</th>\n",
       "      <th>Occupation</th>\n",
       "      <th>City_Category</th>\n",
       "      <th>Stay_In_Current_City_Years</th>\n",
       "      <th>Marital_Status</th>\n",
       "      <th>Product_Category_1</th>\n",
       "      <th>Product_Category_2</th>\n",
       "      <th>Product_Category_3</th>\n",
       "      <th>Purchase</th>\n",
       "    </tr>\n",
       "  </thead>\n",
       "  <tbody>\n",
       "    <tr>\n",
       "      <th>0</th>\n",
       "      <td>0.000060</td>\n",
       "      <td>0.000439</td>\n",
       "      <td>F</td>\n",
       "      <td>0-17</td>\n",
       "      <td>10</td>\n",
       "      <td>A</td>\n",
       "      <td>2</td>\n",
       "      <td>0</td>\n",
       "      <td>3</td>\n",
       "      <td>0.0</td>\n",
       "      <td>0.0</td>\n",
       "      <td>8370.0</td>\n",
       "    </tr>\n",
       "    <tr>\n",
       "      <th>1</th>\n",
       "      <td>0.000060</td>\n",
       "      <td>0.001078</td>\n",
       "      <td>F</td>\n",
       "      <td>0-17</td>\n",
       "      <td>10</td>\n",
       "      <td>A</td>\n",
       "      <td>2</td>\n",
       "      <td>0</td>\n",
       "      <td>1</td>\n",
       "      <td>6.0</td>\n",
       "      <td>14.0</td>\n",
       "      <td>15200.0</td>\n",
       "    </tr>\n",
       "    <tr>\n",
       "      <th>2</th>\n",
       "      <td>0.000060</td>\n",
       "      <td>0.000191</td>\n",
       "      <td>F</td>\n",
       "      <td>0-17</td>\n",
       "      <td>10</td>\n",
       "      <td>A</td>\n",
       "      <td>2</td>\n",
       "      <td>0</td>\n",
       "      <td>12</td>\n",
       "      <td>0.0</td>\n",
       "      <td>0.0</td>\n",
       "      <td>1422.0</td>\n",
       "    </tr>\n",
       "    <tr>\n",
       "      <th>3</th>\n",
       "      <td>0.000060</td>\n",
       "      <td>0.000633</td>\n",
       "      <td>F</td>\n",
       "      <td>0-17</td>\n",
       "      <td>10</td>\n",
       "      <td>A</td>\n",
       "      <td>2</td>\n",
       "      <td>0</td>\n",
       "      <td>12</td>\n",
       "      <td>14.0</td>\n",
       "      <td>0.0</td>\n",
       "      <td>1057.0</td>\n",
       "    </tr>\n",
       "    <tr>\n",
       "      <th>4</th>\n",
       "      <td>0.000137</td>\n",
       "      <td>0.000361</td>\n",
       "      <td>M</td>\n",
       "      <td>55+</td>\n",
       "      <td>16</td>\n",
       "      <td>C</td>\n",
       "      <td>4+</td>\n",
       "      <td>0</td>\n",
       "      <td>8</td>\n",
       "      <td>0.0</td>\n",
       "      <td>0.0</td>\n",
       "      <td>7969.0</td>\n",
       "    </tr>\n",
       "  </tbody>\n",
       "</table>\n",
       "</div>"
      ],
      "text/plain": [
       "    User_ID  Product_ID Gender   Age  Occupation City_Category  \\\n",
       "0  0.000060    0.000439      F  0-17          10             A   \n",
       "1  0.000060    0.001078      F  0-17          10             A   \n",
       "2  0.000060    0.000191      F  0-17          10             A   \n",
       "3  0.000060    0.000633      F  0-17          10             A   \n",
       "4  0.000137    0.000361      M   55+          16             C   \n",
       "\n",
       "  Stay_In_Current_City_Years  Marital_Status  Product_Category_1  \\\n",
       "0                          2               0                   3   \n",
       "1                          2               0                   1   \n",
       "2                          2               0                  12   \n",
       "3                          2               0                  12   \n",
       "4                         4+               0                   8   \n",
       "\n",
       "   Product_Category_2  Product_Category_3  Purchase  \n",
       "0                 0.0                 0.0    8370.0  \n",
       "1                 6.0                14.0   15200.0  \n",
       "2                 0.0                 0.0    1422.0  \n",
       "3                14.0                 0.0    1057.0  \n",
       "4                 0.0                 0.0    7969.0  "
      ]
     },
     "execution_count": 19,
     "metadata": {},
     "output_type": "execute_result"
    }
   ],
   "source": [
    "data.head()"
   ]
  },
  {
   "cell_type": "code",
   "execution_count": 20,
   "id": "a081ed79",
   "metadata": {},
   "outputs": [
    {
     "data": {
      "image/png": "[encoded data removed]",
      "text/plain": [
       "<Figure size 720x360 with 1 Axes>"
      ]
     },
     "metadata": {
      "needs_background": "light"
     },
     "output_type": "display_data"
    },
    {
     "data": {
      "image/png": "[encoded data removed]",
      "text/plain": [
       "<Figure size 720x360 with 1 Axes>"
      ]
     },
     "metadata": {
      "needs_background": "light"
     },
     "output_type": "display_data"
    },
    {
     "data": {
      "image/png": "[encoded data removed]",
      "text/plain": [
       "<Figure size 720x360 with 1 Axes>"
      ]
     },
     "metadata": {
      "needs_background": "light"
     },
     "output_type": "display_data"
    },
    {
     "data": {
      "image/png": "[encoded data removed]",
      "text/plain": [
       "<Figure size 720x360 with 1 Axes>"
      ]
     },
     "metadata": {
      "needs_background": "light"
     },
     "output_type": "display_data"
    },
    {
     "data": {
      "image/png": "[encoded data removed]",
      "text/plain": [
       "<Figure size 720x360 with 1 Axes>"
      ]
     },
     "metadata": {
      "needs_background": "light"
     },
     "output_type": "display_data"
    },
    {
     "data": {
      "image/png": "[encoded data removed]",
      "text/plain": [
       "<Figure size 720x360 with 1 Axes>"
      ]
     },
     "metadata": {
      "needs_background": "light"
     },
     "output_type": "display_data"
    },
    {
     "data": {
      "image/png": "[encoded data removed]",
      "text/plain": [
       "<Figure size 720x360 with 1 Axes>"
      ]
     },
     "metadata": {
      "needs_background": "light"
     },
     "output_type": "display_data"
    },
    {
     "data": {
      "image/png": "[encoded data removed]",
      "text/plain": [
       "<Figure size 720x360 with 1 Axes>"
      ]
     },
     "metadata": {
      "needs_background": "light"
     },
     "output_type": "display_data"
    },
    {
     "data": {
      "image/png": "[encoded data removed]",
      "text/plain": [
       "<Figure size 720x360 with 1 Axes>"
      ]
     },
     "metadata": {
      "needs_background": "light"
     },
     "output_type": "display_data"
    },
    {
     "data": {
      "image/png": "[encoded data removed]",
      "text/plain": [
       "<Figure size 720x360 with 1 Axes>"
      ]
     },
     "metadata": {
      "needs_background": "light"
     },
     "output_type": "display_data"
    },
    {
     "data": {
      "image/png": "[encoded data removed]",
      "text/plain": [
       "<Figure size 720x360 with 1 Axes>"
      ]
     },
     "metadata": {
      "needs_background": "light"
     },
     "output_type": "display_data"
    },
    {
     "data": {
      "text/plain": [
       "<Figure size 720x360 with 0 Axes>"
      ]
     },
     "metadata": {},
     "output_type": "display_data"
    }
   ],
   "source": [
    "#plt.figure(figsize=(10,7))\n",
    "for i in data.columns:\n",
    "    plt.figure(figsize=(10,5))\n",
    "    if i != 'Purchase':\n",
    "        sns.countplot(data[i])\n",
    "        plt.show()"
   ]
  },
  {
   "cell_type": "code",
   "execution_count": 21,
   "id": "5259eaa0",
   "metadata": {},
   "outputs": [
    {
     "data": {
      "image/png": "[encoded data removed]",
      "text/plain": [
       "<Figure size 720x360 with 1 Axes>"
      ]
     },
     "metadata": {
      "needs_background": "light"
     },
     "output_type": "display_data"
    },
    {
     "data": {
      "image/png": "[encoded data removed]",
      "text/plain": [
       "<Figure size 720x360 with 1 Axes>"
      ]
     },
     "metadata": {
      "needs_background": "light"
     },
     "output_type": "display_data"
    },
    {
     "data": {
      "image/png": "[encoded data removed]",
      "text/plain": [
       "<Figure size 720x360 with 1 Axes>"
      ]
     },
     "metadata": {
      "needs_background": "light"
     },
     "output_type": "display_data"
    },
    {
     "data": {
      "image/png": "[encoded data removed]",
      "text/plain": [
       "<Figure size 720x360 with 1 Axes>"
      ]
     },
     "metadata": {
      "needs_background": "light"
     },
     "output_type": "display_data"
    },
    {
     "data": {
      "image/png": "[encoded data removed]",
      "text/plain": [
       "<Figure size 720x360 with 1 Axes>"
      ]
     },
     "metadata": {
      "needs_background": "light"
     },
     "output_type": "display_data"
    },
    {
     "data": {
      "image/png": "[encoded data removed]",
      "text/plain": [
       "<Figure size 720x360 with 1 Axes>"
      ]
     },
     "metadata": {
      "needs_background": "light"
     },
     "output_type": "display_data"
    },
    {
     "data": {
      "image/png": "[encoded data removed]",
      "text/plain": [
       "<Figure size 720x360 with 1 Axes>"
      ]
     },
     "metadata": {
      "needs_background": "light"
     },
     "output_type": "display_data"
    },
    {
     "data": {
      "image/png": "[encoded data removed]",
      "text/plain": [
       "<Figure size 720x360 with 1 Axes>"
      ]
     },
     "metadata": {
      "needs_background": "light"
     },
     "output_type": "display_data"
    },
    {
     "data": {
      "image/png": "[encoded data removed]",
      "text/plain": [
       "<Figure size 720x360 with 1 Axes>"
      ]
     },
     "metadata": {
      "needs_background": "light"
     },
     "output_type": "display_data"
    },
    {
     "data": {
      "image/png": "[encoded data removed]",
      "text/plain": [
       "<Figure size 720x360 with 1 Axes>"
      ]
     },
     "metadata": {
      "needs_background": "light"
     },
     "output_type": "display_data"
    },
    {
     "data": {
      "image/png": "[encoded data removed]",
      "text/plain": [
       "<Figure size 720x360 with 1 Axes>"
      ]
     },
     "metadata": {
      "needs_background": "light"
     },
     "output_type": "display_data"
    },
    {
     "data": {
      "text/plain": [
       "<Figure size 720x360 with 0 Axes>"
      ]
     },
     "metadata": {},
     "output_type": "display_data"
    }
   ],
   "source": [
    "for i in data.columns:\n",
    "    plt.figure(figsize=(10,5))\n",
    "    if i != 'Purchase':\n",
    "        data.groupby(by=[i])['Purchase'].mean().plot(kind='bar')\n",
    "        plt.show()"
   ]
  },
  {
   "cell_type": "markdown",
   "id": "e1c7ab64",
   "metadata": {},
   "source": [
    "## Categorical treatment"
   ]
  },
  {
   "cell_type": "code",
   "execution_count": 22,
   "id": "452fe2d3",
   "metadata": {},
   "outputs": [
    {
     "data": {
      "text/plain": [
       "User_ID                       float64\n",
       "Product_ID                    float64\n",
       "Gender                         object\n",
       "Age                            object\n",
       "Occupation                      int64\n",
       "City_Category                  object\n",
       "Stay_In_Current_City_Years     object\n",
       "Marital_Status                  int64\n",
       "Product_Category_1              int64\n",
       "Product_Category_2            float64\n",
       "Product_Category_3            float64\n",
       "Purchase                      float64\n",
       "dtype: object"
      ]
     },
     "execution_count": 22,
     "metadata": {},
     "output_type": "execute_result"
    }
   ],
   "source": [
    "data.dtypes"
   ]
  },
  {
   "cell_type": "code",
   "execution_count": 23,
   "id": "98371322",
   "metadata": {},
   "outputs": [
    {
     "data": {
      "text/html": [
       "<div>\n",
       "<style scoped>\n",
       "    .dataframe tbody tr th:only-of-type {\n",
       "        vertical-align: middle;\n",
       "    }\n",
       "\n",
       "    .dataframe tbody tr th {\n",
       "        vertical-align: top;\n",
       "    }\n",
       "\n",
       "    .dataframe thead th {\n",
       "        text-align: right;\n",
       "    }\n",
       "</style>\n",
       "<table border=\"1\" class=\"dataframe\">\n",
       "  <thead>\n",
       "    <tr style=\"text-align: right;\">\n",
       "      <th></th>\n",
       "      <th>User_ID</th>\n",
       "      <th>Product_ID</th>\n",
       "      <th>Gender</th>\n",
       "      <th>Age</th>\n",
       "      <th>Occupation</th>\n",
       "      <th>City_Category</th>\n",
       "      <th>Stay_In_Current_City_Years</th>\n",
       "      <th>Marital_Status</th>\n",
       "      <th>Product_Category_1</th>\n",
       "      <th>Product_Category_2</th>\n",
       "      <th>Product_Category_3</th>\n",
       "      <th>Purchase</th>\n",
       "    </tr>\n",
       "  </thead>\n",
       "  <tbody>\n",
       "    <tr>\n",
       "      <th>0</th>\n",
       "      <td>0.000060</td>\n",
       "      <td>0.000439</td>\n",
       "      <td>F</td>\n",
       "      <td>0-17</td>\n",
       "      <td>10</td>\n",
       "      <td>A</td>\n",
       "      <td>2</td>\n",
       "      <td>0</td>\n",
       "      <td>3</td>\n",
       "      <td>0.0</td>\n",
       "      <td>0.0</td>\n",
       "      <td>8370.0</td>\n",
       "    </tr>\n",
       "    <tr>\n",
       "      <th>1</th>\n",
       "      <td>0.000060</td>\n",
       "      <td>0.001078</td>\n",
       "      <td>F</td>\n",
       "      <td>0-17</td>\n",
       "      <td>10</td>\n",
       "      <td>A</td>\n",
       "      <td>2</td>\n",
       "      <td>0</td>\n",
       "      <td>1</td>\n",
       "      <td>6.0</td>\n",
       "      <td>14.0</td>\n",
       "      <td>15200.0</td>\n",
       "    </tr>\n",
       "    <tr>\n",
       "      <th>2</th>\n",
       "      <td>0.000060</td>\n",
       "      <td>0.000191</td>\n",
       "      <td>F</td>\n",
       "      <td>0-17</td>\n",
       "      <td>10</td>\n",
       "      <td>A</td>\n",
       "      <td>2</td>\n",
       "      <td>0</td>\n",
       "      <td>12</td>\n",
       "      <td>0.0</td>\n",
       "      <td>0.0</td>\n",
       "      <td>1422.0</td>\n",
       "    </tr>\n",
       "    <tr>\n",
       "      <th>3</th>\n",
       "      <td>0.000060</td>\n",
       "      <td>0.000633</td>\n",
       "      <td>F</td>\n",
       "      <td>0-17</td>\n",
       "      <td>10</td>\n",
       "      <td>A</td>\n",
       "      <td>2</td>\n",
       "      <td>0</td>\n",
       "      <td>12</td>\n",
       "      <td>14.0</td>\n",
       "      <td>0.0</td>\n",
       "      <td>1057.0</td>\n",
       "    </tr>\n",
       "    <tr>\n",
       "      <th>4</th>\n",
       "      <td>0.000137</td>\n",
       "      <td>0.000361</td>\n",
       "      <td>M</td>\n",
       "      <td>55+</td>\n",
       "      <td>16</td>\n",
       "      <td>C</td>\n",
       "      <td>4+</td>\n",
       "      <td>0</td>\n",
       "      <td>8</td>\n",
       "      <td>0.0</td>\n",
       "      <td>0.0</td>\n",
       "      <td>7969.0</td>\n",
       "    </tr>\n",
       "  </tbody>\n",
       "</table>\n",
       "</div>"
      ],
      "text/plain": [
       "    User_ID  Product_ID Gender   Age  Occupation City_Category  \\\n",
       "0  0.000060    0.000439      F  0-17          10             A   \n",
       "1  0.000060    0.001078      F  0-17          10             A   \n",
       "2  0.000060    0.000191      F  0-17          10             A   \n",
       "3  0.000060    0.000633      F  0-17          10             A   \n",
       "4  0.000137    0.000361      M   55+          16             C   \n",
       "\n",
       "  Stay_In_Current_City_Years  Marital_Status  Product_Category_1  \\\n",
       "0                          2               0                   3   \n",
       "1                          2               0                   1   \n",
       "2                          2               0                  12   \n",
       "3                          2               0                  12   \n",
       "4                         4+               0                   8   \n",
       "\n",
       "   Product_Category_2  Product_Category_3  Purchase  \n",
       "0                 0.0                 0.0    8370.0  \n",
       "1                 6.0                14.0   15200.0  \n",
       "2                 0.0                 0.0    1422.0  \n",
       "3                14.0                 0.0    1057.0  \n",
       "4                 0.0                 0.0    7969.0  "
      ]
     },
     "execution_count": 23,
     "metadata": {},
     "output_type": "execute_result"
    }
   ],
   "source": [
    "data.head()"
   ]
  },
  {
   "cell_type": "code",
   "execution_count": 24,
   "id": "40f74f37",
   "metadata": {},
   "outputs": [],
   "source": [
    "data['Gender'] = pd.get_dummies(data['Gender'],drop_first=True)"
   ]
  },
  {
   "cell_type": "code",
   "execution_count": 25,
   "id": "91c3a4b2",
   "metadata": {},
   "outputs": [
    {
     "data": {
      "text/html": [
       "<div>\n",
       "<style scoped>\n",
       "    .dataframe tbody tr th:only-of-type {\n",
       "        vertical-align: middle;\n",
       "    }\n",
       "\n",
       "    .dataframe tbody tr th {\n",
       "        vertical-align: top;\n",
       "    }\n",
       "\n",
       "    .dataframe thead th {\n",
       "        text-align: right;\n",
       "    }\n",
       "</style>\n",
       "<table border=\"1\" class=\"dataframe\">\n",
       "  <thead>\n",
       "    <tr style=\"text-align: right;\">\n",
       "      <th></th>\n",
       "      <th>User_ID</th>\n",
       "      <th>Product_ID</th>\n",
       "      <th>Gender</th>\n",
       "      <th>Age</th>\n",
       "      <th>Occupation</th>\n",
       "      <th>City_Category</th>\n",
       "      <th>Stay_In_Current_City_Years</th>\n",
       "      <th>Marital_Status</th>\n",
       "      <th>Product_Category_1</th>\n",
       "      <th>Product_Category_2</th>\n",
       "      <th>Product_Category_3</th>\n",
       "      <th>Purchase</th>\n",
       "    </tr>\n",
       "  </thead>\n",
       "  <tbody>\n",
       "    <tr>\n",
       "      <th>0</th>\n",
       "      <td>0.000060</td>\n",
       "      <td>0.000439</td>\n",
       "      <td>0</td>\n",
       "      <td>0-17</td>\n",
       "      <td>10</td>\n",
       "      <td>A</td>\n",
       "      <td>2</td>\n",
       "      <td>0</td>\n",
       "      <td>3</td>\n",
       "      <td>0.0</td>\n",
       "      <td>0.0</td>\n",
       "      <td>8370.0</td>\n",
       "    </tr>\n",
       "    <tr>\n",
       "      <th>1</th>\n",
       "      <td>0.000060</td>\n",
       "      <td>0.001078</td>\n",
       "      <td>0</td>\n",
       "      <td>0-17</td>\n",
       "      <td>10</td>\n",
       "      <td>A</td>\n",
       "      <td>2</td>\n",
       "      <td>0</td>\n",
       "      <td>1</td>\n",
       "      <td>6.0</td>\n",
       "      <td>14.0</td>\n",
       "      <td>15200.0</td>\n",
       "    </tr>\n",
       "    <tr>\n",
       "      <th>2</th>\n",
       "      <td>0.000060</td>\n",
       "      <td>0.000191</td>\n",
       "      <td>0</td>\n",
       "      <td>0-17</td>\n",
       "      <td>10</td>\n",
       "      <td>A</td>\n",
       "      <td>2</td>\n",
       "      <td>0</td>\n",
       "      <td>12</td>\n",
       "      <td>0.0</td>\n",
       "      <td>0.0</td>\n",
       "      <td>1422.0</td>\n",
       "    </tr>\n",
       "    <tr>\n",
       "      <th>3</th>\n",
       "      <td>0.000060</td>\n",
       "      <td>0.000633</td>\n",
       "      <td>0</td>\n",
       "      <td>0-17</td>\n",
       "      <td>10</td>\n",
       "      <td>A</td>\n",
       "      <td>2</td>\n",
       "      <td>0</td>\n",
       "      <td>12</td>\n",
       "      <td>14.0</td>\n",
       "      <td>0.0</td>\n",
       "      <td>1057.0</td>\n",
       "    </tr>\n",
       "    <tr>\n",
       "      <th>4</th>\n",
       "      <td>0.000137</td>\n",
       "      <td>0.000361</td>\n",
       "      <td>1</td>\n",
       "      <td>55+</td>\n",
       "      <td>16</td>\n",
       "      <td>C</td>\n",
       "      <td>4+</td>\n",
       "      <td>0</td>\n",
       "      <td>8</td>\n",
       "      <td>0.0</td>\n",
       "      <td>0.0</td>\n",
       "      <td>7969.0</td>\n",
       "    </tr>\n",
       "  </tbody>\n",
       "</table>\n",
       "</div>"
      ],
      "text/plain": [
       "    User_ID  Product_ID  Gender   Age  Occupation City_Category  \\\n",
       "0  0.000060    0.000439       0  0-17          10             A   \n",
       "1  0.000060    0.001078       0  0-17          10             A   \n",
       "2  0.000060    0.000191       0  0-17          10             A   \n",
       "3  0.000060    0.000633       0  0-17          10             A   \n",
       "4  0.000137    0.000361       1   55+          16             C   \n",
       "\n",
       "  Stay_In_Current_City_Years  Marital_Status  Product_Category_1  \\\n",
       "0                          2               0                   3   \n",
       "1                          2               0                   1   \n",
       "2                          2               0                  12   \n",
       "3                          2               0                  12   \n",
       "4                         4+               0                   8   \n",
       "\n",
       "   Product_Category_2  Product_Category_3  Purchase  \n",
       "0                 0.0                 0.0    8370.0  \n",
       "1                 6.0                14.0   15200.0  \n",
       "2                 0.0                 0.0    1422.0  \n",
       "3                14.0                 0.0    1057.0  \n",
       "4                 0.0                 0.0    7969.0  "
      ]
     },
     "execution_count": 25,
     "metadata": {},
     "output_type": "execute_result"
    }
   ],
   "source": [
    "data.head()"
   ]
  },
  {
   "cell_type": "code",
   "execution_count": 26,
   "id": "8a6ea18c",
   "metadata": {},
   "outputs": [],
   "source": [
    "from sklearn.preprocessing import LabelEncoder\n",
    "le = LabelEncoder()"
   ]
  },
  {
   "cell_type": "code",
   "execution_count": 27,
   "id": "bf98f5d2",
   "metadata": {},
   "outputs": [
    {
     "data": {
      "text/plain": [
       "26-35    313015\n",
       "36-45    156724\n",
       "18-25    141953\n",
       "46-50     65278\n",
       "51-55     54784\n",
       "55+       30579\n",
       "0-17      21334\n",
       "Name: Age, dtype: int64"
      ]
     },
     "execution_count": 27,
     "metadata": {},
     "output_type": "execute_result"
    }
   ],
   "source": [
    "data['Age'].value_counts()"
   ]
  },
  {
   "cell_type": "code",
   "execution_count": 28,
   "id": "10905932",
   "metadata": {},
   "outputs": [],
   "source": [
    "data['Age'] = le.fit_transform(data['Age'])"
   ]
  },
  {
   "cell_type": "code",
   "execution_count": 29,
   "id": "89b256a6",
   "metadata": {},
   "outputs": [
    {
     "data": {
      "text/html": [
       "<div>\n",
       "<style scoped>\n",
       "    .dataframe tbody tr th:only-of-type {\n",
       "        vertical-align: middle;\n",
       "    }\n",
       "\n",
       "    .dataframe tbody tr th {\n",
       "        vertical-align: top;\n",
       "    }\n",
       "\n",
       "    .dataframe thead th {\n",
       "        text-align: right;\n",
       "    }\n",
       "</style>\n",
       "<table border=\"1\" class=\"dataframe\">\n",
       "  <thead>\n",
       "    <tr style=\"text-align: right;\">\n",
       "      <th></th>\n",
       "      <th>User_ID</th>\n",
       "      <th>Product_ID</th>\n",
       "      <th>Gender</th>\n",
       "      <th>Age</th>\n",
       "      <th>Occupation</th>\n",
       "      <th>City_Category</th>\n",
       "      <th>Stay_In_Current_City_Years</th>\n",
       "      <th>Marital_Status</th>\n",
       "      <th>Product_Category_1</th>\n",
       "      <th>Product_Category_2</th>\n",
       "      <th>Product_Category_3</th>\n",
       "      <th>Purchase</th>\n",
       "    </tr>\n",
       "  </thead>\n",
       "  <tbody>\n",
       "    <tr>\n",
       "      <th>0</th>\n",
       "      <td>0.000060</td>\n",
       "      <td>0.000439</td>\n",
       "      <td>0</td>\n",
       "      <td>0</td>\n",
       "      <td>10</td>\n",
       "      <td>A</td>\n",
       "      <td>2</td>\n",
       "      <td>0</td>\n",
       "      <td>3</td>\n",
       "      <td>0.0</td>\n",
       "      <td>0.0</td>\n",
       "      <td>8370.0</td>\n",
       "    </tr>\n",
       "    <tr>\n",
       "      <th>1</th>\n",
       "      <td>0.000060</td>\n",
       "      <td>0.001078</td>\n",
       "      <td>0</td>\n",
       "      <td>0</td>\n",
       "      <td>10</td>\n",
       "      <td>A</td>\n",
       "      <td>2</td>\n",
       "      <td>0</td>\n",
       "      <td>1</td>\n",
       "      <td>6.0</td>\n",
       "      <td>14.0</td>\n",
       "      <td>15200.0</td>\n",
       "    </tr>\n",
       "    <tr>\n",
       "      <th>2</th>\n",
       "      <td>0.000060</td>\n",
       "      <td>0.000191</td>\n",
       "      <td>0</td>\n",
       "      <td>0</td>\n",
       "      <td>10</td>\n",
       "      <td>A</td>\n",
       "      <td>2</td>\n",
       "      <td>0</td>\n",
       "      <td>12</td>\n",
       "      <td>0.0</td>\n",
       "      <td>0.0</td>\n",
       "      <td>1422.0</td>\n",
       "    </tr>\n",
       "    <tr>\n",
       "      <th>3</th>\n",
       "      <td>0.000060</td>\n",
       "      <td>0.000633</td>\n",
       "      <td>0</td>\n",
       "      <td>0</td>\n",
       "      <td>10</td>\n",
       "      <td>A</td>\n",
       "      <td>2</td>\n",
       "      <td>0</td>\n",
       "      <td>12</td>\n",
       "      <td>14.0</td>\n",
       "      <td>0.0</td>\n",
       "      <td>1057.0</td>\n",
       "    </tr>\n",
       "    <tr>\n",
       "      <th>4</th>\n",
       "      <td>0.000137</td>\n",
       "      <td>0.000361</td>\n",
       "      <td>1</td>\n",
       "      <td>6</td>\n",
       "      <td>16</td>\n",
       "      <td>C</td>\n",
       "      <td>4+</td>\n",
       "      <td>0</td>\n",
       "      <td>8</td>\n",
       "      <td>0.0</td>\n",
       "      <td>0.0</td>\n",
       "      <td>7969.0</td>\n",
       "    </tr>\n",
       "  </tbody>\n",
       "</table>\n",
       "</div>"
      ],
      "text/plain": [
       "    User_ID  Product_ID  Gender  Age  Occupation City_Category  \\\n",
       "0  0.000060    0.000439       0    0          10             A   \n",
       "1  0.000060    0.001078       0    0          10             A   \n",
       "2  0.000060    0.000191       0    0          10             A   \n",
       "3  0.000060    0.000633       0    0          10             A   \n",
       "4  0.000137    0.000361       1    6          16             C   \n",
       "\n",
       "  Stay_In_Current_City_Years  Marital_Status  Product_Category_1  \\\n",
       "0                          2               0                   3   \n",
       "1                          2               0                   1   \n",
       "2                          2               0                  12   \n",
       "3                          2               0                  12   \n",
       "4                         4+               0                   8   \n",
       "\n",
       "   Product_Category_2  Product_Category_3  Purchase  \n",
       "0                 0.0                 0.0    8370.0  \n",
       "1                 6.0                14.0   15200.0  \n",
       "2                 0.0                 0.0    1422.0  \n",
       "3                14.0                 0.0    1057.0  \n",
       "4                 0.0                 0.0    7969.0  "
      ]
     },
     "execution_count": 29,
     "metadata": {},
     "output_type": "execute_result"
    }
   ],
   "source": [
    "data.head()"
   ]
  },
  {
   "cell_type": "code",
   "execution_count": 30,
   "id": "c2cb3e9e",
   "metadata": {},
   "outputs": [],
   "source": [
    "data['Stay_In_Current_City_Years'] = le.fit_transform(data['Stay_In_Current_City_Years'])"
   ]
  },
  {
   "cell_type": "code",
   "execution_count": 31,
   "id": "636b2627",
   "metadata": {},
   "outputs": [
    {
     "data": {
      "text/html": [
       "<div>\n",
       "<style scoped>\n",
       "    .dataframe tbody tr th:only-of-type {\n",
       "        vertical-align: middle;\n",
       "    }\n",
       "\n",
       "    .dataframe tbody tr th {\n",
       "        vertical-align: top;\n",
       "    }\n",
       "\n",
       "    .dataframe thead th {\n",
       "        text-align: right;\n",
       "    }\n",
       "</style>\n",
       "<table border=\"1\" class=\"dataframe\">\n",
       "  <thead>\n",
       "    <tr style=\"text-align: right;\">\n",
       "      <th></th>\n",
       "      <th>User_ID</th>\n",
       "      <th>Product_ID</th>\n",
       "      <th>Gender</th>\n",
       "      <th>Age</th>\n",
       "      <th>Occupation</th>\n",
       "      <th>City_Category</th>\n",
       "      <th>Stay_In_Current_City_Years</th>\n",
       "      <th>Marital_Status</th>\n",
       "      <th>Product_Category_1</th>\n",
       "      <th>Product_Category_2</th>\n",
       "      <th>Product_Category_3</th>\n",
       "      <th>Purchase</th>\n",
       "    </tr>\n",
       "  </thead>\n",
       "  <tbody>\n",
       "    <tr>\n",
       "      <th>0</th>\n",
       "      <td>0.000060</td>\n",
       "      <td>0.000439</td>\n",
       "      <td>0</td>\n",
       "      <td>0</td>\n",
       "      <td>10</td>\n",
       "      <td>A</td>\n",
       "      <td>2</td>\n",
       "      <td>0</td>\n",
       "      <td>3</td>\n",
       "      <td>0.0</td>\n",
       "      <td>0.0</td>\n",
       "      <td>8370.0</td>\n",
       "    </tr>\n",
       "    <tr>\n",
       "      <th>1</th>\n",
       "      <td>0.000060</td>\n",
       "      <td>0.001078</td>\n",
       "      <td>0</td>\n",
       "      <td>0</td>\n",
       "      <td>10</td>\n",
       "      <td>A</td>\n",
       "      <td>2</td>\n",
       "      <td>0</td>\n",
       "      <td>1</td>\n",
       "      <td>6.0</td>\n",
       "      <td>14.0</td>\n",
       "      <td>15200.0</td>\n",
       "    </tr>\n",
       "    <tr>\n",
       "      <th>2</th>\n",
       "      <td>0.000060</td>\n",
       "      <td>0.000191</td>\n",
       "      <td>0</td>\n",
       "      <td>0</td>\n",
       "      <td>10</td>\n",
       "      <td>A</td>\n",
       "      <td>2</td>\n",
       "      <td>0</td>\n",
       "      <td>12</td>\n",
       "      <td>0.0</td>\n",
       "      <td>0.0</td>\n",
       "      <td>1422.0</td>\n",
       "    </tr>\n",
       "    <tr>\n",
       "      <th>3</th>\n",
       "      <td>0.000060</td>\n",
       "      <td>0.000633</td>\n",
       "      <td>0</td>\n",
       "      <td>0</td>\n",
       "      <td>10</td>\n",
       "      <td>A</td>\n",
       "      <td>2</td>\n",
       "      <td>0</td>\n",
       "      <td>12</td>\n",
       "      <td>14.0</td>\n",
       "      <td>0.0</td>\n",
       "      <td>1057.0</td>\n",
       "    </tr>\n",
       "    <tr>\n",
       "      <th>4</th>\n",
       "      <td>0.000137</td>\n",
       "      <td>0.000361</td>\n",
       "      <td>1</td>\n",
       "      <td>6</td>\n",
       "      <td>16</td>\n",
       "      <td>C</td>\n",
       "      <td>4</td>\n",
       "      <td>0</td>\n",
       "      <td>8</td>\n",
       "      <td>0.0</td>\n",
       "      <td>0.0</td>\n",
       "      <td>7969.0</td>\n",
       "    </tr>\n",
       "  </tbody>\n",
       "</table>\n",
       "</div>"
      ],
      "text/plain": [
       "    User_ID  Product_ID  Gender  Age  Occupation City_Category  \\\n",
       "0  0.000060    0.000439       0    0          10             A   \n",
       "1  0.000060    0.001078       0    0          10             A   \n",
       "2  0.000060    0.000191       0    0          10             A   \n",
       "3  0.000060    0.000633       0    0          10             A   \n",
       "4  0.000137    0.000361       1    6          16             C   \n",
       "\n",
       "   Stay_In_Current_City_Years  Marital_Status  Product_Category_1  \\\n",
       "0                           2               0                   3   \n",
       "1                           2               0                   1   \n",
       "2                           2               0                  12   \n",
       "3                           2               0                  12   \n",
       "4                           4               0                   8   \n",
       "\n",
       "   Product_Category_2  Product_Category_3  Purchase  \n",
       "0                 0.0                 0.0    8370.0  \n",
       "1                 6.0                14.0   15200.0  \n",
       "2                 0.0                 0.0    1422.0  \n",
       "3                14.0                 0.0    1057.0  \n",
       "4                 0.0                 0.0    7969.0  "
      ]
     },
     "execution_count": 31,
     "metadata": {},
     "output_type": "execute_result"
    }
   ],
   "source": [
    "data.head()"
   ]
  },
  {
   "cell_type": "code",
   "execution_count": 32,
   "id": "9f3ff999",
   "metadata": {},
   "outputs": [],
   "source": [
    "data = pd.get_dummies(data,drop_first=True)"
   ]
  },
  {
   "cell_type": "code",
   "execution_count": 33,
   "id": "f017fde3",
   "metadata": {},
   "outputs": [
    {
     "data": {
      "text/html": [
       "<div>\n",
       "<style scoped>\n",
       "    .dataframe tbody tr th:only-of-type {\n",
       "        vertical-align: middle;\n",
       "    }\n",
       "\n",
       "    .dataframe tbody tr th {\n",
       "        vertical-align: top;\n",
       "    }\n",
       "\n",
       "    .dataframe thead th {\n",
       "        text-align: right;\n",
       "    }\n",
       "</style>\n",
       "<table border=\"1\" class=\"dataframe\">\n",
       "  <thead>\n",
       "    <tr style=\"text-align: right;\">\n",
       "      <th></th>\n",
       "      <th>User_ID</th>\n",
       "      <th>Product_ID</th>\n",
       "      <th>Gender</th>\n",
       "      <th>Age</th>\n",
       "      <th>Occupation</th>\n",
       "      <th>Stay_In_Current_City_Years</th>\n",
       "      <th>Marital_Status</th>\n",
       "      <th>Product_Category_1</th>\n",
       "      <th>Product_Category_2</th>\n",
       "      <th>Product_Category_3</th>\n",
       "      <th>Purchase</th>\n",
       "      <th>City_Category_B</th>\n",
       "      <th>City_Category_C</th>\n",
       "    </tr>\n",
       "  </thead>\n",
       "  <tbody>\n",
       "    <tr>\n",
       "      <th>0</th>\n",
       "      <td>0.000060</td>\n",
       "      <td>0.000439</td>\n",
       "      <td>0</td>\n",
       "      <td>0</td>\n",
       "      <td>10</td>\n",
       "      <td>2</td>\n",
       "      <td>0</td>\n",
       "      <td>3</td>\n",
       "      <td>0.0</td>\n",
       "      <td>0.0</td>\n",
       "      <td>8370.0</td>\n",
       "      <td>0</td>\n",
       "      <td>0</td>\n",
       "    </tr>\n",
       "    <tr>\n",
       "      <th>1</th>\n",
       "      <td>0.000060</td>\n",
       "      <td>0.001078</td>\n",
       "      <td>0</td>\n",
       "      <td>0</td>\n",
       "      <td>10</td>\n",
       "      <td>2</td>\n",
       "      <td>0</td>\n",
       "      <td>1</td>\n",
       "      <td>6.0</td>\n",
       "      <td>14.0</td>\n",
       "      <td>15200.0</td>\n",
       "      <td>0</td>\n",
       "      <td>0</td>\n",
       "    </tr>\n",
       "    <tr>\n",
       "      <th>2</th>\n",
       "      <td>0.000060</td>\n",
       "      <td>0.000191</td>\n",
       "      <td>0</td>\n",
       "      <td>0</td>\n",
       "      <td>10</td>\n",
       "      <td>2</td>\n",
       "      <td>0</td>\n",
       "      <td>12</td>\n",
       "      <td>0.0</td>\n",
       "      <td>0.0</td>\n",
       "      <td>1422.0</td>\n",
       "      <td>0</td>\n",
       "      <td>0</td>\n",
       "    </tr>\n",
       "    <tr>\n",
       "      <th>3</th>\n",
       "      <td>0.000060</td>\n",
       "      <td>0.000633</td>\n",
       "      <td>0</td>\n",
       "      <td>0</td>\n",
       "      <td>10</td>\n",
       "      <td>2</td>\n",
       "      <td>0</td>\n",
       "      <td>12</td>\n",
       "      <td>14.0</td>\n",
       "      <td>0.0</td>\n",
       "      <td>1057.0</td>\n",
       "      <td>0</td>\n",
       "      <td>0</td>\n",
       "    </tr>\n",
       "    <tr>\n",
       "      <th>4</th>\n",
       "      <td>0.000137</td>\n",
       "      <td>0.000361</td>\n",
       "      <td>1</td>\n",
       "      <td>6</td>\n",
       "      <td>16</td>\n",
       "      <td>4</td>\n",
       "      <td>0</td>\n",
       "      <td>8</td>\n",
       "      <td>0.0</td>\n",
       "      <td>0.0</td>\n",
       "      <td>7969.0</td>\n",
       "      <td>0</td>\n",
       "      <td>1</td>\n",
       "    </tr>\n",
       "  </tbody>\n",
       "</table>\n",
       "</div>"
      ],
      "text/plain": [
       "    User_ID  Product_ID  Gender  Age  Occupation  Stay_In_Current_City_Years  \\\n",
       "0  0.000060    0.000439       0    0          10                           2   \n",
       "1  0.000060    0.001078       0    0          10                           2   \n",
       "2  0.000060    0.000191       0    0          10                           2   \n",
       "3  0.000060    0.000633       0    0          10                           2   \n",
       "4  0.000137    0.000361       1    6          16                           4   \n",
       "\n",
       "   Marital_Status  Product_Category_1  Product_Category_2  Product_Category_3  \\\n",
       "0               0                   3                 0.0                 0.0   \n",
       "1               0                   1                 6.0                14.0   \n",
       "2               0                  12                 0.0                 0.0   \n",
       "3               0                  12                14.0                 0.0   \n",
       "4               0                   8                 0.0                 0.0   \n",
       "\n",
       "   Purchase  City_Category_B  City_Category_C  \n",
       "0    8370.0                0                0  \n",
       "1   15200.0                0                0  \n",
       "2    1422.0                0                0  \n",
       "3    1057.0                0                0  \n",
       "4    7969.0                0                1  "
      ]
     },
     "execution_count": 33,
     "metadata": {},
     "output_type": "execute_result"
    }
   ],
   "source": [
    "data.head()"
   ]
  },
  {
   "cell_type": "code",
   "execution_count": 34,
   "id": "1259e1b0",
   "metadata": {},
   "outputs": [
    {
     "data": {
      "text/plain": [
       "User_ID                       float64\n",
       "Product_ID                    float64\n",
       "Gender                          uint8\n",
       "Age                             int32\n",
       "Occupation                      int64\n",
       "Stay_In_Current_City_Years      int32\n",
       "Marital_Status                  int64\n",
       "Product_Category_1              int64\n",
       "Product_Category_2            float64\n",
       "Product_Category_3            float64\n",
       "Purchase                      float64\n",
       "City_Category_B                 uint8\n",
       "City_Category_C                 uint8\n",
       "dtype: object"
      ]
     },
     "execution_count": 34,
     "metadata": {},
     "output_type": "execute_result"
    }
   ],
   "source": [
    "data.dtypes"
   ]
  },
  {
   "cell_type": "code",
   "execution_count": 35,
   "id": "f7de5e05",
   "metadata": {},
   "outputs": [],
   "source": [
    "train_f = data[~(data['Purchase'].isnull())]"
   ]
  },
  {
   "cell_type": "code",
   "execution_count": 36,
   "id": "d7202a89",
   "metadata": {},
   "outputs": [],
   "source": [
    "test_f = data[data['Purchase'].isnull()]"
   ]
  },
  {
   "cell_type": "code",
   "execution_count": 37,
   "id": "86542af2",
   "metadata": {},
   "outputs": [
    {
     "data": {
      "text/html": [
       "<div>\n",
       "<style scoped>\n",
       "    .dataframe tbody tr th:only-of-type {\n",
       "        vertical-align: middle;\n",
       "    }\n",
       "\n",
       "    .dataframe tbody tr th {\n",
       "        vertical-align: top;\n",
       "    }\n",
       "\n",
       "    .dataframe thead th {\n",
       "        text-align: right;\n",
       "    }\n",
       "</style>\n",
       "<table border=\"1\" class=\"dataframe\">\n",
       "  <thead>\n",
       "    <tr style=\"text-align: right;\">\n",
       "      <th></th>\n",
       "      <th>User_ID</th>\n",
       "      <th>Product_ID</th>\n",
       "      <th>Gender</th>\n",
       "      <th>Age</th>\n",
       "      <th>Occupation</th>\n",
       "      <th>Stay_In_Current_City_Years</th>\n",
       "      <th>Marital_Status</th>\n",
       "      <th>Product_Category_1</th>\n",
       "      <th>Product_Category_2</th>\n",
       "      <th>Product_Category_3</th>\n",
       "      <th>Purchase</th>\n",
       "      <th>City_Category_B</th>\n",
       "      <th>City_Category_C</th>\n",
       "    </tr>\n",
       "  </thead>\n",
       "  <tbody>\n",
       "    <tr>\n",
       "      <th>0</th>\n",
       "      <td>0.000060</td>\n",
       "      <td>0.000439</td>\n",
       "      <td>0</td>\n",
       "      <td>0</td>\n",
       "      <td>10</td>\n",
       "      <td>2</td>\n",
       "      <td>0</td>\n",
       "      <td>3</td>\n",
       "      <td>0.0</td>\n",
       "      <td>0.0</td>\n",
       "      <td>8370.0</td>\n",
       "      <td>0</td>\n",
       "      <td>0</td>\n",
       "    </tr>\n",
       "    <tr>\n",
       "      <th>1</th>\n",
       "      <td>0.000060</td>\n",
       "      <td>0.001078</td>\n",
       "      <td>0</td>\n",
       "      <td>0</td>\n",
       "      <td>10</td>\n",
       "      <td>2</td>\n",
       "      <td>0</td>\n",
       "      <td>1</td>\n",
       "      <td>6.0</td>\n",
       "      <td>14.0</td>\n",
       "      <td>15200.0</td>\n",
       "      <td>0</td>\n",
       "      <td>0</td>\n",
       "    </tr>\n",
       "    <tr>\n",
       "      <th>2</th>\n",
       "      <td>0.000060</td>\n",
       "      <td>0.000191</td>\n",
       "      <td>0</td>\n",
       "      <td>0</td>\n",
       "      <td>10</td>\n",
       "      <td>2</td>\n",
       "      <td>0</td>\n",
       "      <td>12</td>\n",
       "      <td>0.0</td>\n",
       "      <td>0.0</td>\n",
       "      <td>1422.0</td>\n",
       "      <td>0</td>\n",
       "      <td>0</td>\n",
       "    </tr>\n",
       "    <tr>\n",
       "      <th>3</th>\n",
       "      <td>0.000060</td>\n",
       "      <td>0.000633</td>\n",
       "      <td>0</td>\n",
       "      <td>0</td>\n",
       "      <td>10</td>\n",
       "      <td>2</td>\n",
       "      <td>0</td>\n",
       "      <td>12</td>\n",
       "      <td>14.0</td>\n",
       "      <td>0.0</td>\n",
       "      <td>1057.0</td>\n",
       "      <td>0</td>\n",
       "      <td>0</td>\n",
       "    </tr>\n",
       "    <tr>\n",
       "      <th>4</th>\n",
       "      <td>0.000137</td>\n",
       "      <td>0.000361</td>\n",
       "      <td>1</td>\n",
       "      <td>6</td>\n",
       "      <td>16</td>\n",
       "      <td>4</td>\n",
       "      <td>0</td>\n",
       "      <td>8</td>\n",
       "      <td>0.0</td>\n",
       "      <td>0.0</td>\n",
       "      <td>7969.0</td>\n",
       "      <td>0</td>\n",
       "      <td>1</td>\n",
       "    </tr>\n",
       "  </tbody>\n",
       "</table>\n",
       "</div>"
      ],
      "text/plain": [
       "    User_ID  Product_ID  Gender  Age  Occupation  Stay_In_Current_City_Years  \\\n",
       "0  0.000060    0.000439       0    0          10                           2   \n",
       "1  0.000060    0.001078       0    0          10                           2   \n",
       "2  0.000060    0.000191       0    0          10                           2   \n",
       "3  0.000060    0.000633       0    0          10                           2   \n",
       "4  0.000137    0.000361       1    6          16                           4   \n",
       "\n",
       "   Marital_Status  Product_Category_1  Product_Category_2  Product_Category_3  \\\n",
       "0               0                   3                 0.0                 0.0   \n",
       "1               0                   1                 6.0                14.0   \n",
       "2               0                  12                 0.0                 0.0   \n",
       "3               0                  12                14.0                 0.0   \n",
       "4               0                   8                 0.0                 0.0   \n",
       "\n",
       "   Purchase  City_Category_B  City_Category_C  \n",
       "0    8370.0                0                0  \n",
       "1   15200.0                0                0  \n",
       "2    1422.0                0                0  \n",
       "3    1057.0                0                0  \n",
       "4    7969.0                0                1  "
      ]
     },
     "execution_count": 37,
     "metadata": {},
     "output_type": "execute_result"
    }
   ],
   "source": [
    "train_f.head()"
   ]
  },
  {
   "cell_type": "code",
   "execution_count": 38,
   "id": "0e121749",
   "metadata": {},
   "outputs": [],
   "source": [
    "del test_f['Purchase']"
   ]
  },
  {
   "cell_type": "code",
   "execution_count": 39,
   "id": "64a62f67",
   "metadata": {},
   "outputs": [
    {
     "data": {
      "text/html": [
       "<div>\n",
       "<style scoped>\n",
       "    .dataframe tbody tr th:only-of-type {\n",
       "        vertical-align: middle;\n",
       "    }\n",
       "\n",
       "    .dataframe tbody tr th {\n",
       "        vertical-align: top;\n",
       "    }\n",
       "\n",
       "    .dataframe thead th {\n",
       "        text-align: right;\n",
       "    }\n",
       "</style>\n",
       "<table border=\"1\" class=\"dataframe\">\n",
       "  <thead>\n",
       "    <tr style=\"text-align: right;\">\n",
       "      <th></th>\n",
       "      <th>User_ID</th>\n",
       "      <th>Product_ID</th>\n",
       "      <th>Gender</th>\n",
       "      <th>Age</th>\n",
       "      <th>Occupation</th>\n",
       "      <th>Stay_In_Current_City_Years</th>\n",
       "      <th>Marital_Status</th>\n",
       "      <th>Product_Category_1</th>\n",
       "      <th>Product_Category_2</th>\n",
       "      <th>Product_Category_3</th>\n",
       "      <th>City_Category_B</th>\n",
       "      <th>City_Category_C</th>\n",
       "    </tr>\n",
       "  </thead>\n",
       "  <tbody>\n",
       "    <tr>\n",
       "      <th>0</th>\n",
       "      <td>0.000019</td>\n",
       "      <td>0.001701</td>\n",
       "      <td>1</td>\n",
       "      <td>4</td>\n",
       "      <td>7</td>\n",
       "      <td>2</td>\n",
       "      <td>1</td>\n",
       "      <td>1</td>\n",
       "      <td>11.0</td>\n",
       "      <td>0.0</td>\n",
       "      <td>1</td>\n",
       "      <td>0</td>\n",
       "    </tr>\n",
       "    <tr>\n",
       "      <th>1</th>\n",
       "      <td>0.000108</td>\n",
       "      <td>0.000473</td>\n",
       "      <td>1</td>\n",
       "      <td>2</td>\n",
       "      <td>17</td>\n",
       "      <td>0</td>\n",
       "      <td>0</td>\n",
       "      <td>3</td>\n",
       "      <td>5.0</td>\n",
       "      <td>0.0</td>\n",
       "      <td>0</td>\n",
       "      <td>1</td>\n",
       "    </tr>\n",
       "    <tr>\n",
       "      <th>2</th>\n",
       "      <td>0.000413</td>\n",
       "      <td>0.000277</td>\n",
       "      <td>0</td>\n",
       "      <td>3</td>\n",
       "      <td>1</td>\n",
       "      <td>4</td>\n",
       "      <td>1</td>\n",
       "      <td>5</td>\n",
       "      <td>14.0</td>\n",
       "      <td>0.0</td>\n",
       "      <td>1</td>\n",
       "      <td>0</td>\n",
       "    </tr>\n",
       "    <tr>\n",
       "      <th>3</th>\n",
       "      <td>0.000413</td>\n",
       "      <td>0.000029</td>\n",
       "      <td>0</td>\n",
       "      <td>3</td>\n",
       "      <td>1</td>\n",
       "      <td>4</td>\n",
       "      <td>1</td>\n",
       "      <td>4</td>\n",
       "      <td>9.0</td>\n",
       "      <td>0.0</td>\n",
       "      <td>1</td>\n",
       "      <td>0</td>\n",
       "    </tr>\n",
       "    <tr>\n",
       "      <th>4</th>\n",
       "      <td>0.000140</td>\n",
       "      <td>0.000997</td>\n",
       "      <td>0</td>\n",
       "      <td>2</td>\n",
       "      <td>1</td>\n",
       "      <td>1</td>\n",
       "      <td>0</td>\n",
       "      <td>4</td>\n",
       "      <td>5.0</td>\n",
       "      <td>12.0</td>\n",
       "      <td>0</td>\n",
       "      <td>1</td>\n",
       "    </tr>\n",
       "  </tbody>\n",
       "</table>\n",
       "</div>"
      ],
      "text/plain": [
       "    User_ID  Product_ID  Gender  Age  Occupation  Stay_In_Current_City_Years  \\\n",
       "0  0.000019    0.001701       1    4           7                           2   \n",
       "1  0.000108    0.000473       1    2          17                           0   \n",
       "2  0.000413    0.000277       0    3           1                           4   \n",
       "3  0.000413    0.000029       0    3           1                           4   \n",
       "4  0.000140    0.000997       0    2           1                           1   \n",
       "\n",
       "   Marital_Status  Product_Category_1  Product_Category_2  Product_Category_3  \\\n",
       "0               1                   1                11.0                 0.0   \n",
       "1               0                   3                 5.0                 0.0   \n",
       "2               1                   5                14.0                 0.0   \n",
       "3               1                   4                 9.0                 0.0   \n",
       "4               0                   4                 5.0                12.0   \n",
       "\n",
       "   City_Category_B  City_Category_C  \n",
       "0                1                0  \n",
       "1                0                1  \n",
       "2                1                0  \n",
       "3                1                0  \n",
       "4                0                1  "
      ]
     },
     "execution_count": 39,
     "metadata": {},
     "output_type": "execute_result"
    }
   ],
   "source": [
    "test_f.head()"
   ]
  },
  {
   "cell_type": "markdown",
   "id": "8236e41b",
   "metadata": {},
   "source": [
    "## Train test split"
   ]
  },
  {
   "cell_type": "code",
   "execution_count": 40,
   "id": "20feaf66",
   "metadata": {},
   "outputs": [],
   "source": [
    "x = train_f.drop(columns=['Purchase'])\n",
    "y = train_f['Purchase']"
   ]
  },
  {
   "cell_type": "code",
   "execution_count": 41,
   "id": "8bff0024",
   "metadata": {},
   "outputs": [],
   "source": [
    "import statsmodels.api as sm"
   ]
  },
  {
   "cell_type": "code",
   "execution_count": 42,
   "id": "6d93822a",
   "metadata": {},
   "outputs": [],
   "source": [
    "X = sm.add_constant(x)"
   ]
  },
  {
   "cell_type": "code",
   "execution_count": 43,
   "id": "62f0050a",
   "metadata": {},
   "outputs": [
    {
     "data": {
      "text/html": [
       "<div>\n",
       "<style scoped>\n",
       "    .dataframe tbody tr th:only-of-type {\n",
       "        vertical-align: middle;\n",
       "    }\n",
       "\n",
       "    .dataframe tbody tr th {\n",
       "        vertical-align: top;\n",
       "    }\n",
       "\n",
       "    .dataframe thead th {\n",
       "        text-align: right;\n",
       "    }\n",
       "</style>\n",
       "<table border=\"1\" class=\"dataframe\">\n",
       "  <thead>\n",
       "    <tr style=\"text-align: right;\">\n",
       "      <th></th>\n",
       "      <th>const</th>\n",
       "      <th>User_ID</th>\n",
       "      <th>Product_ID</th>\n",
       "      <th>Gender</th>\n",
       "      <th>Age</th>\n",
       "      <th>Occupation</th>\n",
       "      <th>Stay_In_Current_City_Years</th>\n",
       "      <th>Marital_Status</th>\n",
       "      <th>Product_Category_1</th>\n",
       "      <th>Product_Category_2</th>\n",
       "      <th>Product_Category_3</th>\n",
       "      <th>City_Category_B</th>\n",
       "      <th>City_Category_C</th>\n",
       "    </tr>\n",
       "  </thead>\n",
       "  <tbody>\n",
       "    <tr>\n",
       "      <th>0</th>\n",
       "      <td>1.0</td>\n",
       "      <td>0.000060</td>\n",
       "      <td>0.000439</td>\n",
       "      <td>0</td>\n",
       "      <td>0</td>\n",
       "      <td>10</td>\n",
       "      <td>2</td>\n",
       "      <td>0</td>\n",
       "      <td>3</td>\n",
       "      <td>0.0</td>\n",
       "      <td>0.0</td>\n",
       "      <td>0</td>\n",
       "      <td>0</td>\n",
       "    </tr>\n",
       "    <tr>\n",
       "      <th>1</th>\n",
       "      <td>1.0</td>\n",
       "      <td>0.000060</td>\n",
       "      <td>0.001078</td>\n",
       "      <td>0</td>\n",
       "      <td>0</td>\n",
       "      <td>10</td>\n",
       "      <td>2</td>\n",
       "      <td>0</td>\n",
       "      <td>1</td>\n",
       "      <td>6.0</td>\n",
       "      <td>14.0</td>\n",
       "      <td>0</td>\n",
       "      <td>0</td>\n",
       "    </tr>\n",
       "    <tr>\n",
       "      <th>2</th>\n",
       "      <td>1.0</td>\n",
       "      <td>0.000060</td>\n",
       "      <td>0.000191</td>\n",
       "      <td>0</td>\n",
       "      <td>0</td>\n",
       "      <td>10</td>\n",
       "      <td>2</td>\n",
       "      <td>0</td>\n",
       "      <td>12</td>\n",
       "      <td>0.0</td>\n",
       "      <td>0.0</td>\n",
       "      <td>0</td>\n",
       "      <td>0</td>\n",
       "    </tr>\n",
       "    <tr>\n",
       "      <th>3</th>\n",
       "      <td>1.0</td>\n",
       "      <td>0.000060</td>\n",
       "      <td>0.000633</td>\n",
       "      <td>0</td>\n",
       "      <td>0</td>\n",
       "      <td>10</td>\n",
       "      <td>2</td>\n",
       "      <td>0</td>\n",
       "      <td>12</td>\n",
       "      <td>14.0</td>\n",
       "      <td>0.0</td>\n",
       "      <td>0</td>\n",
       "      <td>0</td>\n",
       "    </tr>\n",
       "    <tr>\n",
       "      <th>4</th>\n",
       "      <td>1.0</td>\n",
       "      <td>0.000137</td>\n",
       "      <td>0.000361</td>\n",
       "      <td>1</td>\n",
       "      <td>6</td>\n",
       "      <td>16</td>\n",
       "      <td>4</td>\n",
       "      <td>0</td>\n",
       "      <td>8</td>\n",
       "      <td>0.0</td>\n",
       "      <td>0.0</td>\n",
       "      <td>0</td>\n",
       "      <td>1</td>\n",
       "    </tr>\n",
       "  </tbody>\n",
       "</table>\n",
       "</div>"
      ],
      "text/plain": [
       "   const   User_ID  Product_ID  Gender  Age  Occupation  \\\n",
       "0    1.0  0.000060    0.000439       0    0          10   \n",
       "1    1.0  0.000060    0.001078       0    0          10   \n",
       "2    1.0  0.000060    0.000191       0    0          10   \n",
       "3    1.0  0.000060    0.000633       0    0          10   \n",
       "4    1.0  0.000137    0.000361       1    6          16   \n",
       "\n",
       "   Stay_In_Current_City_Years  Marital_Status  Product_Category_1  \\\n",
       "0                           2               0                   3   \n",
       "1                           2               0                   1   \n",
       "2                           2               0                  12   \n",
       "3                           2               0                  12   \n",
       "4                           4               0                   8   \n",
       "\n",
       "   Product_Category_2  Product_Category_3  City_Category_B  City_Category_C  \n",
       "0                 0.0                 0.0                0                0  \n",
       "1                 6.0                14.0                0                0  \n",
       "2                 0.0                 0.0                0                0  \n",
       "3                14.0                 0.0                0                0  \n",
       "4                 0.0                 0.0                0                1  "
      ]
     },
     "execution_count": 43,
     "metadata": {},
     "output_type": "execute_result"
    }
   ],
   "source": [
    "X.head()"
   ]
  },
  {
   "cell_type": "code",
   "execution_count": 44,
   "id": "06d70116",
   "metadata": {},
   "outputs": [],
   "source": [
    "from sklearn.model_selection import train_test_split"
   ]
  },
  {
   "cell_type": "code",
   "execution_count": 45,
   "id": "b4a4a5fd",
   "metadata": {},
   "outputs": [],
   "source": [
    "x_train,x_test,y_train,y_test = train_test_split(X,y,train_size=0.8,random_state=3)"
   ]
  },
  {
   "cell_type": "code",
   "execution_count": 46,
   "id": "283605dc",
   "metadata": {},
   "outputs": [
    {
     "data": {
      "text/plain": [
       "((440054, 13), (110014, 13), (440054,), (110014,))"
      ]
     },
     "execution_count": 46,
     "metadata": {},
     "output_type": "execute_result"
    }
   ],
   "source": [
    "x_train.shape,x_test.shape,y_train.shape,y_test.shape"
   ]
  },
  {
   "cell_type": "code",
   "execution_count": 47,
   "id": "d93c8d47",
   "metadata": {},
   "outputs": [],
   "source": [
    "model = sm.OLS(y_train,x_train).fit()"
   ]
  },
  {
   "cell_type": "code",
   "execution_count": 48,
   "id": "513d6129",
   "metadata": {},
   "outputs": [
    {
     "name": "stdout",
     "output_type": "stream",
     "text": [
      "                            OLS Regression Results                            \n",
      "==============================================================================\n",
      "Dep. Variable:               Purchase   R-squared:                       0.200\n",
      "Model:                            OLS   Adj. R-squared:                  0.199\n",
      "Method:                 Least Squares   F-statistic:                     9139.\n",
      "Date:                Tue, 30 Aug 2022   Prob (F-statistic):               0.00\n",
      "Time:                        09:34:22   Log-Likelihood:            -4.3255e+06\n",
      "No. Observations:              440054   AIC:                         8.651e+06\n",
      "Df Residuals:                  440041   BIC:                         8.651e+06\n",
      "Df Model:                          12                                         \n",
      "Covariance Type:            nonrobust                                         \n",
      "==============================================================================================\n",
      "                                 coef    std err          t      P>|t|      [0.025      0.975]\n",
      "----------------------------------------------------------------------------------------------\n",
      "const                       8556.8842     32.880    260.242      0.000    8492.440    8621.329\n",
      "User_ID                    -4.622e+05   2.56e+04    -18.057      0.000   -5.12e+05   -4.12e+05\n",
      "Product_ID                  1.692e+06    1.1e+04    153.368      0.000    1.67e+06    1.71e+06\n",
      "Gender                       479.7461     15.903     30.167      0.000     448.577     510.915\n",
      "Age                          128.6561      5.336     24.112      0.000     118.198     139.114\n",
      "Occupation                     4.5907      1.051      4.368      0.000       2.531       6.650\n",
      "Stay_In_Current_City_Years    13.2272      5.260      2.515      0.012       2.918      23.537\n",
      "Marital_Status               -36.6675     14.505     -2.528      0.011     -65.096      -8.239\n",
      "Product_Category_1          -309.8231      1.888   -164.123      0.000    -313.523    -306.123\n",
      "Product_Category_2            -2.1573      1.099     -1.963      0.050      -4.312      -0.003\n",
      "Product_Category_3           106.2691      1.201     88.484      0.000     103.915     108.623\n",
      "City_Category_B               33.1936     17.223      1.927      0.054      -0.563      66.950\n",
      "City_Category_C              141.2985     21.057      6.710      0.000     100.027     182.570\n",
      "==============================================================================\n",
      "Omnibus:                    45210.857   Durbin-Watson:                   2.000\n",
      "Prob(Omnibus):                  0.000   Jarque-Bera (JB):            63268.606\n",
      "Skew:                           0.819   Prob(JB):                         0.00\n",
      "Kurtosis:                       3.877   Cond. No.                     5.36e+04\n",
      "==============================================================================\n",
      "\n",
      "Notes:\n",
      "[1] Standard Errors assume that the covariance matrix of the errors is correctly specified.\n",
      "[2] The condition number is large, 5.36e+04. This might indicate that there are\n",
      "strong multicollinearity or other numerical problems.\n"
     ]
    }
   ],
   "source": [
    "print(model.summary())"
   ]
  },
  {
   "cell_type": "code",
   "execution_count": 49,
   "id": "88b917bc",
   "metadata": {},
   "outputs": [
    {
     "data": {
      "text/plain": [
       "Text(0.5, 0, 'Skew: 0.82 Kurt: 0.88')"
      ]
     },
     "execution_count": 49,
     "metadata": {},
     "output_type": "execute_result"
    },
    {
     "data": {
      "image/png": "[encoded data removed]",
      "text/plain": [
       "<Figure size 432x288 with 1 Axes>"
      ]
     },
     "metadata": {
      "needs_background": "light"
     },
     "output_type": "display_data"
    }
   ],
   "source": [
    "sns.distplot(model.resid)\n",
    "plt.xlabel('Skew: %.2f Kurt: %.2f'%(model.resid.skew(),model.resid.kurt()))"
   ]
  },
  {
   "cell_type": "code",
   "execution_count": 50,
   "id": "712fb1c6",
   "metadata": {},
   "outputs": [],
   "source": [
    "from statsmodels.stats.outliers_influence import variance_inflation_factor"
   ]
  },
  {
   "cell_type": "code",
   "execution_count": 51,
   "id": "b6c853c8",
   "metadata": {},
   "outputs": [],
   "source": [
    "vif = [variance_inflation_factor(x_train.values,i) for i in range(x_train.shape[1])]"
   ]
  },
  {
   "cell_type": "code",
   "execution_count": 52,
   "id": "4168b996",
   "metadata": {},
   "outputs": [
    {
     "data": {
      "text/html": [
       "<div>\n",
       "<style scoped>\n",
       "    .dataframe tbody tr th:only-of-type {\n",
       "        vertical-align: middle;\n",
       "    }\n",
       "\n",
       "    .dataframe tbody tr th {\n",
       "        vertical-align: top;\n",
       "    }\n",
       "\n",
       "    .dataframe thead th {\n",
       "        text-align: right;\n",
       "    }\n",
       "</style>\n",
       "<table border=\"1\" class=\"dataframe\">\n",
       "  <thead>\n",
       "    <tr style=\"text-align: right;\">\n",
       "      <th></th>\n",
       "      <th>VIF</th>\n",
       "    </tr>\n",
       "  </thead>\n",
       "  <tbody>\n",
       "    <tr>\n",
       "      <th>const</th>\n",
       "      <td>23.553619</td>\n",
       "    </tr>\n",
       "    <tr>\n",
       "      <th>City_Category_C</th>\n",
       "      <td>2.071263</td>\n",
       "    </tr>\n",
       "    <tr>\n",
       "      <th>City_Category_B</th>\n",
       "      <td>1.574682</td>\n",
       "    </tr>\n",
       "    <tr>\n",
       "      <th>User_ID</th>\n",
       "      <td>1.448297</td>\n",
       "    </tr>\n",
       "    <tr>\n",
       "      <th>Product_Category_3</th>\n",
       "      <td>1.229047</td>\n",
       "    </tr>\n",
       "    <tr>\n",
       "      <th>Product_Category_1</th>\n",
       "      <td>1.205720</td>\n",
       "    </tr>\n",
       "    <tr>\n",
       "      <th>Product_ID</th>\n",
       "      <td>1.153860</td>\n",
       "    </tr>\n",
       "    <tr>\n",
       "      <th>Age</th>\n",
       "      <td>1.136892</td>\n",
       "    </tr>\n",
       "    <tr>\n",
       "      <th>Marital_Status</th>\n",
       "      <td>1.108732</td>\n",
       "    </tr>\n",
       "    <tr>\n",
       "      <th>Gender</th>\n",
       "      <td>1.024818</td>\n",
       "    </tr>\n",
       "    <tr>\n",
       "      <th>Occupation</th>\n",
       "      <td>1.024282</td>\n",
       "    </tr>\n",
       "    <tr>\n",
       "      <th>Product_Category_2</th>\n",
       "      <td>1.017176</td>\n",
       "    </tr>\n",
       "    <tr>\n",
       "      <th>Stay_In_Current_City_Years</th>\n",
       "      <td>1.001953</td>\n",
       "    </tr>\n",
       "  </tbody>\n",
       "</table>\n",
       "</div>"
      ],
      "text/plain": [
       "                                  VIF\n",
       "const                       23.553619\n",
       "City_Category_C              2.071263\n",
       "City_Category_B              1.574682\n",
       "User_ID                      1.448297\n",
       "Product_Category_3           1.229047\n",
       "Product_Category_1           1.205720\n",
       "Product_ID                   1.153860\n",
       "Age                          1.136892\n",
       "Marital_Status               1.108732\n",
       "Gender                       1.024818\n",
       "Occupation                   1.024282\n",
       "Product_Category_2           1.017176\n",
       "Stay_In_Current_City_Years   1.001953"
      ]
     },
     "execution_count": 52,
     "metadata": {},
     "output_type": "execute_result"
    }
   ],
   "source": [
    "pd.DataFrame({'VIF': vif[:]},index=x_train.columns).sort_values(by=['VIF'],ascending=False)"
   ]
  },
  {
   "cell_type": "markdown",
   "id": "70c80d5f",
   "metadata": {},
   "source": [
    "## Let us try some regularization methods"
   ]
  },
  {
   "cell_type": "code",
   "execution_count": 53,
   "id": "8f4e208a",
   "metadata": {},
   "outputs": [],
   "source": [
    "from sklearn.linear_model import Ridge,Lasso,ElasticNet\n",
    "from sklearn.model_selection import GridSearchCV"
   ]
  },
  {
   "cell_type": "code",
   "execution_count": 54,
   "id": "4c472c97",
   "metadata": {},
   "outputs": [],
   "source": [
    "x_train,x_test,y_train,y_test = train_test_split(x,y,train_size=0.8,random_state=3)"
   ]
  },
  {
   "cell_type": "code",
   "execution_count": 55,
   "id": "8f6524dd",
   "metadata": {},
   "outputs": [],
   "source": [
    "param = {'alpha':[0.01,0.1,1,10],\n",
    "             'l1_ratio':[0,0.3,0.5,1]}"
   ]
  },
  {
   "cell_type": "code",
   "execution_count": 56,
   "id": "657f2790",
   "metadata": {},
   "outputs": [],
   "source": [
    "gscv = GridSearchCV(estimator=ElasticNet(),\n",
    "                   param_grid=param,\n",
    "                   scoring='r2',\n",
    "                   verbose=3,\n",
    "                   cv=3)"
   ]
  },
  {
   "cell_type": "code",
   "execution_count": 57,
   "id": "dbc40366",
   "metadata": {},
   "outputs": [
    {
     "name": "stdout",
     "output_type": "stream",
     "text": [
      "Fitting 3 folds for each of 16 candidates, totalling 48 fits\n",
      "[CV 1/3] END ............alpha=0.01, l1_ratio=0;, score=0.151 total time=   3.6s\n",
      "[CV 2/3] END ............alpha=0.01, l1_ratio=0;, score=0.155 total time=   3.8s\n",
      "[CV 3/3] END ............alpha=0.01, l1_ratio=0;, score=0.152 total time=   3.7s\n",
      "[CV 1/3] END ..........alpha=0.01, l1_ratio=0.3;, score=0.151 total time=   0.0s\n",
      "[CV 2/3] END ..........alpha=0.01, l1_ratio=0.3;, score=0.155 total time=   0.0s\n",
      "[CV 3/3] END ..........alpha=0.01, l1_ratio=0.3;, score=0.152 total time=   0.0s\n",
      "[CV 1/3] END ..........alpha=0.01, l1_ratio=0.5;, score=0.151 total time=   0.0s\n",
      "[CV 2/3] END ..........alpha=0.01, l1_ratio=0.5;, score=0.155 total time=   0.0s\n",
      "[CV 3/3] END ..........alpha=0.01, l1_ratio=0.5;, score=0.152 total time=   0.0s\n",
      "[CV 1/3] END ............alpha=0.01, l1_ratio=1;, score=0.199 total time=   0.0s\n",
      "[CV 2/3] END ............alpha=0.01, l1_ratio=1;, score=0.202 total time=   0.0s\n",
      "[CV 3/3] END ............alpha=0.01, l1_ratio=1;, score=0.197 total time=   0.0s\n",
      "[CV 1/3] END .............alpha=0.1, l1_ratio=0;, score=0.151 total time=   3.6s\n",
      "[CV 2/3] END .............alpha=0.1, l1_ratio=0;, score=0.155 total time=   3.3s\n",
      "[CV 3/3] END .............alpha=0.1, l1_ratio=0;, score=0.152 total time=   3.4s\n",
      "[CV 1/3] END ...........alpha=0.1, l1_ratio=0.3;, score=0.151 total time=   0.0s\n",
      "[CV 2/3] END ...........alpha=0.1, l1_ratio=0.3;, score=0.155 total time=   0.0s\n",
      "[CV 3/3] END ...........alpha=0.1, l1_ratio=0.3;, score=0.152 total time=   0.0s\n",
      "[CV 1/3] END ...........alpha=0.1, l1_ratio=0.5;, score=0.151 total time=   0.1s\n",
      "[CV 2/3] END ...........alpha=0.1, l1_ratio=0.5;, score=0.155 total time=   0.0s\n",
      "[CV 3/3] END ...........alpha=0.1, l1_ratio=0.5;, score=0.152 total time=   0.0s\n",
      "[CV 1/3] END .............alpha=0.1, l1_ratio=1;, score=0.197 total time=   0.0s\n",
      "[CV 2/3] END .............alpha=0.1, l1_ratio=1;, score=0.201 total time=   0.0s\n",
      "[CV 3/3] END .............alpha=0.1, l1_ratio=1;, score=0.196 total time=   0.0s\n",
      "[CV 1/3] END ...............alpha=1, l1_ratio=0;, score=0.148 total time=   3.6s\n",
      "[CV 2/3] END ...............alpha=1, l1_ratio=0;, score=0.151 total time=   3.4s\n",
      "[CV 3/3] END ...............alpha=1, l1_ratio=0;, score=0.149 total time=   3.2s\n",
      "[CV 1/3] END .............alpha=1, l1_ratio=0.3;, score=0.149 total time=   0.0s\n",
      "[CV 2/3] END .............alpha=1, l1_ratio=0.3;, score=0.152 total time=   0.0s\n",
      "[CV 3/3] END .............alpha=1, l1_ratio=0.3;, score=0.150 total time=   0.0s\n",
      "[CV 1/3] END .............alpha=1, l1_ratio=0.5;, score=0.149 total time=   0.0s\n",
      "[CV 2/3] END .............alpha=1, l1_ratio=0.5;, score=0.153 total time=   0.0s\n",
      "[CV 3/3] END .............alpha=1, l1_ratio=0.5;, score=0.150 total time=   0.0s\n",
      "[CV 1/3] END ...............alpha=1, l1_ratio=1;, score=0.151 total time=   0.0s\n",
      "[CV 2/3] END ...............alpha=1, l1_ratio=1;, score=0.155 total time=   0.0s\n",
      "[CV 3/3] END ...............alpha=1, l1_ratio=1;, score=0.152 total time=   0.0s\n",
      "[CV 1/3] END ..............alpha=10, l1_ratio=0;, score=0.136 total time=   3.3s\n",
      "[CV 2/3] END ..............alpha=10, l1_ratio=0;, score=0.138 total time=   3.4s\n",
      "[CV 3/3] END ..............alpha=10, l1_ratio=0;, score=0.136 total time=   3.4s\n",
      "[CV 1/3] END ............alpha=10, l1_ratio=0.3;, score=0.140 total time=   0.0s\n",
      "[CV 2/3] END ............alpha=10, l1_ratio=0.3;, score=0.142 total time=   0.0s\n",
      "[CV 3/3] END ............alpha=10, l1_ratio=0.3;, score=0.141 total time=   0.0s\n",
      "[CV 1/3] END ............alpha=10, l1_ratio=0.5;, score=0.143 total time=   0.0s\n",
      "[CV 2/3] END ............alpha=10, l1_ratio=0.5;, score=0.145 total time=   0.0s\n",
      "[CV 3/3] END ............alpha=10, l1_ratio=0.5;, score=0.144 total time=   0.0s\n",
      "[CV 1/3] END ..............alpha=10, l1_ratio=1;, score=0.151 total time=   0.0s\n",
      "[CV 2/3] END ..............alpha=10, l1_ratio=1;, score=0.155 total time=   0.0s\n",
      "[CV 3/3] END ..............alpha=10, l1_ratio=1;, score=0.152 total time=   0.0s\n"
     ]
    },
    {
     "data": {
      "text/html": [
       "<style>#sk-container-id-1 {color: black;background-color: white;}#sk-container-id-1 pre{padding: 0;}#sk-container-id-1 div.sk-toggleable {background-color: white;}#sk-container-id-1 label.sk-toggleable__label {cursor: pointer;display: block;width: 100%;margin-bottom: 0;padding: 0.3em;box-sizing: border-box;text-align: center;}#sk-container-id-1 label.sk-toggleable__label-arrow:before {content: \"▸\";float: left;margin-right: 0.25em;color: #696969;}#sk-container-id-1 label.sk-toggleable__label-arrow:hover:before {color: black;}#sk-container-id-1 div.sk-estimator:hover label.sk-toggleable__label-arrow:before {color: black;}#sk-container-id-1 div.sk-toggleable__content {max-height: 0;max-width: 0;overflow: hidden;text-align: left;background-color: #f0f8ff;}#sk-container-id-1 div.sk-toggleable__content pre {margin: 0.2em;color: black;border-radius: 0.25em;background-color: #f0f8ff;}#sk-container-id-1 input.sk-toggleable__control:checked~div.sk-toggleable__content {max-height: 200px;max-width: 100%;overflow: auto;}#sk-container-id-1 input.sk-toggleable__control:checked~label.sk-toggleable__label-arrow:before {content: \"▾\";}#sk-container-id-1 div.sk-estimator input.sk-toggleable__control:checked~label.sk-toggleable__label {background-color: #d4ebff;}#sk-container-id-1 div.sk-label input.sk-toggleable__control:checked~label.sk-toggleable__label {background-color: #d4ebff;}#sk-container-id-1 input.sk-hidden--visually {border: 0;clip: rect(1px 1px 1px 1px);clip: rect(1px, 1px, 1px, 1px);height: 1px;margin: -1px;overflow: hidden;padding: 0;position: absolute;width: 1px;}#sk-container-id-1 div.sk-estimator {font-family: monospace;background-color: #f0f8ff;border: 1px dotted black;border-radius: 0.25em;box-sizing: border-box;margin-bottom: 0.5em;}#sk-container-id-1 div.sk-estimator:hover {background-color: #d4ebff;}#sk-container-id-1 div.sk-parallel-item::after {content: \"\";width: 100%;border-bottom: 1px solid gray;flex-grow: 1;}#sk-container-id-1 div.sk-label:hover label.sk-toggleable__label {background-color: #d4ebff;}#sk-container-id-1 div.sk-serial::before {content: \"\";position: absolute;border-left: 1px solid gray;box-sizing: border-box;top: 0;bottom: 0;left: 50%;z-index: 0;}#sk-container-id-1 div.sk-serial {display: flex;flex-direction: column;align-items: center;background-color: white;padding-right: 0.2em;padding-left: 0.2em;position: relative;}#sk-container-id-1 div.sk-item {position: relative;z-index: 1;}#sk-container-id-1 div.sk-parallel {display: flex;align-items: stretch;justify-content: center;background-color: white;position: relative;}#sk-container-id-1 div.sk-item::before, #sk-container-id-1 div.sk-parallel-item::before {content: \"\";position: absolute;border-left: 1px solid gray;box-sizing: border-box;top: 0;bottom: 0;left: 50%;z-index: -1;}#sk-container-id-1 div.sk-parallel-item {display: flex;flex-direction: column;z-index: 1;position: relative;background-color: white;}#sk-container-id-1 div.sk-parallel-item:first-child::after {align-self: flex-end;width: 50%;}#sk-container-id-1 div.sk-parallel-item:last-child::after {align-self: flex-start;width: 50%;}#sk-container-id-1 div.sk-parallel-item:only-child::after {width: 0;}#sk-container-id-1 div.sk-dashed-wrapped {border: 1px dashed gray;margin: 0 0.4em 0.5em 0.4em;box-sizing: border-box;padding-bottom: 0.4em;background-color: white;}#sk-container-id-1 div.sk-label label {font-family: monospace;font-weight: bold;display: inline-block;line-height: 1.2em;}#sk-container-id-1 div.sk-label-container {text-align: center;}#sk-container-id-1 div.sk-container {/* jupyter's `normalize.less` sets `[hidden] { display: none; }` but bootstrap.min.css set `[hidden] { display: none !important; }` so we also need the `!important` here to be able to override the default hidden behavior on the sphinx rendered scikit-learn.org. See: https://github.com/scikit-learn/scikit-learn/issues/21755 */display: inline-block !important;position: relative;}#sk-container-id-1 div.sk-text-repr-fallback {display: none;}</style><div id=\"sk-container-id-1\" class=\"sk-top-container\"><div class=\"sk-text-repr-fallback\"><pre>GridSearchCV(cv=3, estimator=ElasticNet(),\n",
       "             param_grid={&#x27;alpha&#x27;: [0.01, 0.1, 1, 10],\n",
       "                         &#x27;l1_ratio&#x27;: [0, 0.3, 0.5, 1]},\n",
       "             scoring=&#x27;r2&#x27;, verbose=3)</pre><b>In a Jupyter environment, please rerun this cell to show the HTML representation or trust the notebook. <br />On GitHub, the HTML representation is unable to render, please try loading this page with nbviewer.org.</b></div><div class=\"sk-container\" hidden><div class=\"sk-item sk-dashed-wrapped\"><div class=\"sk-label-container\"><div class=\"sk-label sk-toggleable\"><input class=\"sk-toggleable__control sk-hidden--visually\" id=\"sk-estimator-id-1\" type=\"checkbox\" ><label for=\"sk-estimator-id-1\" class=\"sk-toggleable__label sk-toggleable__label-arrow\">GridSearchCV</label><div class=\"sk-toggleable__content\"><pre>GridSearchCV(cv=3, estimator=ElasticNet(),\n",
       "             param_grid={&#x27;alpha&#x27;: [0.01, 0.1, 1, 10],\n",
       "                         &#x27;l1_ratio&#x27;: [0, 0.3, 0.5, 1]},\n",
       "             scoring=&#x27;r2&#x27;, verbose=3)</pre></div></div></div><div class=\"sk-parallel\"><div class=\"sk-parallel-item\"><div class=\"sk-item\"><div class=\"sk-label-container\"><div class=\"sk-label sk-toggleable\"><input class=\"sk-toggleable__control sk-hidden--visually\" id=\"sk-estimator-id-2\" type=\"checkbox\" ><label for=\"sk-estimator-id-2\" class=\"sk-toggleable__label sk-toggleable__label-arrow\">estimator: ElasticNet</label><div class=\"sk-toggleable__content\"><pre>ElasticNet()</pre></div></div></div><div class=\"sk-serial\"><div class=\"sk-item\"><div class=\"sk-estimator sk-toggleable\"><input class=\"sk-toggleable__control sk-hidden--visually\" id=\"sk-estimator-id-3\" type=\"checkbox\" ><label for=\"sk-estimator-id-3\" class=\"sk-toggleable__label sk-toggleable__label-arrow\">ElasticNet</label><div class=\"sk-toggleable__content\"><pre>ElasticNet()</pre></div></div></div></div></div></div></div></div></div></div>"
      ],
      "text/plain": [
       "GridSearchCV(cv=3, estimator=ElasticNet(),\n",
       "             param_grid={'alpha': [0.01, 0.1, 1, 10],\n",
       "                         'l1_ratio': [0, 0.3, 0.5, 1]},\n",
       "             scoring='r2', verbose=3)"
      ]
     },
     "execution_count": 57,
     "metadata": {},
     "output_type": "execute_result"
    }
   ],
   "source": [
    "gscv.fit(x_train,y_train)"
   ]
  },
  {
   "cell_type": "code",
   "execution_count": 58,
   "id": "0578c896",
   "metadata": {},
   "outputs": [
    {
     "data": {
      "text/plain": [
       "0.1993379273227555"
      ]
     },
     "execution_count": 58,
     "metadata": {},
     "output_type": "execute_result"
    }
   ],
   "source": [
    "gscv.best_score_"
   ]
  },
  {
   "cell_type": "code",
   "execution_count": 59,
   "id": "f6c10e48",
   "metadata": {},
   "outputs": [
    {
     "data": {
      "text/plain": [
       "{'alpha': 0.01, 'l1_ratio': 1}"
      ]
     },
     "execution_count": 59,
     "metadata": {},
     "output_type": "execute_result"
    }
   ],
   "source": [
    "gscv.best_params_"
   ]
  },
  {
   "cell_type": "markdown",
   "id": "e9b65e9d",
   "metadata": {},
   "source": [
    "## Let us try Models with other algorithms"
   ]
  },
  {
   "cell_type": "code",
   "execution_count": 60,
   "id": "fadc6ed2",
   "metadata": {},
   "outputs": [],
   "source": [
    "from sklearn.neighbors import KNeighborsRegressor\n",
    "from sklearn.tree import DecisionTreeRegressor\n",
    "from sklearn.ensemble import RandomForestRegressor,GradientBoostingRegressor\n",
    "\n",
    "from sklearn.metrics import r2_score,mean_squared_error"
   ]
  },
  {
   "cell_type": "code",
   "execution_count": 61,
   "id": "2e4a3fff",
   "metadata": {},
   "outputs": [],
   "source": [
    "def model_results(model,x_train,y_train,x_test,y_test):\n",
    "    print(str(model))\n",
    "    n = x_train.shape[0]\n",
    "    p = x_train.shape[1]\n",
    "    model.fit(x_train,y_train)\n",
    "    y_pred = model.predict(x_test)\n",
    "    r2 = r2_score(y_test,y_pred)\n",
    "    adj_r2 = 1-(1-r2)*(n-1)/(n-p-1)\n",
    "    print('R2 :\\t',r2)\n",
    "    print('Adj R2:\\t',adj_r2)\n",
    "    print('MSE:\\t',mean_squared_error(y_test,y_pred))\n",
    "    print('RMSE:\\t',(mean_squared_error(y_test,y_pred))**0.5,'\\n')"
   ]
  },
  {
   "cell_type": "code",
   "execution_count": 62,
   "id": "4647342f",
   "metadata": {},
   "outputs": [
    {
     "name": "stdout",
     "output_type": "stream",
     "text": [
      "KNeighborsRegressor(n_neighbors=7)\n",
      "R2 :\t 0.6259188043167325\n",
      "Adj R2:\t 0.6259086030528771\n",
      "MSE:\t 9437118.96339427\n",
      "RMSE:\t 3071.989414596715 \n",
      "\n"
     ]
    }
   ],
   "source": [
    "from sklearn.preprocessing import StandardScaler\n",
    "sc = StandardScaler()\n",
    "#x_train_s = sc.fit_transform(x_train)\n",
    "#x_test_s = sc.transform(x_test)\n",
    "\n",
    "\n",
    "model_results(KNeighborsRegressor(n_neighbors=7),x_train,y_train,x_test,y_test)"
   ]
  },
  {
   "cell_type": "code",
   "execution_count": 63,
   "id": "74e8b6ae",
   "metadata": {},
   "outputs": [],
   "source": [
    "param = {'n_neighbors':[5,7,9,12]}"
   ]
  },
  {
   "cell_type": "code",
   "execution_count": 64,
   "id": "c318a3f9",
   "metadata": {},
   "outputs": [],
   "source": [
    "gscv = GridSearchCV(estimator=KNeighborsRegressor(),\n",
    "                   param_grid=param,\n",
    "                   scoring='r2',\n",
    "                   verbose=3,\n",
    "                   cv=3)"
   ]
  },
  {
   "cell_type": "code",
   "execution_count": 65,
   "id": "3513c2c3",
   "metadata": {},
   "outputs": [
    {
     "name": "stdout",
     "output_type": "stream",
     "text": [
      "Fitting 3 folds for each of 4 candidates, totalling 12 fits\n",
      "[CV 1/3] END .....................n_neighbors=5;, score=0.602 total time=  20.3s\n",
      "[CV 2/3] END .....................n_neighbors=5;, score=0.606 total time=  21.5s\n",
      "[CV 3/3] END .....................n_neighbors=5;, score=0.602 total time=  20.9s\n",
      "[CV 1/3] END .....................n_neighbors=7;, score=0.611 total time=  22.8s\n",
      "[CV 2/3] END .....................n_neighbors=7;, score=0.614 total time=  28.6s\n",
      "[CV 3/3] END .....................n_neighbors=7;, score=0.611 total time=  29.3s\n",
      "[CV 1/3] END .....................n_neighbors=9;, score=0.614 total time=  31.7s\n",
      "[CV 2/3] END .....................n_neighbors=9;, score=0.616 total time=  33.2s\n",
      "[CV 3/3] END .....................n_neighbors=9;, score=0.614 total time=  32.7s\n",
      "[CV 1/3] END ....................n_neighbors=12;, score=0.613 total time=  34.7s\n",
      "[CV 2/3] END ....................n_neighbors=12;, score=0.615 total time=  31.3s\n",
      "[CV 3/3] END ....................n_neighbors=12;, score=0.613 total time=  28.5s\n"
     ]
    },
    {
     "data": {
      "text/html": [
       "<style>#sk-container-id-2 {color: black;background-color: white;}#sk-container-id-2 pre{padding: 0;}#sk-container-id-2 div.sk-toggleable {background-color: white;}#sk-container-id-2 label.sk-toggleable__label {cursor: pointer;display: block;width: 100%;margin-bottom: 0;padding: 0.3em;box-sizing: border-box;text-align: center;}#sk-container-id-2 label.sk-toggleable__label-arrow:before {content: \"▸\";float: left;margin-right: 0.25em;color: #696969;}#sk-container-id-2 label.sk-toggleable__label-arrow:hover:before {color: black;}#sk-container-id-2 div.sk-estimator:hover label.sk-toggleable__label-arrow:before {color: black;}#sk-container-id-2 div.sk-toggleable__content {max-height: 0;max-width: 0;overflow: hidden;text-align: left;background-color: #f0f8ff;}#sk-container-id-2 div.sk-toggleable__content pre {margin: 0.2em;color: black;border-radius: 0.25em;background-color: #f0f8ff;}#sk-container-id-2 input.sk-toggleable__control:checked~div.sk-toggleable__content {max-height: 200px;max-width: 100%;overflow: auto;}#sk-container-id-2 input.sk-toggleable__control:checked~label.sk-toggleable__label-arrow:before {content: \"▾\";}#sk-container-id-2 div.sk-estimator input.sk-toggleable__control:checked~label.sk-toggleable__label {background-color: #d4ebff;}#sk-container-id-2 div.sk-label input.sk-toggleable__control:checked~label.sk-toggleable__label {background-color: #d4ebff;}#sk-container-id-2 input.sk-hidden--visually {border: 0;clip: rect(1px 1px 1px 1px);clip: rect(1px, 1px, 1px, 1px);height: 1px;margin: -1px;overflow: hidden;padding: 0;position: absolute;width: 1px;}#sk-container-id-2 div.sk-estimator {font-family: monospace;background-color: #f0f8ff;border: 1px dotted black;border-radius: 0.25em;box-sizing: border-box;margin-bottom: 0.5em;}#sk-container-id-2 div.sk-estimator:hover {background-color: #d4ebff;}#sk-container-id-2 div.sk-parallel-item::after {content: \"\";width: 100%;border-bottom: 1px solid gray;flex-grow: 1;}#sk-container-id-2 div.sk-label:hover label.sk-toggleable__label {background-color: #d4ebff;}#sk-container-id-2 div.sk-serial::before {content: \"\";position: absolute;border-left: 1px solid gray;box-sizing: border-box;top: 0;bottom: 0;left: 50%;z-index: 0;}#sk-container-id-2 div.sk-serial {display: flex;flex-direction: column;align-items: center;background-color: white;padding-right: 0.2em;padding-left: 0.2em;position: relative;}#sk-container-id-2 div.sk-item {position: relative;z-index: 1;}#sk-container-id-2 div.sk-parallel {display: flex;align-items: stretch;justify-content: center;background-color: white;position: relative;}#sk-container-id-2 div.sk-item::before, #sk-container-id-2 div.sk-parallel-item::before {content: \"\";position: absolute;border-left: 1px solid gray;box-sizing: border-box;top: 0;bottom: 0;left: 50%;z-index: -1;}#sk-container-id-2 div.sk-parallel-item {display: flex;flex-direction: column;z-index: 1;position: relative;background-color: white;}#sk-container-id-2 div.sk-parallel-item:first-child::after {align-self: flex-end;width: 50%;}#sk-container-id-2 div.sk-parallel-item:last-child::after {align-self: flex-start;width: 50%;}#sk-container-id-2 div.sk-parallel-item:only-child::after {width: 0;}#sk-container-id-2 div.sk-dashed-wrapped {border: 1px dashed gray;margin: 0 0.4em 0.5em 0.4em;box-sizing: border-box;padding-bottom: 0.4em;background-color: white;}#sk-container-id-2 div.sk-label label {font-family: monospace;font-weight: bold;display: inline-block;line-height: 1.2em;}#sk-container-id-2 div.sk-label-container {text-align: center;}#sk-container-id-2 div.sk-container {/* jupyter's `normalize.less` sets `[hidden] { display: none; }` but bootstrap.min.css set `[hidden] { display: none !important; }` so we also need the `!important` here to be able to override the default hidden behavior on the sphinx rendered scikit-learn.org. See: https://github.com/scikit-learn/scikit-learn/issues/21755 */display: inline-block !important;position: relative;}#sk-container-id-2 div.sk-text-repr-fallback {display: none;}</style><div id=\"sk-container-id-2\" class=\"sk-top-container\"><div class=\"sk-text-repr-fallback\"><pre>GridSearchCV(cv=3, estimator=KNeighborsRegressor(),\n",
       "             param_grid={&#x27;n_neighbors&#x27;: [5, 7, 9, 12]}, scoring=&#x27;r2&#x27;,\n",
       "             verbose=3)</pre><b>In a Jupyter environment, please rerun this cell to show the HTML representation or trust the notebook. <br />On GitHub, the HTML representation is unable to render, please try loading this page with nbviewer.org.</b></div><div class=\"sk-container\" hidden><div class=\"sk-item sk-dashed-wrapped\"><div class=\"sk-label-container\"><div class=\"sk-label sk-toggleable\"><input class=\"sk-toggleable__control sk-hidden--visually\" id=\"sk-estimator-id-4\" type=\"checkbox\" ><label for=\"sk-estimator-id-4\" class=\"sk-toggleable__label sk-toggleable__label-arrow\">GridSearchCV</label><div class=\"sk-toggleable__content\"><pre>GridSearchCV(cv=3, estimator=KNeighborsRegressor(),\n",
       "             param_grid={&#x27;n_neighbors&#x27;: [5, 7, 9, 12]}, scoring=&#x27;r2&#x27;,\n",
       "             verbose=3)</pre></div></div></div><div class=\"sk-parallel\"><div class=\"sk-parallel-item\"><div class=\"sk-item\"><div class=\"sk-label-container\"><div class=\"sk-label sk-toggleable\"><input class=\"sk-toggleable__control sk-hidden--visually\" id=\"sk-estimator-id-5\" type=\"checkbox\" ><label for=\"sk-estimator-id-5\" class=\"sk-toggleable__label sk-toggleable__label-arrow\">estimator: KNeighborsRegressor</label><div class=\"sk-toggleable__content\"><pre>KNeighborsRegressor()</pre></div></div></div><div class=\"sk-serial\"><div class=\"sk-item\"><div class=\"sk-estimator sk-toggleable\"><input class=\"sk-toggleable__control sk-hidden--visually\" id=\"sk-estimator-id-6\" type=\"checkbox\" ><label for=\"sk-estimator-id-6\" class=\"sk-toggleable__label sk-toggleable__label-arrow\">KNeighborsRegressor</label><div class=\"sk-toggleable__content\"><pre>KNeighborsRegressor()</pre></div></div></div></div></div></div></div></div></div></div>"
      ],
      "text/plain": [
       "GridSearchCV(cv=3, estimator=KNeighborsRegressor(),\n",
       "             param_grid={'n_neighbors': [5, 7, 9, 12]}, scoring='r2',\n",
       "             verbose=3)"
      ]
     },
     "execution_count": 65,
     "metadata": {},
     "output_type": "execute_result"
    }
   ],
   "source": [
    "gscv.fit(x_train,y_train)"
   ]
  },
  {
   "cell_type": "code",
   "execution_count": 66,
   "id": "a7fbf75f",
   "metadata": {},
   "outputs": [
    {
     "data": {
      "text/plain": [
       "{'n_neighbors': 9}"
      ]
     },
     "execution_count": 66,
     "metadata": {},
     "output_type": "execute_result"
    }
   ],
   "source": [
    "gscv.best_params_"
   ]
  },
  {
   "cell_type": "code",
   "execution_count": 67,
   "id": "1743c3f7",
   "metadata": {},
   "outputs": [
    {
     "data": {
      "text/plain": [
       "0.6143029894563694"
      ]
     },
     "execution_count": 67,
     "metadata": {},
     "output_type": "execute_result"
    }
   ],
   "source": [
    "gscv.best_score_"
   ]
  },
  {
   "cell_type": "code",
   "execution_count": 68,
   "id": "7c58e5e4",
   "metadata": {},
   "outputs": [
    {
     "name": "stdout",
     "output_type": "stream",
     "text": [
      "DecisionTreeRegressor(max_depth=7)\n",
      "R2 :\t 0.6853137391388707\n",
      "Adj R2:\t 0.6853051575859466\n",
      "MSE:\t 7938735.531648202\n",
      "RMSE:\t 2817.576180274138 \n",
      "\n"
     ]
    }
   ],
   "source": [
    "model_results(DecisionTreeRegressor(max_depth=7),x_train,y_train,x_test,y_test)"
   ]
  },
  {
   "cell_type": "code",
   "execution_count": 69,
   "id": "be1082a9",
   "metadata": {},
   "outputs": [],
   "source": [
    "param = {'max_depth':[8,9,10,11,12]}"
   ]
  },
  {
   "cell_type": "code",
   "execution_count": 70,
   "id": "3a908b11",
   "metadata": {},
   "outputs": [],
   "source": [
    "gscv = GridSearchCV(estimator=DecisionTreeRegressor(),\n",
    "                   param_grid=param,\n",
    "                   scoring='r2',\n",
    "                   verbose=3,\n",
    "                   cv=3)"
   ]
  },
  {
   "cell_type": "code",
   "execution_count": 71,
   "id": "1d2e4140",
   "metadata": {},
   "outputs": [
    {
     "name": "stdout",
     "output_type": "stream",
     "text": [
      "Fitting 3 folds for each of 5 candidates, totalling 15 fits\n",
      "[CV 1/3] END .......................max_depth=8;, score=0.689 total time=   0.6s\n",
      "[CV 2/3] END .......................max_depth=8;, score=0.691 total time=   0.6s\n",
      "[CV 3/3] END .......................max_depth=8;, score=0.682 total time=   0.6s\n",
      "[CV 1/3] END .......................max_depth=9;, score=0.692 total time=   0.7s\n",
      "[CV 2/3] END .......................max_depth=9;, score=0.694 total time=   0.7s\n",
      "[CV 3/3] END .......................max_depth=9;, score=0.685 total time=   0.7s\n",
      "[CV 1/3] END ......................max_depth=10;, score=0.694 total time=   0.8s\n",
      "[CV 2/3] END ......................max_depth=10;, score=0.696 total time=   0.8s\n",
      "[CV 3/3] END ......................max_depth=10;, score=0.687 total time=   0.8s\n",
      "[CV 1/3] END ......................max_depth=11;, score=0.693 total time=   0.9s\n",
      "[CV 2/3] END ......................max_depth=11;, score=0.695 total time=   0.9s\n",
      "[CV 3/3] END ......................max_depth=11;, score=0.688 total time=   0.8s\n",
      "[CV 1/3] END ......................max_depth=12;, score=0.691 total time=   0.9s\n",
      "[CV 2/3] END ......................max_depth=12;, score=0.692 total time=   0.9s\n",
      "[CV 3/3] END ......................max_depth=12;, score=0.685 total time=   0.9s\n"
     ]
    },
    {
     "data": {
      "text/html": [
       "<style>#sk-container-id-3 {color: black;background-color: white;}#sk-container-id-3 pre{padding: 0;}#sk-container-id-3 div.sk-toggleable {background-color: white;}#sk-container-id-3 label.sk-toggleable__label {cursor: pointer;display: block;width: 100%;margin-bottom: 0;padding: 0.3em;box-sizing: border-box;text-align: center;}#sk-container-id-3 label.sk-toggleable__label-arrow:before {content: \"▸\";float: left;margin-right: 0.25em;color: #696969;}#sk-container-id-3 label.sk-toggleable__label-arrow:hover:before {color: black;}#sk-container-id-3 div.sk-estimator:hover label.sk-toggleable__label-arrow:before {color: black;}#sk-container-id-3 div.sk-toggleable__content {max-height: 0;max-width: 0;overflow: hidden;text-align: left;background-color: #f0f8ff;}#sk-container-id-3 div.sk-toggleable__content pre {margin: 0.2em;color: black;border-radius: 0.25em;background-color: #f0f8ff;}#sk-container-id-3 input.sk-toggleable__control:checked~div.sk-toggleable__content {max-height: 200px;max-width: 100%;overflow: auto;}#sk-container-id-3 input.sk-toggleable__control:checked~label.sk-toggleable__label-arrow:before {content: \"▾\";}#sk-container-id-3 div.sk-estimator input.sk-toggleable__control:checked~label.sk-toggleable__label {background-color: #d4ebff;}#sk-container-id-3 div.sk-label input.sk-toggleable__control:checked~label.sk-toggleable__label {background-color: #d4ebff;}#sk-container-id-3 input.sk-hidden--visually {border: 0;clip: rect(1px 1px 1px 1px);clip: rect(1px, 1px, 1px, 1px);height: 1px;margin: -1px;overflow: hidden;padding: 0;position: absolute;width: 1px;}#sk-container-id-3 div.sk-estimator {font-family: monospace;background-color: #f0f8ff;border: 1px dotted black;border-radius: 0.25em;box-sizing: border-box;margin-bottom: 0.5em;}#sk-container-id-3 div.sk-estimator:hover {background-color: #d4ebff;}#sk-container-id-3 div.sk-parallel-item::after {content: \"\";width: 100%;border-bottom: 1px solid gray;flex-grow: 1;}#sk-container-id-3 div.sk-label:hover label.sk-toggleable__label {background-color: #d4ebff;}#sk-container-id-3 div.sk-serial::before {content: \"\";position: absolute;border-left: 1px solid gray;box-sizing: border-box;top: 0;bottom: 0;left: 50%;z-index: 0;}#sk-container-id-3 div.sk-serial {display: flex;flex-direction: column;align-items: center;background-color: white;padding-right: 0.2em;padding-left: 0.2em;position: relative;}#sk-container-id-3 div.sk-item {position: relative;z-index: 1;}#sk-container-id-3 div.sk-parallel {display: flex;align-items: stretch;justify-content: center;background-color: white;position: relative;}#sk-container-id-3 div.sk-item::before, #sk-container-id-3 div.sk-parallel-item::before {content: \"\";position: absolute;border-left: 1px solid gray;box-sizing: border-box;top: 0;bottom: 0;left: 50%;z-index: -1;}#sk-container-id-3 div.sk-parallel-item {display: flex;flex-direction: column;z-index: 1;position: relative;background-color: white;}#sk-container-id-3 div.sk-parallel-item:first-child::after {align-self: flex-end;width: 50%;}#sk-container-id-3 div.sk-parallel-item:last-child::after {align-self: flex-start;width: 50%;}#sk-container-id-3 div.sk-parallel-item:only-child::after {width: 0;}#sk-container-id-3 div.sk-dashed-wrapped {border: 1px dashed gray;margin: 0 0.4em 0.5em 0.4em;box-sizing: border-box;padding-bottom: 0.4em;background-color: white;}#sk-container-id-3 div.sk-label label {font-family: monospace;font-weight: bold;display: inline-block;line-height: 1.2em;}#sk-container-id-3 div.sk-label-container {text-align: center;}#sk-container-id-3 div.sk-container {/* jupyter's `normalize.less` sets `[hidden] { display: none; }` but bootstrap.min.css set `[hidden] { display: none !important; }` so we also need the `!important` here to be able to override the default hidden behavior on the sphinx rendered scikit-learn.org. See: https://github.com/scikit-learn/scikit-learn/issues/21755 */display: inline-block !important;position: relative;}#sk-container-id-3 div.sk-text-repr-fallback {display: none;}</style><div id=\"sk-container-id-3\" class=\"sk-top-container\"><div class=\"sk-text-repr-fallback\"><pre>GridSearchCV(cv=3, estimator=DecisionTreeRegressor(),\n",
       "             param_grid={&#x27;max_depth&#x27;: [8, 9, 10, 11, 12]}, scoring=&#x27;r2&#x27;,\n",
       "             verbose=3)</pre><b>In a Jupyter environment, please rerun this cell to show the HTML representation or trust the notebook. <br />On GitHub, the HTML representation is unable to render, please try loading this page with nbviewer.org.</b></div><div class=\"sk-container\" hidden><div class=\"sk-item sk-dashed-wrapped\"><div class=\"sk-label-container\"><div class=\"sk-label sk-toggleable\"><input class=\"sk-toggleable__control sk-hidden--visually\" id=\"sk-estimator-id-7\" type=\"checkbox\" ><label for=\"sk-estimator-id-7\" class=\"sk-toggleable__label sk-toggleable__label-arrow\">GridSearchCV</label><div class=\"sk-toggleable__content\"><pre>GridSearchCV(cv=3, estimator=DecisionTreeRegressor(),\n",
       "             param_grid={&#x27;max_depth&#x27;: [8, 9, 10, 11, 12]}, scoring=&#x27;r2&#x27;,\n",
       "             verbose=3)</pre></div></div></div><div class=\"sk-parallel\"><div class=\"sk-parallel-item\"><div class=\"sk-item\"><div class=\"sk-label-container\"><div class=\"sk-label sk-toggleable\"><input class=\"sk-toggleable__control sk-hidden--visually\" id=\"sk-estimator-id-8\" type=\"checkbox\" ><label for=\"sk-estimator-id-8\" class=\"sk-toggleable__label sk-toggleable__label-arrow\">estimator: DecisionTreeRegressor</label><div class=\"sk-toggleable__content\"><pre>DecisionTreeRegressor()</pre></div></div></div><div class=\"sk-serial\"><div class=\"sk-item\"><div class=\"sk-estimator sk-toggleable\"><input class=\"sk-toggleable__control sk-hidden--visually\" id=\"sk-estimator-id-9\" type=\"checkbox\" ><label for=\"sk-estimator-id-9\" class=\"sk-toggleable__label sk-toggleable__label-arrow\">DecisionTreeRegressor</label><div class=\"sk-toggleable__content\"><pre>DecisionTreeRegressor()</pre></div></div></div></div></div></div></div></div></div></div>"
      ],
      "text/plain": [
       "GridSearchCV(cv=3, estimator=DecisionTreeRegressor(),\n",
       "             param_grid={'max_depth': [8, 9, 10, 11, 12]}, scoring='r2',\n",
       "             verbose=3)"
      ]
     },
     "execution_count": 71,
     "metadata": {},
     "output_type": "execute_result"
    }
   ],
   "source": [
    "gscv.fit(x_train,y_train)"
   ]
  },
  {
   "cell_type": "code",
   "execution_count": 72,
   "id": "76b88736",
   "metadata": {},
   "outputs": [
    {
     "data": {
      "text/plain": [
       "{'max_depth': 10}"
      ]
     },
     "execution_count": 72,
     "metadata": {},
     "output_type": "execute_result"
    }
   ],
   "source": [
    "gscv.best_params_"
   ]
  },
  {
   "cell_type": "code",
   "execution_count": 73,
   "id": "56815826",
   "metadata": {},
   "outputs": [
    {
     "data": {
      "text/plain": [
       "0.6922556660854641"
      ]
     },
     "execution_count": 73,
     "metadata": {},
     "output_type": "execute_result"
    }
   ],
   "source": [
    "gscv.best_score_"
   ]
  },
  {
   "cell_type": "code",
   "execution_count": 74,
   "id": "3af4f210",
   "metadata": {},
   "outputs": [
    {
     "name": "stdout",
     "output_type": "stream",
     "text": [
      "DecisionTreeRegressor(max_depth=10)\n",
      "R2 :\t 0.6952512857926809\n",
      "Adj R2:\t 0.6952429752385041\n",
      "MSE:\t 7688036.455997009\n",
      "RMSE:\t 2772.7308661312604 \n",
      "\n"
     ]
    }
   ],
   "source": [
    "model_results(DecisionTreeRegressor(**gscv.best_params_),x_train,y_train,x_test,y_test)"
   ]
  },
  {
   "cell_type": "code",
   "execution_count": 75,
   "id": "a03bd002",
   "metadata": {},
   "outputs": [
    {
     "name": "stdout",
     "output_type": "stream",
     "text": [
      "RandomForestRegressor(max_depth=9, n_estimators=200)\n",
      "R2 :\t 0.6974718451932782\n",
      "Adj R2:\t 0.6974635951941698\n",
      "MSE:\t 7632017.379201547\n",
      "RMSE:\t 2762.610609405811 \n",
      "\n"
     ]
    }
   ],
   "source": [
    "model_results(RandomForestRegressor(n_estimators=200,max_depth=9),x_train,y_train,x_test,y_test)"
   ]
  },
  {
   "cell_type": "code",
   "execution_count": 76,
   "id": "e1e4956c",
   "metadata": {},
   "outputs": [],
   "source": [
    "params = {'n_estimators':[200,250,300],\n",
    "         'max_depth':[8,9,10]}\n",
    "\n",
    "gscv = GridSearchCV(estimator=RandomForestRegressor(),\n",
    "                   param_grid=params,\n",
    "                   cv=3,\n",
    "                   scoring='r2',\n",
    "                   verbose=3)"
   ]
  },
  {
   "cell_type": "code",
   "execution_count": 77,
   "id": "f1dff2fe",
   "metadata": {},
   "outputs": [],
   "source": [
    "# gscv.fit(x_train,y_train)"
   ]
  },
  {
   "cell_type": "code",
   "execution_count": 78,
   "id": "d02b5d85",
   "metadata": {},
   "outputs": [],
   "source": [
    "# Saving a model using pickle file"
   ]
  },
  {
   "cell_type": "code",
   "execution_count": 79,
   "id": "c13f7a11",
   "metadata": {},
   "outputs": [],
   "source": [
    "model_dt = DecisionTreeRegressor(max_depth=9)"
   ]
  },
  {
   "cell_type": "code",
   "execution_count": 80,
   "id": "51400843",
   "metadata": {},
   "outputs": [
    {
     "data": {
      "text/html": [
       "<style>#sk-container-id-4 {color: black;background-color: white;}#sk-container-id-4 pre{padding: 0;}#sk-container-id-4 div.sk-toggleable {background-color: white;}#sk-container-id-4 label.sk-toggleable__label {cursor: pointer;display: block;width: 100%;margin-bottom: 0;padding: 0.3em;box-sizing: border-box;text-align: center;}#sk-container-id-4 label.sk-toggleable__label-arrow:before {content: \"▸\";float: left;margin-right: 0.25em;color: #696969;}#sk-container-id-4 label.sk-toggleable__label-arrow:hover:before {color: black;}#sk-container-id-4 div.sk-estimator:hover label.sk-toggleable__label-arrow:before {color: black;}#sk-container-id-4 div.sk-toggleable__content {max-height: 0;max-width: 0;overflow: hidden;text-align: left;background-color: #f0f8ff;}#sk-container-id-4 div.sk-toggleable__content pre {margin: 0.2em;color: black;border-radius: 0.25em;background-color: #f0f8ff;}#sk-container-id-4 input.sk-toggleable__control:checked~div.sk-toggleable__content {max-height: 200px;max-width: 100%;overflow: auto;}#sk-container-id-4 input.sk-toggleable__control:checked~label.sk-toggleable__label-arrow:before {content: \"▾\";}#sk-container-id-4 div.sk-estimator input.sk-toggleable__control:checked~label.sk-toggleable__label {background-color: #d4ebff;}#sk-container-id-4 div.sk-label input.sk-toggleable__control:checked~label.sk-toggleable__label {background-color: #d4ebff;}#sk-container-id-4 input.sk-hidden--visually {border: 0;clip: rect(1px 1px 1px 1px);clip: rect(1px, 1px, 1px, 1px);height: 1px;margin: -1px;overflow: hidden;padding: 0;position: absolute;width: 1px;}#sk-container-id-4 div.sk-estimator {font-family: monospace;background-color: #f0f8ff;border: 1px dotted black;border-radius: 0.25em;box-sizing: border-box;margin-bottom: 0.5em;}#sk-container-id-4 div.sk-estimator:hover {background-color: #d4ebff;}#sk-container-id-4 div.sk-parallel-item::after {content: \"\";width: 100%;border-bottom: 1px solid gray;flex-grow: 1;}#sk-container-id-4 div.sk-label:hover label.sk-toggleable__label {background-color: #d4ebff;}#sk-container-id-4 div.sk-serial::before {content: \"\";position: absolute;border-left: 1px solid gray;box-sizing: border-box;top: 0;bottom: 0;left: 50%;z-index: 0;}#sk-container-id-4 div.sk-serial {display: flex;flex-direction: column;align-items: center;background-color: white;padding-right: 0.2em;padding-left: 0.2em;position: relative;}#sk-container-id-4 div.sk-item {position: relative;z-index: 1;}#sk-container-id-4 div.sk-parallel {display: flex;align-items: stretch;justify-content: center;background-color: white;position: relative;}#sk-container-id-4 div.sk-item::before, #sk-container-id-4 div.sk-parallel-item::before {content: \"\";position: absolute;border-left: 1px solid gray;box-sizing: border-box;top: 0;bottom: 0;left: 50%;z-index: -1;}#sk-container-id-4 div.sk-parallel-item {display: flex;flex-direction: column;z-index: 1;position: relative;background-color: white;}#sk-container-id-4 div.sk-parallel-item:first-child::after {align-self: flex-end;width: 50%;}#sk-container-id-4 div.sk-parallel-item:last-child::after {align-self: flex-start;width: 50%;}#sk-container-id-4 div.sk-parallel-item:only-child::after {width: 0;}#sk-container-id-4 div.sk-dashed-wrapped {border: 1px dashed gray;margin: 0 0.4em 0.5em 0.4em;box-sizing: border-box;padding-bottom: 0.4em;background-color: white;}#sk-container-id-4 div.sk-label label {font-family: monospace;font-weight: bold;display: inline-block;line-height: 1.2em;}#sk-container-id-4 div.sk-label-container {text-align: center;}#sk-container-id-4 div.sk-container {/* jupyter's `normalize.less` sets `[hidden] { display: none; }` but bootstrap.min.css set `[hidden] { display: none !important; }` so we also need the `!important` here to be able to override the default hidden behavior on the sphinx rendered scikit-learn.org. See: https://github.com/scikit-learn/scikit-learn/issues/21755 */display: inline-block !important;position: relative;}#sk-container-id-4 div.sk-text-repr-fallback {display: none;}</style><div id=\"sk-container-id-4\" class=\"sk-top-container\"><div class=\"sk-text-repr-fallback\"><pre>DecisionTreeRegressor(max_depth=9)</pre><b>In a Jupyter environment, please rerun this cell to show the HTML representation or trust the notebook. <br />On GitHub, the HTML representation is unable to render, please try loading this page with nbviewer.org.</b></div><div class=\"sk-container\" hidden><div class=\"sk-item\"><div class=\"sk-estimator sk-toggleable\"><input class=\"sk-toggleable__control sk-hidden--visually\" id=\"sk-estimator-id-10\" type=\"checkbox\" checked><label for=\"sk-estimator-id-10\" class=\"sk-toggleable__label sk-toggleable__label-arrow\">DecisionTreeRegressor</label><div class=\"sk-toggleable__content\"><pre>DecisionTreeRegressor(max_depth=9)</pre></div></div></div></div></div>"
      ],
      "text/plain": [
       "DecisionTreeRegressor(max_depth=9)"
      ]
     },
     "execution_count": 80,
     "metadata": {},
     "output_type": "execute_result"
    }
   ],
   "source": [
    "model_dt.fit(x_train,y_train)"
   ]
  },
  {
   "cell_type": "code",
   "execution_count": 81,
   "id": "2225d472",
   "metadata": {},
   "outputs": [
    {
     "data": {
      "text/plain": [
       "0.6925145961251575"
      ]
     },
     "execution_count": 81,
     "metadata": {},
     "output_type": "execute_result"
    }
   ],
   "source": [
    "model_dt.score(x_test,y_test)"
   ]
  },
  {
   "cell_type": "code",
   "execution_count": 82,
   "id": "71f25eca",
   "metadata": {},
   "outputs": [],
   "source": [
    "import pickle"
   ]
  },
  {
   "cell_type": "code",
   "execution_count": 83,
   "id": "6a604d4d",
   "metadata": {},
   "outputs": [],
   "source": [
    "file = open('dt_model.pkl','wb')\n",
    "pickle.dump(model_dt,file)"
   ]
  },
  {
   "cell_type": "code",
   "execution_count": 84,
   "id": "b37b439c",
   "metadata": {},
   "outputs": [],
   "source": [
    "file = open('dt_model.pkl','rb')\n",
    "mod = pickle.load(file)"
   ]
  },
  {
   "cell_type": "code",
   "execution_count": 85,
   "id": "1ff4cb22",
   "metadata": {},
   "outputs": [
    {
     "data": {
      "text/plain": [
       "0.6925145961251575"
      ]
     },
     "execution_count": 85,
     "metadata": {},
     "output_type": "execute_result"
    }
   ],
   "source": [
    "mod.score(x_test,y_test)"
   ]
  },
  {
   "cell_type": "code",
   "execution_count": 86,
   "id": "4b04e09f",
   "metadata": {},
   "outputs": [],
   "source": [
    "## Gradient Boosting"
   ]
  },
  {
   "cell_type": "code",
   "execution_count": 87,
   "id": "286055fd",
   "metadata": {},
   "outputs": [
    {
     "name": "stdout",
     "output_type": "stream",
     "text": [
      "GradientBoostingRegressor(max_depth=9, n_estimators=150)\n",
      "R2 :\t 0.7387484803726407\n",
      "Adj R2:\t 0.7387413559950589\n",
      "MSE:\t 6590712.654207874\n",
      "RMSE:\t 2567.2383321787393 \n",
      "\n"
     ]
    }
   ],
   "source": [
    "model_results(GradientBoostingRegressor(n_estimators=150,max_depth=9),x_train,y_train,x_test,y_test)"
   ]
  },
  {
   "cell_type": "code",
   "execution_count": 88,
   "id": "fd85fa29",
   "metadata": {},
   "outputs": [],
   "source": [
    "## Bagging Regressor"
   ]
  },
  {
   "cell_type": "code",
   "execution_count": 89,
   "id": "d97fab5e",
   "metadata": {},
   "outputs": [],
   "source": [
    "from sklearn.ensemble import BaggingRegressor"
   ]
  },
  {
   "cell_type": "code",
   "execution_count": 90,
   "id": "530ef9fb",
   "metadata": {},
   "outputs": [],
   "source": [
    "bag_reg = BaggingRegressor(base_estimator=KNeighborsRegressor(n_neighbors=7),\n",
    "                          n_estimators=100)"
   ]
  },
  {
   "cell_type": "code",
   "execution_count": 91,
   "id": "c9f78c43",
   "metadata": {},
   "outputs": [
    {
     "data": {
      "text/html": [
       "<style>#sk-container-id-5 {color: black;background-color: white;}#sk-container-id-5 pre{padding: 0;}#sk-container-id-5 div.sk-toggleable {background-color: white;}#sk-container-id-5 label.sk-toggleable__label {cursor: pointer;display: block;width: 100%;margin-bottom: 0;padding: 0.3em;box-sizing: border-box;text-align: center;}#sk-container-id-5 label.sk-toggleable__label-arrow:before {content: \"▸\";float: left;margin-right: 0.25em;color: #696969;}#sk-container-id-5 label.sk-toggleable__label-arrow:hover:before {color: black;}#sk-container-id-5 div.sk-estimator:hover label.sk-toggleable__label-arrow:before {color: black;}#sk-container-id-5 div.sk-toggleable__content {max-height: 0;max-width: 0;overflow: hidden;text-align: left;background-color: #f0f8ff;}#sk-container-id-5 div.sk-toggleable__content pre {margin: 0.2em;color: black;border-radius: 0.25em;background-color: #f0f8ff;}#sk-container-id-5 input.sk-toggleable__control:checked~div.sk-toggleable__content {max-height: 200px;max-width: 100%;overflow: auto;}#sk-container-id-5 input.sk-toggleable__control:checked~label.sk-toggleable__label-arrow:before {content: \"▾\";}#sk-container-id-5 div.sk-estimator input.sk-toggleable__control:checked~label.sk-toggleable__label {background-color: #d4ebff;}#sk-container-id-5 div.sk-label input.sk-toggleable__control:checked~label.sk-toggleable__label {background-color: #d4ebff;}#sk-container-id-5 input.sk-hidden--visually {border: 0;clip: rect(1px 1px 1px 1px);clip: rect(1px, 1px, 1px, 1px);height: 1px;margin: -1px;overflow: hidden;padding: 0;position: absolute;width: 1px;}#sk-container-id-5 div.sk-estimator {font-family: monospace;background-color: #f0f8ff;border: 1px dotted black;border-radius: 0.25em;box-sizing: border-box;margin-bottom: 0.5em;}#sk-container-id-5 div.sk-estimator:hover {background-color: #d4ebff;}#sk-container-id-5 div.sk-parallel-item::after {content: \"\";width: 100%;border-bottom: 1px solid gray;flex-grow: 1;}#sk-container-id-5 div.sk-label:hover label.sk-toggleable__label {background-color: #d4ebff;}#sk-container-id-5 div.sk-serial::before {content: \"\";position: absolute;border-left: 1px solid gray;box-sizing: border-box;top: 0;bottom: 0;left: 50%;z-index: 0;}#sk-container-id-5 div.sk-serial {display: flex;flex-direction: column;align-items: center;background-color: white;padding-right: 0.2em;padding-left: 0.2em;position: relative;}#sk-container-id-5 div.sk-item {position: relative;z-index: 1;}#sk-container-id-5 div.sk-parallel {display: flex;align-items: stretch;justify-content: center;background-color: white;position: relative;}#sk-container-id-5 div.sk-item::before, #sk-container-id-5 div.sk-parallel-item::before {content: \"\";position: absolute;border-left: 1px solid gray;box-sizing: border-box;top: 0;bottom: 0;left: 50%;z-index: -1;}#sk-container-id-5 div.sk-parallel-item {display: flex;flex-direction: column;z-index: 1;position: relative;background-color: white;}#sk-container-id-5 div.sk-parallel-item:first-child::after {align-self: flex-end;width: 50%;}#sk-container-id-5 div.sk-parallel-item:last-child::after {align-self: flex-start;width: 50%;}#sk-container-id-5 div.sk-parallel-item:only-child::after {width: 0;}#sk-container-id-5 div.sk-dashed-wrapped {border: 1px dashed gray;margin: 0 0.4em 0.5em 0.4em;box-sizing: border-box;padding-bottom: 0.4em;background-color: white;}#sk-container-id-5 div.sk-label label {font-family: monospace;font-weight: bold;display: inline-block;line-height: 1.2em;}#sk-container-id-5 div.sk-label-container {text-align: center;}#sk-container-id-5 div.sk-container {/* jupyter's `normalize.less` sets `[hidden] { display: none; }` but bootstrap.min.css set `[hidden] { display: none !important; }` so we also need the `!important` here to be able to override the default hidden behavior on the sphinx rendered scikit-learn.org. See: https://github.com/scikit-learn/scikit-learn/issues/21755 */display: inline-block !important;position: relative;}#sk-container-id-5 div.sk-text-repr-fallback {display: none;}</style><div id=\"sk-container-id-5\" class=\"sk-top-container\"><div class=\"sk-text-repr-fallback\"><pre>BaggingRegressor(base_estimator=KNeighborsRegressor(n_neighbors=7),\n",
       "                 n_estimators=100)</pre><b>In a Jupyter environment, please rerun this cell to show the HTML representation or trust the notebook. <br />On GitHub, the HTML representation is unable to render, please try loading this page with nbviewer.org.</b></div><div class=\"sk-container\" hidden><div class=\"sk-item sk-dashed-wrapped\"><div class=\"sk-label-container\"><div class=\"sk-label sk-toggleable\"><input class=\"sk-toggleable__control sk-hidden--visually\" id=\"sk-estimator-id-11\" type=\"checkbox\" ><label for=\"sk-estimator-id-11\" class=\"sk-toggleable__label sk-toggleable__label-arrow\">BaggingRegressor</label><div class=\"sk-toggleable__content\"><pre>BaggingRegressor(base_estimator=KNeighborsRegressor(n_neighbors=7),\n",
       "                 n_estimators=100)</pre></div></div></div><div class=\"sk-parallel\"><div class=\"sk-parallel-item\"><div class=\"sk-item\"><div class=\"sk-label-container\"><div class=\"sk-label sk-toggleable\"><input class=\"sk-toggleable__control sk-hidden--visually\" id=\"sk-estimator-id-12\" type=\"checkbox\" ><label for=\"sk-estimator-id-12\" class=\"sk-toggleable__label sk-toggleable__label-arrow\">base_estimator: KNeighborsRegressor</label><div class=\"sk-toggleable__content\"><pre>KNeighborsRegressor(n_neighbors=7)</pre></div></div></div><div class=\"sk-serial\"><div class=\"sk-item\"><div class=\"sk-estimator sk-toggleable\"><input class=\"sk-toggleable__control sk-hidden--visually\" id=\"sk-estimator-id-13\" type=\"checkbox\" ><label for=\"sk-estimator-id-13\" class=\"sk-toggleable__label sk-toggleable__label-arrow\">KNeighborsRegressor</label><div class=\"sk-toggleable__content\"><pre>KNeighborsRegressor(n_neighbors=7)</pre></div></div></div></div></div></div></div></div></div></div>"
      ],
      "text/plain": [
       "BaggingRegressor(base_estimator=KNeighborsRegressor(n_neighbors=7),\n",
       "                 n_estimators=100)"
      ]
     },
     "execution_count": 91,
     "metadata": {},
     "output_type": "execute_result"
    }
   ],
   "source": [
    "bag_reg.fit(x_train,y_train)"
   ]
  },
  {
   "cell_type": "code",
   "execution_count": 92,
   "id": "f6f5e204",
   "metadata": {},
   "outputs": [],
   "source": [
    "# bag_reg.score(x_test,y_test)"
   ]
  },
  {
   "cell_type": "code",
   "execution_count": 93,
   "id": "5547f73f",
   "metadata": {},
   "outputs": [],
   "source": [
    "# Stacking\n",
    "import pickle"
   ]
  },
  {
   "cell_type": "code",
   "execution_count": 94,
   "id": "ef5acd86",
   "metadata": {},
   "outputs": [],
   "source": [
    "from sklearn.ensemble import StackingRegressor"
   ]
  },
  {
   "cell_type": "code",
   "execution_count": 95,
   "id": "3d302249",
   "metadata": {},
   "outputs": [],
   "source": [
    "base_models = [('DT',DecisionTreeRegressor(max_depth=10)),\n",
    "              ('RF',RandomForestRegressor(n_estimators=200,max_depth=10)),\n",
    "              ('GBR',GradientBoostingRegressor(n_estimators=200,max_depth=10))]"
   ]
  },
  {
   "cell_type": "code",
   "execution_count": 96,
   "id": "8d3842bc",
   "metadata": {},
   "outputs": [],
   "source": [
    "stack_model = StackingRegressor(estimators=base_models,cv=3)"
   ]
  },
  {
   "cell_type": "code",
   "execution_count": 97,
   "id": "f2d8d3e2",
   "metadata": {},
   "outputs": [
    {
     "data": {
      "text/html": [
       "<style>#sk-container-id-6 {color: black;background-color: white;}#sk-container-id-6 pre{padding: 0;}#sk-container-id-6 div.sk-toggleable {background-color: white;}#sk-container-id-6 label.sk-toggleable__label {cursor: pointer;display: block;width: 100%;margin-bottom: 0;padding: 0.3em;box-sizing: border-box;text-align: center;}#sk-container-id-6 label.sk-toggleable__label-arrow:before {content: \"▸\";float: left;margin-right: 0.25em;color: #696969;}#sk-container-id-6 label.sk-toggleable__label-arrow:hover:before {color: black;}#sk-container-id-6 div.sk-estimator:hover label.sk-toggleable__label-arrow:before {color: black;}#sk-container-id-6 div.sk-toggleable__content {max-height: 0;max-width: 0;overflow: hidden;text-align: left;background-color: #f0f8ff;}#sk-container-id-6 div.sk-toggleable__content pre {margin: 0.2em;color: black;border-radius: 0.25em;background-color: #f0f8ff;}#sk-container-id-6 input.sk-toggleable__control:checked~div.sk-toggleable__content {max-height: 200px;max-width: 100%;overflow: auto;}#sk-container-id-6 input.sk-toggleable__control:checked~label.sk-toggleable__label-arrow:before {content: \"▾\";}#sk-container-id-6 div.sk-estimator input.sk-toggleable__control:checked~label.sk-toggleable__label {background-color: #d4ebff;}#sk-container-id-6 div.sk-label input.sk-toggleable__control:checked~label.sk-toggleable__label {background-color: #d4ebff;}#sk-container-id-6 input.sk-hidden--visually {border: 0;clip: rect(1px 1px 1px 1px);clip: rect(1px, 1px, 1px, 1px);height: 1px;margin: -1px;overflow: hidden;padding: 0;position: absolute;width: 1px;}#sk-container-id-6 div.sk-estimator {font-family: monospace;background-color: #f0f8ff;border: 1px dotted black;border-radius: 0.25em;box-sizing: border-box;margin-bottom: 0.5em;}#sk-container-id-6 div.sk-estimator:hover {background-color: #d4ebff;}#sk-container-id-6 div.sk-parallel-item::after {content: \"\";width: 100%;border-bottom: 1px solid gray;flex-grow: 1;}#sk-container-id-6 div.sk-label:hover label.sk-toggleable__label {background-color: #d4ebff;}#sk-container-id-6 div.sk-serial::before {content: \"\";position: absolute;border-left: 1px solid gray;box-sizing: border-box;top: 0;bottom: 0;left: 50%;z-index: 0;}#sk-container-id-6 div.sk-serial {display: flex;flex-direction: column;align-items: center;background-color: white;padding-right: 0.2em;padding-left: 0.2em;position: relative;}#sk-container-id-6 div.sk-item {position: relative;z-index: 1;}#sk-container-id-6 div.sk-parallel {display: flex;align-items: stretch;justify-content: center;background-color: white;position: relative;}#sk-container-id-6 div.sk-item::before, #sk-container-id-6 div.sk-parallel-item::before {content: \"\";position: absolute;border-left: 1px solid gray;box-sizing: border-box;top: 0;bottom: 0;left: 50%;z-index: -1;}#sk-container-id-6 div.sk-parallel-item {display: flex;flex-direction: column;z-index: 1;position: relative;background-color: white;}#sk-container-id-6 div.sk-parallel-item:first-child::after {align-self: flex-end;width: 50%;}#sk-container-id-6 div.sk-parallel-item:last-child::after {align-self: flex-start;width: 50%;}#sk-container-id-6 div.sk-parallel-item:only-child::after {width: 0;}#sk-container-id-6 div.sk-dashed-wrapped {border: 1px dashed gray;margin: 0 0.4em 0.5em 0.4em;box-sizing: border-box;padding-bottom: 0.4em;background-color: white;}#sk-container-id-6 div.sk-label label {font-family: monospace;font-weight: bold;display: inline-block;line-height: 1.2em;}#sk-container-id-6 div.sk-label-container {text-align: center;}#sk-container-id-6 div.sk-container {/* jupyter's `normalize.less` sets `[hidden] { display: none; }` but bootstrap.min.css set `[hidden] { display: none !important; }` so we also need the `!important` here to be able to override the default hidden behavior on the sphinx rendered scikit-learn.org. See: https://github.com/scikit-learn/scikit-learn/issues/21755 */display: inline-block !important;position: relative;}#sk-container-id-6 div.sk-text-repr-fallback {display: none;}</style><div id=\"sk-container-id-6\" class=\"sk-top-container\"><div class=\"sk-text-repr-fallback\"><pre>StackingRegressor(cv=3,\n",
       "                  estimators=[(&#x27;DT&#x27;, DecisionTreeRegressor(max_depth=10)),\n",
       "                              (&#x27;RF&#x27;,\n",
       "                               RandomForestRegressor(max_depth=10,\n",
       "                                                     n_estimators=200)),\n",
       "                              (&#x27;GBR&#x27;,\n",
       "                               GradientBoostingRegressor(max_depth=10,\n",
       "                                                         n_estimators=200))])</pre><b>In a Jupyter environment, please rerun this cell to show the HTML representation or trust the notebook. <br />On GitHub, the HTML representation is unable to render, please try loading this page with nbviewer.org.</b></div><div class=\"sk-container\" hidden><div class=\"sk-item sk-dashed-wrapped\"><div class=\"sk-label-container\"><div class=\"sk-label sk-toggleable\"><input class=\"sk-toggleable__control sk-hidden--visually\" id=\"sk-estimator-id-14\" type=\"checkbox\" ><label for=\"sk-estimator-id-14\" class=\"sk-toggleable__label sk-toggleable__label-arrow\">StackingRegressor</label><div class=\"sk-toggleable__content\"><pre>StackingRegressor(cv=3,\n",
       "                  estimators=[(&#x27;DT&#x27;, DecisionTreeRegressor(max_depth=10)),\n",
       "                              (&#x27;RF&#x27;,\n",
       "                               RandomForestRegressor(max_depth=10,\n",
       "                                                     n_estimators=200)),\n",
       "                              (&#x27;GBR&#x27;,\n",
       "                               GradientBoostingRegressor(max_depth=10,\n",
       "                                                         n_estimators=200))])</pre></div></div></div><div class=\"sk-serial\"><div class=\"sk-item\"><div class=\"sk-parallel\"><div class=\"sk-parallel-item\"><div class=\"sk-item\"><div class=\"sk-label-container\"><div class=\"sk-label sk-toggleable\"><label>DT</label></div></div><div class=\"sk-serial\"><div class=\"sk-item\"><div class=\"sk-estimator sk-toggleable\"><input class=\"sk-toggleable__control sk-hidden--visually\" id=\"sk-estimator-id-15\" type=\"checkbox\" ><label for=\"sk-estimator-id-15\" class=\"sk-toggleable__label sk-toggleable__label-arrow\">DecisionTreeRegressor</label><div class=\"sk-toggleable__content\"><pre>DecisionTreeRegressor(max_depth=10)</pre></div></div></div></div></div></div><div class=\"sk-parallel-item\"><div class=\"sk-item\"><div class=\"sk-label-container\"><div class=\"sk-label sk-toggleable\"><label>RF</label></div></div><div class=\"sk-serial\"><div class=\"sk-item\"><div class=\"sk-estimator sk-toggleable\"><input class=\"sk-toggleable__control sk-hidden--visually\" id=\"sk-estimator-id-16\" type=\"checkbox\" ><label for=\"sk-estimator-id-16\" class=\"sk-toggleable__label sk-toggleable__label-arrow\">RandomForestRegressor</label><div class=\"sk-toggleable__content\"><pre>RandomForestRegressor(max_depth=10, n_estimators=200)</pre></div></div></div></div></div></div><div class=\"sk-parallel-item\"><div class=\"sk-item\"><div class=\"sk-label-container\"><div class=\"sk-label sk-toggleable\"><label>GBR</label></div></div><div class=\"sk-serial\"><div class=\"sk-item\"><div class=\"sk-estimator sk-toggleable\"><input class=\"sk-toggleable__control sk-hidden--visually\" id=\"sk-estimator-id-17\" type=\"checkbox\" ><label for=\"sk-estimator-id-17\" class=\"sk-toggleable__label sk-toggleable__label-arrow\">GradientBoostingRegressor</label><div class=\"sk-toggleable__content\"><pre>GradientBoostingRegressor(max_depth=10, n_estimators=200)</pre></div></div></div></div></div></div></div></div><div class=\"sk-item\"><div class=\"sk-parallel\"><div class=\"sk-parallel-item\"><div class=\"sk-item\"><div class=\"sk-label-container\"><div class=\"sk-label sk-toggleable\"><label>final_estimator</label></div></div><div class=\"sk-serial\"><div class=\"sk-item\"><div class=\"sk-estimator sk-toggleable\"><input class=\"sk-toggleable__control sk-hidden--visually\" id=\"sk-estimator-id-18\" type=\"checkbox\" ><label for=\"sk-estimator-id-18\" class=\"sk-toggleable__label sk-toggleable__label-arrow\">RidgeCV</label><div class=\"sk-toggleable__content\"><pre>RidgeCV()</pre></div></div></div></div></div></div></div></div></div></div></div></div>"
      ],
      "text/plain": [
       "StackingRegressor(cv=3,\n",
       "                  estimators=[('DT', DecisionTreeRegressor(max_depth=10)),\n",
       "                              ('RF',\n",
       "                               RandomForestRegressor(max_depth=10,\n",
       "                                                     n_estimators=200)),\n",
       "                              ('GBR',\n",
       "                               GradientBoostingRegressor(max_depth=10,\n",
       "                                                         n_estimators=200))])"
      ]
     },
     "execution_count": 97,
     "metadata": {},
     "output_type": "execute_result"
    }
   ],
   "source": [
    "stack_model.fit(x_train,y_train)"
   ]
  },
  {
   "cell_type": "code",
   "execution_count": 98,
   "id": "97a2f30c",
   "metadata": {},
   "outputs": [],
   "source": [
    "file = open('stacking.pkl','wb')\n",
    "stack_model_pik = pickle.dump(stack_model,file)"
   ]
  },
  {
   "cell_type": "code",
   "execution_count": 99,
   "id": "79319168",
   "metadata": {},
   "outputs": [],
   "source": [
    "file = open('stacking.pkl','rb')\n",
    "mod = pickle.load(file)"
   ]
  },
  {
   "cell_type": "code",
   "execution_count": 100,
   "id": "e46fae06",
   "metadata": {},
   "outputs": [
    {
     "data": {
      "text/plain": [
       "0.7467816958525096"
      ]
     },
     "execution_count": 100,
     "metadata": {},
     "output_type": "execute_result"
    }
   ],
   "source": [
    "mod.score(x_test,y_test)"
   ]
  },
  {
   "cell_type": "code",
   "execution_count": 101,
   "id": "5a7b167f",
   "metadata": {},
   "outputs": [],
   "source": [
    "# catboost"
   ]
  },
  {
   "cell_type": "code",
   "execution_count": 102,
   "id": "234bf29c",
   "metadata": {},
   "outputs": [
    {
     "name": "stdout",
     "output_type": "stream",
     "text": [
      "Collecting catboost\n",
      "  Downloading catboost-1.0.6-cp39-none-win_amd64.whl (73.9 MB)\n",
      "Requirement already satisfied: graphviz in d:\\anaconda\\lib\\site-packages (from catboost) (0.20.1)\n",
      "Requirement already satisfied: pandas>=0.24.0 in d:\\anaconda\\lib\\site-packages (from catboost) (1.3.4)\n",
      "Requirement already satisfied: matplotlib in d:\\anaconda\\lib\\site-packages (from catboost) (3.4.3)\n",
      "Collecting plotly\n",
      "  Downloading plotly-5.10.0-py2.py3-none-any.whl (15.2 MB)\n",
      "Requirement already satisfied: six in d:\\anaconda\\lib\\site-packages (from catboost) (1.16.0)\n",
      "Requirement already satisfied: scipy in d:\\anaconda\\lib\\site-packages (from catboost) (1.7.1)\n",
      "Requirement already satisfied: numpy>=1.16.0 in d:\\anaconda\\lib\\site-packages (from catboost) (1.20.3)\n",
      "Requirement already satisfied: pytz>=2017.3 in d:\\anaconda\\lib\\site-packages (from pandas>=0.24.0->catboost) (2021.3)\n",
      "Requirement already satisfied: python-dateutil>=2.7.3 in d:\\anaconda\\lib\\site-packages (from pandas>=0.24.0->catboost) (2.8.2)\n",
      "Requirement already satisfied: pyparsing>=2.2.1 in d:\\anaconda\\lib\\site-packages (from matplotlib->catboost) (3.0.4)\n",
      "Requirement already satisfied: kiwisolver>=1.0.1 in d:\\anaconda\\lib\\site-packages (from matplotlib->catboost) (1.3.1)\n",
      "Requirement already satisfied: pillow>=6.2.0 in d:\\anaconda\\lib\\site-packages (from matplotlib->catboost) (8.4.0)\n",
      "Requirement already satisfied: cycler>=0.10 in d:\\anaconda\\lib\\site-packages (from matplotlib->catboost) (0.10.0)\n",
      "Collecting tenacity>=6.2.0\n",
      "  Downloading tenacity-8.0.1-py3-none-any.whl (24 kB)\n",
      "Installing collected packages: tenacity, plotly, catboost\n",
      "Successfully installed catboost-1.0.6 plotly-5.10.0 tenacity-8.0.1\n",
      "Note: you may need to restart the kernel to use updated packages.\n"
     ]
    }
   ],
   "source": [
    "pip install catboost"
   ]
  },
  {
   "cell_type": "code",
   "execution_count": 103,
   "id": "7010b43a",
   "metadata": {},
   "outputs": [],
   "source": [
    "from catboost import CatBoostRegressor"
   ]
  },
  {
   "cell_type": "code",
   "execution_count": 104,
   "id": "993263ca",
   "metadata": {},
   "outputs": [],
   "source": [
    "model_cat = CatBoostRegressor(n_estimators=600,max_depth=9)"
   ]
  },
  {
   "cell_type": "code",
   "execution_count": 105,
   "id": "4b1886aa",
   "metadata": {},
   "outputs": [
    {
     "name": "stdout",
     "output_type": "stream",
     "text": [
      "Learning rate set to 0.162262\n",
      "0:\tlearn: 4530.6232056\ttotal: 188ms\tremaining: 1m 52s\n",
      "1:\tlearn: 4142.2427249\ttotal: 225ms\tremaining: 1m 7s\n",
      "2:\tlearn: 3845.8547329\ttotal: 263ms\tremaining: 52.3s\n",
      "3:\tlearn: 3607.4014324\ttotal: 306ms\tremaining: 45.5s\n",
      "4:\tlearn: 3443.3625722\ttotal: 352ms\tremaining: 41.9s\n",
      "5:\tlearn: 3315.3896175\ttotal: 404ms\tremaining: 39.9s\n",
      "6:\tlearn: 3205.9216927\ttotal: 446ms\tremaining: 37.8s\n",
      "7:\tlearn: 3124.1970670\ttotal: 489ms\tremaining: 36.2s\n",
      "8:\tlearn: 3063.7422470\ttotal: 536ms\tremaining: 35.2s\n",
      "9:\tlearn: 3014.6048098\ttotal: 588ms\tremaining: 34.7s\n",
      "10:\tlearn: 2977.9313070\ttotal: 642ms\tremaining: 34.4s\n",
      "11:\tlearn: 2953.2053203\ttotal: 695ms\tremaining: 34.1s\n",
      "12:\tlearn: 2932.3912213\ttotal: 746ms\tremaining: 33.7s\n",
      "13:\tlearn: 2914.8027516\ttotal: 800ms\tremaining: 33.5s\n",
      "14:\tlearn: 2898.8313271\ttotal: 854ms\tremaining: 33.3s\n",
      "15:\tlearn: 2885.8110945\ttotal: 915ms\tremaining: 33.4s\n",
      "16:\tlearn: 2874.4288669\ttotal: 1.02s\tremaining: 35s\n",
      "17:\tlearn: 2866.4075304\ttotal: 1.08s\tremaining: 34.9s\n",
      "18:\tlearn: 2859.2515097\ttotal: 1.15s\tremaining: 35s\n",
      "19:\tlearn: 2853.1431911\ttotal: 1.22s\tremaining: 35.5s\n",
      "20:\tlearn: 2846.3240353\ttotal: 1.28s\tremaining: 35.2s\n",
      "21:\tlearn: 2842.2367882\ttotal: 1.33s\tremaining: 35.1s\n",
      "22:\tlearn: 2838.2841714\ttotal: 1.39s\tremaining: 34.9s\n",
      "23:\tlearn: 2834.1077482\ttotal: 1.45s\tremaining: 34.8s\n",
      "24:\tlearn: 2830.5310766\ttotal: 1.51s\tremaining: 34.7s\n",
      "25:\tlearn: 2827.5872743\ttotal: 1.57s\tremaining: 34.6s\n",
      "26:\tlearn: 2823.2510067\ttotal: 1.63s\tremaining: 34.5s\n",
      "27:\tlearn: 2819.2063012\ttotal: 1.69s\tremaining: 34.4s\n",
      "28:\tlearn: 2815.7736865\ttotal: 1.74s\tremaining: 34.3s\n",
      "29:\tlearn: 2812.4246571\ttotal: 1.8s\tremaining: 34.1s\n",
      "30:\tlearn: 2808.4149870\ttotal: 1.85s\tremaining: 33.9s\n",
      "31:\tlearn: 2805.2862896\ttotal: 1.9s\tremaining: 33.8s\n",
      "32:\tlearn: 2803.1509932\ttotal: 1.96s\tremaining: 33.7s\n",
      "33:\tlearn: 2800.7464673\ttotal: 2.01s\tremaining: 33.5s\n",
      "34:\tlearn: 2798.0159775\ttotal: 2.07s\tremaining: 33.4s\n",
      "35:\tlearn: 2795.7291446\ttotal: 2.13s\tremaining: 33.3s\n",
      "36:\tlearn: 2794.0549902\ttotal: 2.19s\tremaining: 33.3s\n",
      "37:\tlearn: 2792.4774772\ttotal: 2.24s\tremaining: 33.1s\n",
      "38:\tlearn: 2789.9689037\ttotal: 2.3s\tremaining: 33.1s\n",
      "39:\tlearn: 2787.4152295\ttotal: 2.36s\tremaining: 33s\n",
      "40:\tlearn: 2786.2255053\ttotal: 2.41s\tremaining: 32.9s\n",
      "41:\tlearn: 2782.7448126\ttotal: 2.47s\tremaining: 32.8s\n",
      "42:\tlearn: 2780.6639322\ttotal: 2.52s\tremaining: 32.6s\n",
      "43:\tlearn: 2778.3425209\ttotal: 2.57s\tremaining: 32.4s\n",
      "44:\tlearn: 2776.9642753\ttotal: 2.62s\tremaining: 32.3s\n",
      "45:\tlearn: 2775.3802496\ttotal: 2.67s\tremaining: 32.1s\n",
      "46:\tlearn: 2773.6528160\ttotal: 2.72s\tremaining: 32s\n",
      "47:\tlearn: 2772.1328789\ttotal: 2.77s\tremaining: 31.9s\n",
      "48:\tlearn: 2769.0007289\ttotal: 2.83s\tremaining: 31.8s\n",
      "49:\tlearn: 2767.8024153\ttotal: 2.88s\tremaining: 31.7s\n",
      "50:\tlearn: 2764.8479388\ttotal: 2.93s\tremaining: 31.6s\n",
      "51:\tlearn: 2763.7312094\ttotal: 2.98s\tremaining: 31.4s\n",
      "52:\tlearn: 2761.7277618\ttotal: 3.04s\tremaining: 31.3s\n",
      "53:\tlearn: 2761.0369613\ttotal: 3.08s\tremaining: 31.2s\n",
      "54:\tlearn: 2759.6206866\ttotal: 3.13s\tremaining: 31.1s\n",
      "55:\tlearn: 2756.8927583\ttotal: 3.19s\tremaining: 31s\n",
      "56:\tlearn: 2755.2746885\ttotal: 3.23s\tremaining: 30.8s\n",
      "57:\tlearn: 2754.2226754\ttotal: 3.3s\tremaining: 30.8s\n",
      "58:\tlearn: 2753.1951944\ttotal: 3.35s\tremaining: 30.8s\n",
      "59:\tlearn: 2750.8381102\ttotal: 3.41s\tremaining: 30.7s\n",
      "60:\tlearn: 2748.7815549\ttotal: 3.48s\tremaining: 30.7s\n",
      "61:\tlearn: 2746.7191326\ttotal: 3.53s\tremaining: 30.6s\n",
      "62:\tlearn: 2745.0440869\ttotal: 3.59s\tremaining: 30.6s\n",
      "63:\tlearn: 2743.0872977\ttotal: 3.65s\tremaining: 30.5s\n",
      "64:\tlearn: 2741.0176647\ttotal: 3.7s\tremaining: 30.4s\n",
      "65:\tlearn: 2740.0085986\ttotal: 3.75s\tremaining: 30.4s\n",
      "66:\tlearn: 2737.9416055\ttotal: 3.81s\tremaining: 30.3s\n",
      "67:\tlearn: 2736.8464622\ttotal: 3.85s\tremaining: 30.2s\n",
      "68:\tlearn: 2735.9455103\ttotal: 3.9s\tremaining: 30s\n",
      "69:\tlearn: 2734.3109626\ttotal: 3.96s\tremaining: 29.9s\n",
      "70:\tlearn: 2733.3016572\ttotal: 4.01s\tremaining: 29.8s\n",
      "71:\tlearn: 2732.2580087\ttotal: 4.05s\tremaining: 29.7s\n",
      "72:\tlearn: 2730.6123571\ttotal: 4.1s\tremaining: 29.6s\n",
      "73:\tlearn: 2729.8406889\ttotal: 4.15s\tremaining: 29.5s\n",
      "74:\tlearn: 2728.8404119\ttotal: 4.2s\tremaining: 29.4s\n",
      "75:\tlearn: 2727.8650260\ttotal: 4.25s\tremaining: 29.3s\n",
      "76:\tlearn: 2726.9148148\ttotal: 4.3s\tremaining: 29.2s\n",
      "77:\tlearn: 2725.9711700\ttotal: 4.36s\tremaining: 29.2s\n",
      "78:\tlearn: 2724.4791127\ttotal: 4.41s\tremaining: 29.1s\n",
      "79:\tlearn: 2723.3691093\ttotal: 4.47s\tremaining: 29s\n",
      "80:\tlearn: 2720.8608215\ttotal: 4.52s\tremaining: 29s\n",
      "81:\tlearn: 2719.8798757\ttotal: 4.57s\tremaining: 28.9s\n",
      "82:\tlearn: 2718.6123177\ttotal: 4.62s\tremaining: 28.8s\n",
      "83:\tlearn: 2717.6124777\ttotal: 4.68s\tremaining: 28.7s\n",
      "84:\tlearn: 2716.4115492\ttotal: 4.72s\tremaining: 28.6s\n",
      "85:\tlearn: 2715.2074011\ttotal: 4.77s\tremaining: 28.5s\n",
      "86:\tlearn: 2714.0185762\ttotal: 4.82s\tremaining: 28.4s\n",
      "87:\tlearn: 2712.9523217\ttotal: 4.87s\tremaining: 28.3s\n",
      "88:\tlearn: 2711.6934974\ttotal: 4.92s\tremaining: 28.2s\n",
      "89:\tlearn: 2709.6483282\ttotal: 4.97s\tremaining: 28.1s\n",
      "90:\tlearn: 2707.7104798\ttotal: 5.01s\tremaining: 28s\n",
      "91:\tlearn: 2706.7931384\ttotal: 5.06s\tremaining: 27.9s\n",
      "92:\tlearn: 2706.0658377\ttotal: 5.11s\tremaining: 27.8s\n",
      "93:\tlearn: 2705.0973349\ttotal: 5.15s\tremaining: 27.7s\n",
      "94:\tlearn: 2703.7452171\ttotal: 5.2s\tremaining: 27.6s\n",
      "95:\tlearn: 2702.4478358\ttotal: 5.24s\tremaining: 27.5s\n",
      "96:\tlearn: 2701.4633698\ttotal: 5.29s\tremaining: 27.4s\n",
      "97:\tlearn: 2700.5907232\ttotal: 5.33s\tremaining: 27.3s\n",
      "98:\tlearn: 2699.7845683\ttotal: 5.38s\tremaining: 27.2s\n",
      "99:\tlearn: 2698.8928142\ttotal: 5.43s\tremaining: 27.2s\n",
      "100:\tlearn: 2698.0468129\ttotal: 5.47s\tremaining: 27.1s\n",
      "101:\tlearn: 2697.3809146\ttotal: 5.52s\tremaining: 27s\n",
      "102:\tlearn: 2696.6917818\ttotal: 5.57s\tremaining: 26.9s\n",
      "103:\tlearn: 2694.8989748\ttotal: 5.63s\tremaining: 26.8s\n",
      "104:\tlearn: 2693.4406909\ttotal: 5.67s\tremaining: 26.8s\n",
      "105:\tlearn: 2692.2660254\ttotal: 5.73s\tremaining: 26.7s\n",
      "106:\tlearn: 2691.5603250\ttotal: 5.77s\tremaining: 26.6s\n",
      "107:\tlearn: 2690.5052337\ttotal: 5.82s\tremaining: 26.5s\n",
      "108:\tlearn: 2689.7320767\ttotal: 5.87s\tremaining: 26.4s\n",
      "109:\tlearn: 2689.3411437\ttotal: 5.92s\tremaining: 26.4s\n",
      "110:\tlearn: 2688.0961212\ttotal: 5.96s\tremaining: 26.3s\n",
      "111:\tlearn: 2686.6583023\ttotal: 6.01s\tremaining: 26.2s\n",
      "112:\tlearn: 2685.4830110\ttotal: 6.06s\tremaining: 26.1s\n",
      "113:\tlearn: 2684.7291866\ttotal: 6.11s\tremaining: 26s\n",
      "114:\tlearn: 2684.0616299\ttotal: 6.16s\tremaining: 26s\n",
      "115:\tlearn: 2683.2612818\ttotal: 6.21s\tremaining: 25.9s\n",
      "116:\tlearn: 2681.6509219\ttotal: 6.26s\tremaining: 25.8s\n",
      "117:\tlearn: 2680.8885099\ttotal: 6.32s\tremaining: 25.8s\n",
      "118:\tlearn: 2680.1712402\ttotal: 6.37s\tremaining: 25.7s\n",
      "119:\tlearn: 2679.3966413\ttotal: 6.42s\tremaining: 25.7s\n",
      "120:\tlearn: 2678.5879029\ttotal: 6.46s\tremaining: 25.6s\n",
      "121:\tlearn: 2677.0701779\ttotal: 6.51s\tremaining: 25.5s\n",
      "122:\tlearn: 2676.2460696\ttotal: 6.56s\tremaining: 25.4s\n",
      "123:\tlearn: 2675.5477308\ttotal: 6.61s\tremaining: 25.4s\n",
      "124:\tlearn: 2674.3978983\ttotal: 6.66s\tremaining: 25.3s\n",
      "125:\tlearn: 2673.6265907\ttotal: 6.7s\tremaining: 25.2s\n",
      "126:\tlearn: 2672.9997960\ttotal: 6.74s\tremaining: 25.1s\n",
      "127:\tlearn: 2672.2696214\ttotal: 6.79s\tremaining: 25s\n",
      "128:\tlearn: 2671.4007849\ttotal: 6.83s\tremaining: 24.9s\n",
      "129:\tlearn: 2670.6600470\ttotal: 6.88s\tremaining: 24.9s\n",
      "130:\tlearn: 2669.4286810\ttotal: 6.92s\tremaining: 24.8s\n",
      "131:\tlearn: 2668.8249352\ttotal: 6.96s\tremaining: 24.7s\n",
      "132:\tlearn: 2668.2453348\ttotal: 7.01s\tremaining: 24.6s\n",
      "133:\tlearn: 2667.3631046\ttotal: 7.06s\tremaining: 24.5s\n",
      "134:\tlearn: 2666.3736484\ttotal: 7.11s\tremaining: 24.5s\n",
      "135:\tlearn: 2665.4916454\ttotal: 7.15s\tremaining: 24.4s\n",
      "136:\tlearn: 2665.0546650\ttotal: 7.19s\tremaining: 24.3s\n",
      "137:\tlearn: 2664.4587429\ttotal: 7.24s\tremaining: 24.2s\n",
      "138:\tlearn: 2663.9214729\ttotal: 7.29s\tremaining: 24.2s\n",
      "139:\tlearn: 2663.2398600\ttotal: 7.34s\tremaining: 24.1s\n",
      "140:\tlearn: 2662.0617158\ttotal: 7.39s\tremaining: 24.1s\n",
      "141:\tlearn: 2661.6231014\ttotal: 7.44s\tremaining: 24s\n",
      "142:\tlearn: 2660.6814753\ttotal: 7.48s\tremaining: 23.9s\n",
      "143:\tlearn: 2660.0522910\ttotal: 7.53s\tremaining: 23.8s\n",
      "144:\tlearn: 2659.3893138\ttotal: 7.57s\tremaining: 23.8s\n",
      "145:\tlearn: 2658.8012204\ttotal: 7.62s\tremaining: 23.7s\n",
      "146:\tlearn: 2658.2515778\ttotal: 7.67s\tremaining: 23.6s\n",
      "147:\tlearn: 2657.9149784\ttotal: 7.72s\tremaining: 23.6s\n",
      "148:\tlearn: 2657.2751619\ttotal: 7.77s\tremaining: 23.5s\n",
      "149:\tlearn: 2655.7258778\ttotal: 7.82s\tremaining: 23.5s\n",
      "150:\tlearn: 2654.7411881\ttotal: 7.89s\tremaining: 23.5s\n",
      "151:\tlearn: 2654.2058645\ttotal: 7.97s\tremaining: 23.5s\n"
     ]
    },
    {
     "name": "stdout",
     "output_type": "stream",
     "text": [
      "152:\tlearn: 2653.7177835\ttotal: 8.03s\tremaining: 23.5s\n",
      "153:\tlearn: 2653.0672514\ttotal: 8.1s\tremaining: 23.5s\n",
      "154:\tlearn: 2652.6112873\ttotal: 8.16s\tremaining: 23.4s\n",
      "155:\tlearn: 2652.0317581\ttotal: 8.22s\tremaining: 23.4s\n",
      "156:\tlearn: 2651.4334848\ttotal: 8.3s\tremaining: 23.4s\n",
      "157:\tlearn: 2650.7656977\ttotal: 8.35s\tremaining: 23.4s\n",
      "158:\tlearn: 2650.0553551\ttotal: 8.42s\tremaining: 23.4s\n",
      "159:\tlearn: 2649.5789960\ttotal: 8.49s\tremaining: 23.3s\n",
      "160:\tlearn: 2648.3679712\ttotal: 8.56s\tremaining: 23.4s\n",
      "161:\tlearn: 2648.0036109\ttotal: 8.62s\tremaining: 23.3s\n",
      "162:\tlearn: 2647.3533348\ttotal: 8.68s\tremaining: 23.3s\n",
      "163:\tlearn: 2646.5379303\ttotal: 8.74s\tremaining: 23.2s\n",
      "164:\tlearn: 2645.6509871\ttotal: 8.8s\tremaining: 23.2s\n",
      "165:\tlearn: 2644.6969541\ttotal: 8.86s\tremaining: 23.2s\n",
      "166:\tlearn: 2644.1089441\ttotal: 8.91s\tremaining: 23.1s\n",
      "167:\tlearn: 2643.2856412\ttotal: 8.97s\tremaining: 23.1s\n",
      "168:\tlearn: 2642.8175516\ttotal: 9.02s\tremaining: 23s\n",
      "169:\tlearn: 2642.2413446\ttotal: 9.07s\tremaining: 23s\n",
      "170:\tlearn: 2641.4015585\ttotal: 9.13s\tremaining: 22.9s\n",
      "171:\tlearn: 2640.3823268\ttotal: 9.18s\tremaining: 22.8s\n",
      "172:\tlearn: 2639.7065462\ttotal: 9.23s\tremaining: 22.8s\n",
      "173:\tlearn: 2639.3173569\ttotal: 9.29s\tremaining: 22.7s\n",
      "174:\tlearn: 2638.4606945\ttotal: 9.34s\tremaining: 22.7s\n",
      "175:\tlearn: 2638.1319925\ttotal: 9.39s\tremaining: 22.6s\n",
      "176:\tlearn: 2637.4196359\ttotal: 9.44s\tremaining: 22.6s\n",
      "177:\tlearn: 2636.5469368\ttotal: 9.49s\tremaining: 22.5s\n",
      "178:\tlearn: 2635.7455224\ttotal: 9.55s\tremaining: 22.5s\n",
      "179:\tlearn: 2635.1508300\ttotal: 9.6s\tremaining: 22.4s\n",
      "180:\tlearn: 2634.6928649\ttotal: 9.66s\tremaining: 22.4s\n",
      "181:\tlearn: 2634.0530565\ttotal: 9.72s\tremaining: 22.3s\n",
      "182:\tlearn: 2633.6807168\ttotal: 9.79s\tremaining: 22.3s\n",
      "183:\tlearn: 2633.0559465\ttotal: 9.87s\tremaining: 22.3s\n",
      "184:\tlearn: 2632.4558696\ttotal: 9.93s\tremaining: 22.3s\n",
      "185:\tlearn: 2631.8616028\ttotal: 9.99s\tremaining: 22.2s\n",
      "186:\tlearn: 2631.0831753\ttotal: 10.1s\tremaining: 22.2s\n",
      "187:\tlearn: 2630.6305392\ttotal: 10.1s\tremaining: 22.2s\n",
      "188:\tlearn: 2629.8672520\ttotal: 10.2s\tremaining: 22.1s\n",
      "189:\tlearn: 2629.1722337\ttotal: 10.2s\tremaining: 22s\n",
      "190:\tlearn: 2628.5513261\ttotal: 10.3s\tremaining: 22s\n",
      "191:\tlearn: 2627.9048809\ttotal: 10.3s\tremaining: 21.9s\n",
      "192:\tlearn: 2627.3032263\ttotal: 10.4s\tremaining: 21.9s\n",
      "193:\tlearn: 2626.5369310\ttotal: 10.4s\tremaining: 21.8s\n",
      "194:\tlearn: 2626.0078075\ttotal: 10.5s\tremaining: 21.8s\n",
      "195:\tlearn: 2625.2906451\ttotal: 10.5s\tremaining: 21.7s\n",
      "196:\tlearn: 2624.7970867\ttotal: 10.6s\tremaining: 21.6s\n",
      "197:\tlearn: 2624.3497535\ttotal: 10.6s\tremaining: 21.6s\n",
      "198:\tlearn: 2623.9441079\ttotal: 10.7s\tremaining: 21.5s\n",
      "199:\tlearn: 2623.2595912\ttotal: 10.7s\tremaining: 21.5s\n",
      "200:\tlearn: 2622.0078861\ttotal: 10.8s\tremaining: 21.4s\n",
      "201:\tlearn: 2621.1870213\ttotal: 10.9s\tremaining: 21.4s\n",
      "202:\tlearn: 2619.9206386\ttotal: 10.9s\tremaining: 21.4s\n",
      "203:\tlearn: 2619.1215402\ttotal: 11s\tremaining: 21.3s\n",
      "204:\tlearn: 2618.7744037\ttotal: 11s\tremaining: 21.3s\n",
      "205:\tlearn: 2618.5387783\ttotal: 11.1s\tremaining: 21.2s\n",
      "206:\tlearn: 2617.9926773\ttotal: 11.1s\tremaining: 21.2s\n",
      "207:\tlearn: 2617.3450432\ttotal: 11.2s\tremaining: 21.1s\n",
      "208:\tlearn: 2616.3750043\ttotal: 11.2s\tremaining: 21s\n",
      "209:\tlearn: 2616.0275965\ttotal: 11.3s\tremaining: 21s\n",
      "210:\tlearn: 2615.0605959\ttotal: 11.4s\tremaining: 20.9s\n",
      "211:\tlearn: 2614.0970487\ttotal: 11.4s\tremaining: 20.9s\n",
      "212:\tlearn: 2613.2397364\ttotal: 11.5s\tremaining: 20.8s\n",
      "213:\tlearn: 2612.6933528\ttotal: 11.5s\tremaining: 20.8s\n",
      "214:\tlearn: 2611.8180980\ttotal: 11.6s\tremaining: 20.7s\n",
      "215:\tlearn: 2611.3251741\ttotal: 11.6s\tremaining: 20.7s\n",
      "216:\tlearn: 2610.7237452\ttotal: 11.7s\tremaining: 20.6s\n",
      "217:\tlearn: 2610.4472189\ttotal: 11.7s\tremaining: 20.6s\n",
      "218:\tlearn: 2609.5746196\ttotal: 11.8s\tremaining: 20.5s\n",
      "219:\tlearn: 2609.3352513\ttotal: 11.9s\tremaining: 20.5s\n",
      "220:\tlearn: 2608.9658920\ttotal: 11.9s\tremaining: 20.5s\n",
      "221:\tlearn: 2608.5537806\ttotal: 12s\tremaining: 20.4s\n",
      "222:\tlearn: 2607.8369006\ttotal: 12.1s\tremaining: 20.4s\n",
      "223:\tlearn: 2607.2206970\ttotal: 12.1s\tremaining: 20.3s\n",
      "224:\tlearn: 2606.9606005\ttotal: 12.2s\tremaining: 20.3s\n",
      "225:\tlearn: 2606.1413807\ttotal: 12.3s\tremaining: 20.3s\n",
      "226:\tlearn: 2605.8189468\ttotal: 12.3s\tremaining: 20.2s\n",
      "227:\tlearn: 2605.2743825\ttotal: 12.4s\tremaining: 20.2s\n",
      "228:\tlearn: 2604.8745260\ttotal: 12.4s\tremaining: 20.2s\n",
      "229:\tlearn: 2604.0037926\ttotal: 12.5s\tremaining: 20.1s\n",
      "230:\tlearn: 2603.3222613\ttotal: 12.6s\tremaining: 20.1s\n",
      "231:\tlearn: 2602.9837862\ttotal: 12.6s\tremaining: 20s\n",
      "232:\tlearn: 2602.4186520\ttotal: 12.7s\tremaining: 20s\n",
      "233:\tlearn: 2602.1604398\ttotal: 12.7s\tremaining: 19.9s\n",
      "234:\tlearn: 2601.5599050\ttotal: 12.8s\tremaining: 19.9s\n",
      "235:\tlearn: 2601.1890846\ttotal: 12.8s\tremaining: 19.8s\n",
      "236:\tlearn: 2600.6019296\ttotal: 12.9s\tremaining: 19.8s\n",
      "237:\tlearn: 2600.0812049\ttotal: 13s\tremaining: 19.7s\n",
      "238:\tlearn: 2599.4329377\ttotal: 13s\tremaining: 19.7s\n",
      "239:\tlearn: 2599.0812246\ttotal: 13.1s\tremaining: 19.6s\n",
      "240:\tlearn: 2598.7156958\ttotal: 13.1s\tremaining: 19.6s\n",
      "241:\tlearn: 2598.1964890\ttotal: 13.2s\tremaining: 19.5s\n",
      "242:\tlearn: 2597.3952266\ttotal: 13.3s\tremaining: 19.5s\n",
      "243:\tlearn: 2596.9037243\ttotal: 13.3s\tremaining: 19.4s\n",
      "244:\tlearn: 2596.4062853\ttotal: 13.4s\tremaining: 19.4s\n",
      "245:\tlearn: 2595.7367675\ttotal: 13.4s\tremaining: 19.3s\n",
      "246:\tlearn: 2595.3387941\ttotal: 13.5s\tremaining: 19.2s\n",
      "247:\tlearn: 2594.9369663\ttotal: 13.5s\tremaining: 19.2s\n",
      "248:\tlearn: 2594.6079063\ttotal: 13.6s\tremaining: 19.1s\n",
      "249:\tlearn: 2594.0916011\ttotal: 13.6s\tremaining: 19.1s\n",
      "250:\tlearn: 2593.6279913\ttotal: 13.7s\tremaining: 19s\n",
      "251:\tlearn: 2593.3155819\ttotal: 13.7s\tremaining: 19s\n",
      "252:\tlearn: 2592.7637420\ttotal: 13.8s\tremaining: 18.9s\n",
      "253:\tlearn: 2592.4019810\ttotal: 13.8s\tremaining: 18.9s\n",
      "254:\tlearn: 2591.7904104\ttotal: 13.9s\tremaining: 18.8s\n",
      "255:\tlearn: 2590.8568128\ttotal: 14s\tremaining: 18.8s\n",
      "256:\tlearn: 2590.3402861\ttotal: 14s\tremaining: 18.7s\n",
      "257:\tlearn: 2589.8708508\ttotal: 14.1s\tremaining: 18.7s\n",
      "258:\tlearn: 2589.3598212\ttotal: 14.1s\tremaining: 18.6s\n",
      "259:\tlearn: 2588.8126677\ttotal: 14.2s\tremaining: 18.6s\n",
      "260:\tlearn: 2588.2534844\ttotal: 14.2s\tremaining: 18.5s\n",
      "261:\tlearn: 2587.9512701\ttotal: 14.3s\tremaining: 18.4s\n",
      "262:\tlearn: 2587.5022335\ttotal: 14.3s\tremaining: 18.4s\n",
      "263:\tlearn: 2587.2902369\ttotal: 14.4s\tremaining: 18.3s\n",
      "264:\tlearn: 2586.5484380\ttotal: 14.4s\tremaining: 18.3s\n",
      "265:\tlearn: 2585.8551956\ttotal: 14.5s\tremaining: 18.2s\n",
      "266:\tlearn: 2585.6423225\ttotal: 14.5s\tremaining: 18.1s\n",
      "267:\tlearn: 2584.9232987\ttotal: 14.6s\tremaining: 18.1s\n",
      "268:\tlearn: 2584.4233260\ttotal: 14.6s\tremaining: 18s\n",
      "269:\tlearn: 2583.7387853\ttotal: 14.7s\tremaining: 17.9s\n",
      "270:\tlearn: 2583.3211706\ttotal: 14.7s\tremaining: 17.9s\n",
      "271:\tlearn: 2582.7794338\ttotal: 14.8s\tremaining: 17.8s\n",
      "272:\tlearn: 2582.3832347\ttotal: 14.8s\tremaining: 17.8s\n",
      "273:\tlearn: 2581.9715056\ttotal: 14.9s\tremaining: 17.7s\n",
      "274:\tlearn: 2581.3775518\ttotal: 14.9s\tremaining: 17.6s\n",
      "275:\tlearn: 2581.0120429\ttotal: 15s\tremaining: 17.6s\n",
      "276:\tlearn: 2580.7108977\ttotal: 15s\tremaining: 17.5s\n",
      "277:\tlearn: 2580.1629193\ttotal: 15.1s\tremaining: 17.4s\n",
      "278:\tlearn: 2579.6272965\ttotal: 15.1s\tremaining: 17.4s\n",
      "279:\tlearn: 2578.9100076\ttotal: 15.2s\tremaining: 17.3s\n",
      "280:\tlearn: 2578.5990428\ttotal: 15.2s\tremaining: 17.3s\n",
      "281:\tlearn: 2578.1668812\ttotal: 15.3s\tremaining: 17.2s\n",
      "282:\tlearn: 2577.7497988\ttotal: 15.3s\tremaining: 17.1s\n",
      "283:\tlearn: 2576.8614979\ttotal: 15.4s\tremaining: 17.1s\n",
      "284:\tlearn: 2576.3428375\ttotal: 15.4s\tremaining: 17s\n",
      "285:\tlearn: 2576.0719345\ttotal: 15.4s\tremaining: 17s\n",
      "286:\tlearn: 2575.5501276\ttotal: 15.5s\tremaining: 16.9s\n",
      "287:\tlearn: 2574.9841933\ttotal: 15.5s\tremaining: 16.8s\n",
      "288:\tlearn: 2574.1085423\ttotal: 15.6s\tremaining: 16.8s\n",
      "289:\tlearn: 2573.5501522\ttotal: 15.6s\tremaining: 16.7s\n",
      "290:\tlearn: 2572.9500587\ttotal: 15.7s\tremaining: 16.7s\n",
      "291:\tlearn: 2572.7076809\ttotal: 15.7s\tremaining: 16.6s\n",
      "292:\tlearn: 2572.4335638\ttotal: 15.8s\tremaining: 16.5s\n",
      "293:\tlearn: 2572.0240045\ttotal: 15.8s\tremaining: 16.5s\n",
      "294:\tlearn: 2571.4870044\ttotal: 15.9s\tremaining: 16.4s\n",
      "295:\tlearn: 2571.1046161\ttotal: 15.9s\tremaining: 16.4s\n",
      "296:\tlearn: 2570.7882540\ttotal: 16s\tremaining: 16.3s\n",
      "297:\tlearn: 2570.4400987\ttotal: 16s\tremaining: 16.2s\n",
      "298:\tlearn: 2570.1255415\ttotal: 16.1s\tremaining: 16.2s\n",
      "299:\tlearn: 2569.8812723\ttotal: 16.1s\tremaining: 16.1s\n",
      "300:\tlearn: 2569.2183835\ttotal: 16.2s\tremaining: 16.1s\n",
      "301:\tlearn: 2568.7295324\ttotal: 16.2s\tremaining: 16s\n",
      "302:\tlearn: 2568.3122944\ttotal: 16.3s\tremaining: 16s\n"
     ]
    },
    {
     "name": "stdout",
     "output_type": "stream",
     "text": [
      "303:\tlearn: 2567.7546304\ttotal: 16.3s\tremaining: 15.9s\n",
      "304:\tlearn: 2567.3585811\ttotal: 16.4s\tremaining: 15.8s\n",
      "305:\tlearn: 2567.1023871\ttotal: 16.4s\tremaining: 15.8s\n",
      "306:\tlearn: 2566.6498179\ttotal: 16.5s\tremaining: 15.7s\n",
      "307:\tlearn: 2566.3135300\ttotal: 16.5s\tremaining: 15.7s\n",
      "308:\tlearn: 2565.8096175\ttotal: 16.6s\tremaining: 15.6s\n",
      "309:\tlearn: 2565.3333954\ttotal: 16.6s\tremaining: 15.5s\n",
      "310:\tlearn: 2564.9805100\ttotal: 16.6s\tremaining: 15.5s\n",
      "311:\tlearn: 2564.5091108\ttotal: 16.7s\tremaining: 15.4s\n",
      "312:\tlearn: 2563.8681843\ttotal: 16.7s\tremaining: 15.4s\n",
      "313:\tlearn: 2563.3445319\ttotal: 16.8s\tremaining: 15.3s\n",
      "314:\tlearn: 2563.0292877\ttotal: 16.8s\tremaining: 15.2s\n",
      "315:\tlearn: 2562.2053111\ttotal: 16.9s\tremaining: 15.2s\n",
      "316:\tlearn: 2561.8394327\ttotal: 16.9s\tremaining: 15.1s\n",
      "317:\tlearn: 2561.3292670\ttotal: 17s\tremaining: 15.1s\n",
      "318:\tlearn: 2561.0911834\ttotal: 17s\tremaining: 15s\n",
      "319:\tlearn: 2560.6087620\ttotal: 17.1s\tremaining: 14.9s\n",
      "320:\tlearn: 2560.1240549\ttotal: 17.1s\tremaining: 14.9s\n",
      "321:\tlearn: 2559.5639769\ttotal: 17.2s\tremaining: 14.8s\n",
      "322:\tlearn: 2559.2101448\ttotal: 17.2s\tremaining: 14.8s\n",
      "323:\tlearn: 2558.8015948\ttotal: 17.3s\tremaining: 14.7s\n",
      "324:\tlearn: 2558.2106076\ttotal: 17.3s\tremaining: 14.6s\n",
      "325:\tlearn: 2557.9351113\ttotal: 17.4s\tremaining: 14.6s\n",
      "326:\tlearn: 2557.6513333\ttotal: 17.4s\tremaining: 14.5s\n",
      "327:\tlearn: 2557.1130108\ttotal: 17.4s\tremaining: 14.5s\n",
      "328:\tlearn: 2556.6885319\ttotal: 17.5s\tremaining: 14.4s\n",
      "329:\tlearn: 2555.9184307\ttotal: 17.6s\tremaining: 14.4s\n",
      "330:\tlearn: 2555.3590762\ttotal: 17.6s\tremaining: 14.3s\n",
      "331:\tlearn: 2554.8123692\ttotal: 17.7s\tremaining: 14.3s\n",
      "332:\tlearn: 2554.4888151\ttotal: 17.7s\tremaining: 14.2s\n",
      "333:\tlearn: 2554.2202083\ttotal: 17.8s\tremaining: 14.2s\n",
      "334:\tlearn: 2553.8806032\ttotal: 17.9s\tremaining: 14.1s\n",
      "335:\tlearn: 2553.5760433\ttotal: 17.9s\tremaining: 14.1s\n",
      "336:\tlearn: 2553.2926534\ttotal: 18s\tremaining: 14s\n",
      "337:\tlearn: 2552.9512743\ttotal: 18s\tremaining: 14s\n",
      "338:\tlearn: 2552.6724119\ttotal: 18s\tremaining: 13.9s\n",
      "339:\tlearn: 2552.4098102\ttotal: 18.1s\tremaining: 13.8s\n",
      "340:\tlearn: 2552.1316666\ttotal: 18.1s\tremaining: 13.8s\n",
      "341:\tlearn: 2551.9032852\ttotal: 18.2s\tremaining: 13.7s\n",
      "342:\tlearn: 2551.4601591\ttotal: 18.3s\tremaining: 13.7s\n",
      "343:\tlearn: 2550.9665984\ttotal: 18.3s\tremaining: 13.6s\n",
      "344:\tlearn: 2550.7037020\ttotal: 18.4s\tremaining: 13.6s\n",
      "345:\tlearn: 2550.3569402\ttotal: 18.4s\tremaining: 13.5s\n",
      "346:\tlearn: 2550.0195480\ttotal: 18.5s\tremaining: 13.5s\n",
      "347:\tlearn: 2549.7067331\ttotal: 18.5s\tremaining: 13.4s\n",
      "348:\tlearn: 2549.2483960\ttotal: 18.6s\tremaining: 13.3s\n",
      "349:\tlearn: 2548.7124054\ttotal: 18.6s\tremaining: 13.3s\n",
      "350:\tlearn: 2548.3827939\ttotal: 18.7s\tremaining: 13.2s\n",
      "351:\tlearn: 2547.8538756\ttotal: 18.7s\tremaining: 13.2s\n",
      "352:\tlearn: 2547.5756623\ttotal: 18.8s\tremaining: 13.1s\n",
      "353:\tlearn: 2547.1790328\ttotal: 18.8s\tremaining: 13.1s\n",
      "354:\tlearn: 2546.6984684\ttotal: 18.9s\tremaining: 13s\n",
      "355:\tlearn: 2546.1964175\ttotal: 18.9s\tremaining: 13s\n",
      "356:\tlearn: 2545.8487471\ttotal: 19s\tremaining: 12.9s\n",
      "357:\tlearn: 2545.1488396\ttotal: 19s\tremaining: 12.9s\n",
      "358:\tlearn: 2544.7384854\ttotal: 19.1s\tremaining: 12.8s\n",
      "359:\tlearn: 2544.4685590\ttotal: 19.1s\tremaining: 12.7s\n",
      "360:\tlearn: 2544.1112733\ttotal: 19.2s\tremaining: 12.7s\n",
      "361:\tlearn: 2543.7362538\ttotal: 19.2s\tremaining: 12.7s\n",
      "362:\tlearn: 2543.2860476\ttotal: 19.3s\tremaining: 12.6s\n",
      "363:\tlearn: 2542.9151436\ttotal: 19.4s\tremaining: 12.6s\n",
      "364:\tlearn: 2542.7299997\ttotal: 19.4s\tremaining: 12.5s\n",
      "365:\tlearn: 2542.1070461\ttotal: 19.5s\tremaining: 12.4s\n",
      "366:\tlearn: 2541.8564041\ttotal: 19.5s\tremaining: 12.4s\n",
      "367:\tlearn: 2541.4164840\ttotal: 19.6s\tremaining: 12.3s\n",
      "368:\tlearn: 2540.9738363\ttotal: 19.6s\tremaining: 12.3s\n",
      "369:\tlearn: 2540.6567532\ttotal: 19.7s\tremaining: 12.2s\n",
      "370:\tlearn: 2540.3486960\ttotal: 19.7s\tremaining: 12.2s\n",
      "371:\tlearn: 2539.9154007\ttotal: 19.8s\tremaining: 12.1s\n",
      "372:\tlearn: 2539.6032801\ttotal: 19.8s\tremaining: 12.1s\n",
      "373:\tlearn: 2539.2677905\ttotal: 19.9s\tremaining: 12s\n",
      "374:\tlearn: 2538.9990123\ttotal: 19.9s\tremaining: 12s\n",
      "375:\tlearn: 2538.4310649\ttotal: 20s\tremaining: 11.9s\n",
      "376:\tlearn: 2538.0705703\ttotal: 20.1s\tremaining: 11.9s\n",
      "377:\tlearn: 2537.5758956\ttotal: 20.1s\tremaining: 11.8s\n",
      "378:\tlearn: 2537.3599961\ttotal: 20.2s\tremaining: 11.8s\n",
      "379:\tlearn: 2537.0627091\ttotal: 20.3s\tremaining: 11.7s\n",
      "380:\tlearn: 2536.8014348\ttotal: 20.3s\tremaining: 11.7s\n",
      "381:\tlearn: 2536.5301891\ttotal: 20.4s\tremaining: 11.6s\n",
      "382:\tlearn: 2536.1352818\ttotal: 20.4s\tremaining: 11.6s\n",
      "383:\tlearn: 2535.7029873\ttotal: 20.5s\tremaining: 11.5s\n",
      "384:\tlearn: 2535.2706346\ttotal: 20.5s\tremaining: 11.5s\n",
      "385:\tlearn: 2534.9883290\ttotal: 20.6s\tremaining: 11.4s\n",
      "386:\tlearn: 2534.7198601\ttotal: 20.6s\tremaining: 11.4s\n",
      "387:\tlearn: 2534.5658635\ttotal: 20.7s\tremaining: 11.3s\n",
      "388:\tlearn: 2534.2881981\ttotal: 20.7s\tremaining: 11.2s\n",
      "389:\tlearn: 2533.9996459\ttotal: 20.8s\tremaining: 11.2s\n",
      "390:\tlearn: 2533.6747819\ttotal: 20.8s\tremaining: 11.1s\n",
      "391:\tlearn: 2533.4131855\ttotal: 20.9s\tremaining: 11.1s\n",
      "392:\tlearn: 2532.7776911\ttotal: 20.9s\tremaining: 11s\n",
      "393:\tlearn: 2532.5042086\ttotal: 21s\tremaining: 11s\n",
      "394:\tlearn: 2532.0198929\ttotal: 21s\tremaining: 10.9s\n",
      "395:\tlearn: 2531.5483324\ttotal: 21.1s\tremaining: 10.8s\n",
      "396:\tlearn: 2531.1305762\ttotal: 21.1s\tremaining: 10.8s\n",
      "397:\tlearn: 2530.8336466\ttotal: 21.2s\tremaining: 10.7s\n",
      "398:\tlearn: 2530.4803712\ttotal: 21.2s\tremaining: 10.7s\n",
      "399:\tlearn: 2530.2736623\ttotal: 21.3s\tremaining: 10.6s\n",
      "400:\tlearn: 2529.9689607\ttotal: 21.3s\tremaining: 10.6s\n",
      "401:\tlearn: 2529.7928616\ttotal: 21.4s\tremaining: 10.5s\n",
      "402:\tlearn: 2529.4698222\ttotal: 21.4s\tremaining: 10.5s\n",
      "403:\tlearn: 2529.0677044\ttotal: 21.5s\tremaining: 10.4s\n",
      "404:\tlearn: 2528.8472128\ttotal: 21.5s\tremaining: 10.4s\n",
      "405:\tlearn: 2528.4324231\ttotal: 21.6s\tremaining: 10.3s\n",
      "406:\tlearn: 2528.0223856\ttotal: 21.6s\tremaining: 10.3s\n",
      "407:\tlearn: 2527.7171549\ttotal: 21.7s\tremaining: 10.2s\n",
      "408:\tlearn: 2527.0663536\ttotal: 21.8s\tremaining: 10.2s\n",
      "409:\tlearn: 2526.4310934\ttotal: 21.8s\tremaining: 10.1s\n",
      "410:\tlearn: 2526.1331279\ttotal: 21.9s\tremaining: 10.1s\n",
      "411:\tlearn: 2525.7274169\ttotal: 21.9s\tremaining: 10s\n",
      "412:\tlearn: 2525.3719725\ttotal: 22s\tremaining: 9.94s\n",
      "413:\tlearn: 2525.0276512\ttotal: 22s\tremaining: 9.89s\n",
      "414:\tlearn: 2524.8960515\ttotal: 22.1s\tremaining: 9.83s\n",
      "415:\tlearn: 2524.4766148\ttotal: 22.1s\tremaining: 9.78s\n",
      "416:\tlearn: 2523.7642635\ttotal: 22.2s\tremaining: 9.73s\n",
      "417:\tlearn: 2523.4213440\ttotal: 22.2s\tremaining: 9.68s\n",
      "418:\tlearn: 2522.9735471\ttotal: 22.3s\tremaining: 9.62s\n",
      "419:\tlearn: 2522.5597630\ttotal: 22.3s\tremaining: 9.57s\n",
      "420:\tlearn: 2522.2765418\ttotal: 22.4s\tremaining: 9.52s\n",
      "421:\tlearn: 2521.9888813\ttotal: 22.4s\tremaining: 9.46s\n",
      "422:\tlearn: 2521.6543284\ttotal: 22.5s\tremaining: 9.41s\n",
      "423:\tlearn: 2521.2637828\ttotal: 22.5s\tremaining: 9.36s\n",
      "424:\tlearn: 2521.0941839\ttotal: 22.6s\tremaining: 9.31s\n",
      "425:\tlearn: 2520.7588988\ttotal: 22.7s\tremaining: 9.27s\n",
      "426:\tlearn: 2520.1702292\ttotal: 22.8s\tremaining: 9.22s\n",
      "427:\tlearn: 2519.8085395\ttotal: 22.8s\tremaining: 9.17s\n",
      "428:\tlearn: 2519.5451267\ttotal: 22.9s\tremaining: 9.12s\n",
      "429:\tlearn: 2519.2782059\ttotal: 22.9s\tremaining: 9.06s\n",
      "430:\tlearn: 2518.9768746\ttotal: 23s\tremaining: 9.01s\n",
      "431:\tlearn: 2518.5354447\ttotal: 23s\tremaining: 8.96s\n",
      "432:\tlearn: 2518.2889033\ttotal: 23.1s\tremaining: 8.9s\n",
      "433:\tlearn: 2517.9535052\ttotal: 23.1s\tremaining: 8.85s\n",
      "434:\tlearn: 2517.4939018\ttotal: 23.2s\tremaining: 8.8s\n",
      "435:\tlearn: 2517.0182379\ttotal: 23.3s\tremaining: 8.75s\n",
      "436:\tlearn: 2516.6333632\ttotal: 23.3s\tremaining: 8.7s\n",
      "437:\tlearn: 2516.2275379\ttotal: 23.4s\tremaining: 8.64s\n",
      "438:\tlearn: 2515.8678852\ttotal: 23.4s\tremaining: 8.59s\n",
      "439:\tlearn: 2515.6756267\ttotal: 23.5s\tremaining: 8.53s\n",
      "440:\tlearn: 2515.3972041\ttotal: 23.5s\tremaining: 8.48s\n",
      "441:\tlearn: 2515.1272184\ttotal: 23.6s\tremaining: 8.43s\n",
      "442:\tlearn: 2514.9349314\ttotal: 23.6s\tremaining: 8.37s\n",
      "443:\tlearn: 2514.6049100\ttotal: 23.7s\tremaining: 8.32s\n",
      "444:\tlearn: 2514.4117382\ttotal: 23.8s\tremaining: 8.29s\n",
      "445:\tlearn: 2514.0742558\ttotal: 23.9s\tremaining: 8.24s\n",
      "446:\tlearn: 2513.7540422\ttotal: 23.9s\tremaining: 8.19s\n",
      "447:\tlearn: 2513.4005613\ttotal: 24s\tremaining: 8.14s\n",
      "448:\tlearn: 2512.9649612\ttotal: 24.1s\tremaining: 8.09s\n",
      "449:\tlearn: 2512.7185430\ttotal: 24.1s\tremaining: 8.04s\n",
      "450:\tlearn: 2512.1971120\ttotal: 24.2s\tremaining: 8s\n",
      "451:\tlearn: 2511.6432800\ttotal: 24.3s\tremaining: 7.95s\n",
      "452:\tlearn: 2511.2416003\ttotal: 24.3s\tremaining: 7.9s\n",
      "453:\tlearn: 2510.7956919\ttotal: 24.4s\tremaining: 7.84s\n"
     ]
    },
    {
     "name": "stdout",
     "output_type": "stream",
     "text": [
      "454:\tlearn: 2510.5966458\ttotal: 24.4s\tremaining: 7.79s\n",
      "455:\tlearn: 2510.3371172\ttotal: 24.5s\tremaining: 7.74s\n",
      "456:\tlearn: 2510.0934219\ttotal: 24.6s\tremaining: 7.69s\n",
      "457:\tlearn: 2509.7273436\ttotal: 24.6s\tremaining: 7.63s\n",
      "458:\tlearn: 2509.5082298\ttotal: 24.7s\tremaining: 7.58s\n",
      "459:\tlearn: 2509.2839743\ttotal: 24.7s\tremaining: 7.53s\n",
      "460:\tlearn: 2509.0510709\ttotal: 24.8s\tremaining: 7.48s\n",
      "461:\tlearn: 2508.7154563\ttotal: 24.9s\tremaining: 7.42s\n",
      "462:\tlearn: 2508.5386771\ttotal: 24.9s\tremaining: 7.37s\n",
      "463:\tlearn: 2508.3012889\ttotal: 24.9s\tremaining: 7.31s\n",
      "464:\tlearn: 2508.0117137\ttotal: 25s\tremaining: 7.26s\n",
      "465:\tlearn: 2507.7434315\ttotal: 25.1s\tremaining: 7.2s\n",
      "466:\tlearn: 2507.4265512\ttotal: 25.1s\tremaining: 7.15s\n",
      "467:\tlearn: 2507.0732010\ttotal: 25.2s\tremaining: 7.09s\n",
      "468:\tlearn: 2506.7911597\ttotal: 25.2s\tremaining: 7.04s\n",
      "469:\tlearn: 2506.5757097\ttotal: 25.3s\tremaining: 6.99s\n",
      "470:\tlearn: 2506.0715779\ttotal: 25.3s\tremaining: 6.94s\n",
      "471:\tlearn: 2505.6123730\ttotal: 25.4s\tremaining: 6.88s\n",
      "472:\tlearn: 2505.4412120\ttotal: 25.4s\tremaining: 6.83s\n",
      "473:\tlearn: 2505.2177927\ttotal: 25.5s\tremaining: 6.78s\n",
      "474:\tlearn: 2504.9447087\ttotal: 25.6s\tremaining: 6.72s\n",
      "475:\tlearn: 2504.6632660\ttotal: 25.6s\tremaining: 6.67s\n",
      "476:\tlearn: 2504.3226747\ttotal: 25.7s\tremaining: 6.62s\n",
      "477:\tlearn: 2503.5807965\ttotal: 25.7s\tremaining: 6.57s\n",
      "478:\tlearn: 2503.2559956\ttotal: 25.8s\tremaining: 6.51s\n",
      "479:\tlearn: 2502.9764791\ttotal: 25.8s\tremaining: 6.46s\n",
      "480:\tlearn: 2502.6849562\ttotal: 25.9s\tremaining: 6.41s\n",
      "481:\tlearn: 2502.4172985\ttotal: 26s\tremaining: 6.36s\n",
      "482:\tlearn: 2502.0151530\ttotal: 26s\tremaining: 6.3s\n",
      "483:\tlearn: 2501.7321428\ttotal: 26.1s\tremaining: 6.25s\n",
      "484:\tlearn: 2501.4948252\ttotal: 26.1s\tremaining: 6.2s\n",
      "485:\tlearn: 2501.1295724\ttotal: 26.2s\tremaining: 6.14s\n",
      "486:\tlearn: 2500.7229240\ttotal: 26.2s\tremaining: 6.09s\n",
      "487:\tlearn: 2500.4650042\ttotal: 26.3s\tremaining: 6.04s\n",
      "488:\tlearn: 2500.2271877\ttotal: 26.4s\tremaining: 5.98s\n",
      "489:\tlearn: 2499.9559113\ttotal: 26.4s\tremaining: 5.93s\n",
      "490:\tlearn: 2499.7123164\ttotal: 26.4s\tremaining: 5.87s\n",
      "491:\tlearn: 2499.4032969\ttotal: 26.5s\tremaining: 5.82s\n",
      "492:\tlearn: 2499.1839975\ttotal: 26.5s\tremaining: 5.76s\n",
      "493:\tlearn: 2498.7514487\ttotal: 26.6s\tremaining: 5.71s\n",
      "494:\tlearn: 2498.5146309\ttotal: 26.6s\tremaining: 5.65s\n",
      "495:\tlearn: 2498.1312187\ttotal: 26.7s\tremaining: 5.59s\n",
      "496:\tlearn: 2497.8343129\ttotal: 26.7s\tremaining: 5.54s\n",
      "497:\tlearn: 2497.5533175\ttotal: 26.8s\tremaining: 5.48s\n",
      "498:\tlearn: 2497.3382048\ttotal: 26.8s\tremaining: 5.43s\n",
      "499:\tlearn: 2497.0303994\ttotal: 26.9s\tremaining: 5.37s\n",
      "500:\tlearn: 2496.7060681\ttotal: 26.9s\tremaining: 5.32s\n",
      "501:\tlearn: 2496.3975663\ttotal: 27s\tremaining: 5.26s\n",
      "502:\tlearn: 2496.1449363\ttotal: 27s\tremaining: 5.21s\n",
      "503:\tlearn: 2495.8930808\ttotal: 27.1s\tremaining: 5.15s\n",
      "504:\tlearn: 2495.6061772\ttotal: 27.1s\tremaining: 5.1s\n",
      "505:\tlearn: 2495.1493883\ttotal: 27.2s\tremaining: 5.05s\n",
      "506:\tlearn: 2494.9096135\ttotal: 27.2s\tremaining: 5s\n",
      "507:\tlearn: 2494.7804482\ttotal: 27.3s\tremaining: 4.94s\n",
      "508:\tlearn: 2494.4607945\ttotal: 27.3s\tremaining: 4.89s\n",
      "509:\tlearn: 2494.1398146\ttotal: 27.4s\tremaining: 4.83s\n",
      "510:\tlearn: 2493.8856344\ttotal: 27.5s\tremaining: 4.78s\n",
      "511:\tlearn: 2493.6798925\ttotal: 27.5s\tremaining: 4.73s\n",
      "512:\tlearn: 2493.5909312\ttotal: 27.6s\tremaining: 4.68s\n",
      "513:\tlearn: 2493.3591668\ttotal: 27.6s\tremaining: 4.63s\n",
      "514:\tlearn: 2493.1715312\ttotal: 27.7s\tremaining: 4.57s\n",
      "515:\tlearn: 2493.0422824\ttotal: 27.8s\tremaining: 4.52s\n",
      "516:\tlearn: 2492.7551414\ttotal: 27.8s\tremaining: 4.47s\n",
      "517:\tlearn: 2492.4442717\ttotal: 27.9s\tremaining: 4.41s\n",
      "518:\tlearn: 2492.3389970\ttotal: 27.9s\tremaining: 4.36s\n",
      "519:\tlearn: 2492.0992247\ttotal: 28s\tremaining: 4.31s\n",
      "520:\tlearn: 2491.8708862\ttotal: 28.1s\tremaining: 4.25s\n",
      "521:\tlearn: 2491.5432785\ttotal: 28.1s\tremaining: 4.2s\n",
      "522:\tlearn: 2491.3687781\ttotal: 28.2s\tremaining: 4.15s\n",
      "523:\tlearn: 2491.0707047\ttotal: 28.2s\tremaining: 4.09s\n",
      "524:\tlearn: 2490.8304337\ttotal: 28.3s\tremaining: 4.04s\n",
      "525:\tlearn: 2490.5498514\ttotal: 28.3s\tremaining: 3.99s\n",
      "526:\tlearn: 2490.1716002\ttotal: 28.4s\tremaining: 3.93s\n",
      "527:\tlearn: 2489.9897454\ttotal: 28.4s\tremaining: 3.88s\n",
      "528:\tlearn: 2489.6983072\ttotal: 28.5s\tremaining: 3.82s\n",
      "529:\tlearn: 2489.2536283\ttotal: 28.5s\tremaining: 3.77s\n",
      "530:\tlearn: 2488.9701493\ttotal: 28.6s\tremaining: 3.71s\n",
      "531:\tlearn: 2488.6547565\ttotal: 28.6s\tremaining: 3.66s\n",
      "532:\tlearn: 2488.4311894\ttotal: 28.7s\tremaining: 3.6s\n",
      "533:\tlearn: 2488.0980999\ttotal: 28.7s\tremaining: 3.55s\n",
      "534:\tlearn: 2487.9943450\ttotal: 28.8s\tremaining: 3.5s\n",
      "535:\tlearn: 2487.7190447\ttotal: 28.8s\tremaining: 3.44s\n",
      "536:\tlearn: 2487.3988011\ttotal: 28.9s\tremaining: 3.39s\n",
      "537:\tlearn: 2487.1638116\ttotal: 28.9s\tremaining: 3.33s\n",
      "538:\tlearn: 2486.7895141\ttotal: 29s\tremaining: 3.28s\n",
      "539:\tlearn: 2486.4971511\ttotal: 29s\tremaining: 3.22s\n",
      "540:\tlearn: 2486.3552952\ttotal: 29.1s\tremaining: 3.17s\n",
      "541:\tlearn: 2486.0695358\ttotal: 29.1s\tremaining: 3.12s\n",
      "542:\tlearn: 2485.6214914\ttotal: 29.2s\tremaining: 3.06s\n",
      "543:\tlearn: 2485.4067346\ttotal: 29.3s\tremaining: 3.01s\n",
      "544:\tlearn: 2485.1192690\ttotal: 29.3s\tremaining: 2.96s\n",
      "545:\tlearn: 2484.9976027\ttotal: 29.4s\tremaining: 2.91s\n",
      "546:\tlearn: 2484.5418822\ttotal: 29.4s\tremaining: 2.85s\n",
      "547:\tlearn: 2484.2911848\ttotal: 29.5s\tremaining: 2.8s\n",
      "548:\tlearn: 2483.9639217\ttotal: 29.6s\tremaining: 2.75s\n",
      "549:\tlearn: 2483.6565928\ttotal: 29.6s\tremaining: 2.69s\n",
      "550:\tlearn: 2483.4233077\ttotal: 29.7s\tremaining: 2.64s\n",
      "551:\tlearn: 2483.2997701\ttotal: 29.7s\tremaining: 2.58s\n",
      "552:\tlearn: 2483.1285686\ttotal: 29.8s\tremaining: 2.53s\n",
      "553:\tlearn: 2482.9467087\ttotal: 29.8s\tremaining: 2.48s\n",
      "554:\tlearn: 2482.6517492\ttotal: 29.9s\tremaining: 2.42s\n",
      "555:\tlearn: 2482.4476418\ttotal: 30s\tremaining: 2.37s\n",
      "556:\tlearn: 2482.2122136\ttotal: 30s\tremaining: 2.32s\n",
      "557:\tlearn: 2481.9598029\ttotal: 30.1s\tremaining: 2.26s\n",
      "558:\tlearn: 2481.8922500\ttotal: 30.1s\tremaining: 2.21s\n",
      "559:\tlearn: 2481.7985023\ttotal: 30.2s\tremaining: 2.16s\n",
      "560:\tlearn: 2481.5468824\ttotal: 30.3s\tremaining: 2.1s\n",
      "561:\tlearn: 2481.1892287\ttotal: 30.3s\tremaining: 2.05s\n",
      "562:\tlearn: 2480.9486882\ttotal: 30.4s\tremaining: 2s\n",
      "563:\tlearn: 2480.7717435\ttotal: 30.5s\tremaining: 1.94s\n",
      "564:\tlearn: 2480.5573459\ttotal: 30.5s\tremaining: 1.89s\n",
      "565:\tlearn: 2480.3744791\ttotal: 30.6s\tremaining: 1.84s\n",
      "566:\tlearn: 2480.0995988\ttotal: 30.6s\tremaining: 1.78s\n",
      "567:\tlearn: 2479.7933659\ttotal: 30.7s\tremaining: 1.73s\n",
      "568:\tlearn: 2479.5086149\ttotal: 30.7s\tremaining: 1.67s\n",
      "569:\tlearn: 2479.1772094\ttotal: 30.8s\tremaining: 1.62s\n",
      "570:\tlearn: 2478.8609859\ttotal: 30.8s\tremaining: 1.57s\n",
      "571:\tlearn: 2478.3756757\ttotal: 30.9s\tremaining: 1.51s\n",
      "572:\tlearn: 2478.1355872\ttotal: 30.9s\tremaining: 1.46s\n",
      "573:\tlearn: 2477.9275341\ttotal: 31s\tremaining: 1.4s\n",
      "574:\tlearn: 2477.6205509\ttotal: 31s\tremaining: 1.35s\n",
      "575:\tlearn: 2477.3693810\ttotal: 31.1s\tremaining: 1.29s\n",
      "576:\tlearn: 2477.1154605\ttotal: 31.1s\tremaining: 1.24s\n",
      "577:\tlearn: 2476.6649130\ttotal: 31.2s\tremaining: 1.19s\n",
      "578:\tlearn: 2476.4554735\ttotal: 31.2s\tremaining: 1.13s\n",
      "579:\tlearn: 2476.2358164\ttotal: 31.3s\tremaining: 1.08s\n",
      "580:\tlearn: 2476.0603064\ttotal: 31.3s\tremaining: 1.02s\n",
      "581:\tlearn: 2475.7174248\ttotal: 31.4s\tremaining: 971ms\n",
      "582:\tlearn: 2475.4170438\ttotal: 31.4s\tremaining: 917ms\n",
      "583:\tlearn: 2475.2225171\ttotal: 31.5s\tremaining: 863ms\n",
      "584:\tlearn: 2474.9262153\ttotal: 31.5s\tremaining: 809ms\n",
      "585:\tlearn: 2474.6141223\ttotal: 31.6s\tremaining: 755ms\n",
      "586:\tlearn: 2474.2245430\ttotal: 31.6s\tremaining: 701ms\n",
      "587:\tlearn: 2473.9427588\ttotal: 31.7s\tremaining: 647ms\n",
      "588:\tlearn: 2473.6881521\ttotal: 31.8s\tremaining: 593ms\n",
      "589:\tlearn: 2473.4506471\ttotal: 31.8s\tremaining: 539ms\n",
      "590:\tlearn: 2473.0744290\ttotal: 31.9s\tremaining: 486ms\n",
      "591:\tlearn: 2472.8051926\ttotal: 31.9s\tremaining: 432ms\n",
      "592:\tlearn: 2472.5734211\ttotal: 32s\tremaining: 378ms\n",
      "593:\tlearn: 2472.4060505\ttotal: 32.1s\tremaining: 324ms\n",
      "594:\tlearn: 2472.1465472\ttotal: 32.1s\tremaining: 270ms\n",
      "595:\tlearn: 2471.9374388\ttotal: 32.2s\tremaining: 216ms\n",
      "596:\tlearn: 2471.7705325\ttotal: 32.2s\tremaining: 162ms\n",
      "597:\tlearn: 2471.2812800\ttotal: 32.3s\tremaining: 108ms\n",
      "598:\tlearn: 2471.1389348\ttotal: 32.3s\tremaining: 54ms\n",
      "599:\tlearn: 2471.0493531\ttotal: 32.4s\tremaining: 0us\n"
     ]
    },
    {
     "data": {
      "text/plain": [
       "<catboost.core.CatBoostRegressor at 0x22803ddb9a0>"
      ]
     },
     "execution_count": 105,
     "metadata": {},
     "output_type": "execute_result"
    }
   ],
   "source": [
    "model_cat.fit(x_train,y_train)"
   ]
  },
  {
   "cell_type": "code",
   "execution_count": 106,
   "id": "7e3d360e",
   "metadata": {},
   "outputs": [
    {
     "data": {
      "text/plain": [
       "0.7419227053842676"
      ]
     },
     "execution_count": 106,
     "metadata": {},
     "output_type": "execute_result"
    }
   ],
   "source": [
    "model_cat.score(x_test,y_test)"
   ]
  },
  {
   "cell_type": "code",
   "execution_count": 107,
   "id": "846250ec",
   "metadata": {},
   "outputs": [],
   "source": [
    "# XGBOOST"
   ]
  },
  {
   "cell_type": "code",
   "execution_count": 108,
   "id": "7650d447",
   "metadata": {},
   "outputs": [
    {
     "name": "stdout",
     "output_type": "stream",
     "text": [
      "Collecting xgboost\n",
      "  Downloading xgboost-1.6.2-py3-none-win_amd64.whl (125.4 MB)\n",
      "Requirement already satisfied: scipy in d:\\anaconda\\lib\\site-packages (from xgboost) (1.7.1)\n",
      "Requirement already satisfied: numpy in d:\\anaconda\\lib\\site-packages (from xgboost) (1.20.3)\n",
      "Installing collected packages: xgboost\n",
      "Successfully installed xgboost-1.6.2\n",
      "Note: you may need to restart the kernel to use updated packages.\n"
     ]
    }
   ],
   "source": [
    "pip install xgboost"
   ]
  },
  {
   "cell_type": "code",
   "execution_count": 109,
   "id": "98d0b5cc",
   "metadata": {},
   "outputs": [],
   "source": [
    "from xgboost import XGBRegressor"
   ]
  },
  {
   "cell_type": "code",
   "execution_count": 110,
   "id": "a832ebb4",
   "metadata": {},
   "outputs": [],
   "source": [
    "model_xg = XGBRegressor(n_estimators=400, max_depth=7)"
   ]
  },
  {
   "cell_type": "code",
   "execution_count": 111,
   "id": "61391562",
   "metadata": {},
   "outputs": [
    {
     "data": {
      "text/html": [
       "<style>#sk-container-id-7 {color: black;background-color: white;}#sk-container-id-7 pre{padding: 0;}#sk-container-id-7 div.sk-toggleable {background-color: white;}#sk-container-id-7 label.sk-toggleable__label {cursor: pointer;display: block;width: 100%;margin-bottom: 0;padding: 0.3em;box-sizing: border-box;text-align: center;}#sk-container-id-7 label.sk-toggleable__label-arrow:before {content: \"▸\";float: left;margin-right: 0.25em;color: #696969;}#sk-container-id-7 label.sk-toggleable__label-arrow:hover:before {color: black;}#sk-container-id-7 div.sk-estimator:hover label.sk-toggleable__label-arrow:before {color: black;}#sk-container-id-7 div.sk-toggleable__content {max-height: 0;max-width: 0;overflow: hidden;text-align: left;background-color: #f0f8ff;}#sk-container-id-7 div.sk-toggleable__content pre {margin: 0.2em;color: black;border-radius: 0.25em;background-color: #f0f8ff;}#sk-container-id-7 input.sk-toggleable__control:checked~div.sk-toggleable__content {max-height: 200px;max-width: 100%;overflow: auto;}#sk-container-id-7 input.sk-toggleable__control:checked~label.sk-toggleable__label-arrow:before {content: \"▾\";}#sk-container-id-7 div.sk-estimator input.sk-toggleable__control:checked~label.sk-toggleable__label {background-color: #d4ebff;}#sk-container-id-7 div.sk-label input.sk-toggleable__control:checked~label.sk-toggleable__label {background-color: #d4ebff;}#sk-container-id-7 input.sk-hidden--visually {border: 0;clip: rect(1px 1px 1px 1px);clip: rect(1px, 1px, 1px, 1px);height: 1px;margin: -1px;overflow: hidden;padding: 0;position: absolute;width: 1px;}#sk-container-id-7 div.sk-estimator {font-family: monospace;background-color: #f0f8ff;border: 1px dotted black;border-radius: 0.25em;box-sizing: border-box;margin-bottom: 0.5em;}#sk-container-id-7 div.sk-estimator:hover {background-color: #d4ebff;}#sk-container-id-7 div.sk-parallel-item::after {content: \"\";width: 100%;border-bottom: 1px solid gray;flex-grow: 1;}#sk-container-id-7 div.sk-label:hover label.sk-toggleable__label {background-color: #d4ebff;}#sk-container-id-7 div.sk-serial::before {content: \"\";position: absolute;border-left: 1px solid gray;box-sizing: border-box;top: 0;bottom: 0;left: 50%;z-index: 0;}#sk-container-id-7 div.sk-serial {display: flex;flex-direction: column;align-items: center;background-color: white;padding-right: 0.2em;padding-left: 0.2em;position: relative;}#sk-container-id-7 div.sk-item {position: relative;z-index: 1;}#sk-container-id-7 div.sk-parallel {display: flex;align-items: stretch;justify-content: center;background-color: white;position: relative;}#sk-container-id-7 div.sk-item::before, #sk-container-id-7 div.sk-parallel-item::before {content: \"\";position: absolute;border-left: 1px solid gray;box-sizing: border-box;top: 0;bottom: 0;left: 50%;z-index: -1;}#sk-container-id-7 div.sk-parallel-item {display: flex;flex-direction: column;z-index: 1;position: relative;background-color: white;}#sk-container-id-7 div.sk-parallel-item:first-child::after {align-self: flex-end;width: 50%;}#sk-container-id-7 div.sk-parallel-item:last-child::after {align-self: flex-start;width: 50%;}#sk-container-id-7 div.sk-parallel-item:only-child::after {width: 0;}#sk-container-id-7 div.sk-dashed-wrapped {border: 1px dashed gray;margin: 0 0.4em 0.5em 0.4em;box-sizing: border-box;padding-bottom: 0.4em;background-color: white;}#sk-container-id-7 div.sk-label label {font-family: monospace;font-weight: bold;display: inline-block;line-height: 1.2em;}#sk-container-id-7 div.sk-label-container {text-align: center;}#sk-container-id-7 div.sk-container {/* jupyter's `normalize.less` sets `[hidden] { display: none; }` but bootstrap.min.css set `[hidden] { display: none !important; }` so we also need the `!important` here to be able to override the default hidden behavior on the sphinx rendered scikit-learn.org. See: https://github.com/scikit-learn/scikit-learn/issues/21755 */display: inline-block !important;position: relative;}#sk-container-id-7 div.sk-text-repr-fallback {display: none;}</style><div id=\"sk-container-id-7\" class=\"sk-top-container\"><div class=\"sk-text-repr-fallback\"><pre>XGBRegressor(base_score=0.5, booster=&#x27;gbtree&#x27;, callbacks=None,\n",
       "             colsample_bylevel=1, colsample_bynode=1, colsample_bytree=1,\n",
       "             early_stopping_rounds=None, enable_categorical=False,\n",
       "             eval_metric=None, gamma=0, gpu_id=-1, grow_policy=&#x27;depthwise&#x27;,\n",
       "             importance_type=None, interaction_constraints=&#x27;&#x27;,\n",
       "             learning_rate=0.300000012, max_bin=256, max_cat_to_onehot=4,\n",
       "             max_delta_step=0, max_depth=7, max_leaves=0, min_child_weight=1,\n",
       "             missing=nan, monotone_constraints=&#x27;()&#x27;, n_estimators=400, n_jobs=0,\n",
       "             num_parallel_tree=1, predictor=&#x27;auto&#x27;, random_state=0, reg_alpha=0,\n",
       "             reg_lambda=1, ...)</pre><b>In a Jupyter environment, please rerun this cell to show the HTML representation or trust the notebook. <br />On GitHub, the HTML representation is unable to render, please try loading this page with nbviewer.org.</b></div><div class=\"sk-container\" hidden><div class=\"sk-item\"><div class=\"sk-estimator sk-toggleable\"><input class=\"sk-toggleable__control sk-hidden--visually\" id=\"sk-estimator-id-19\" type=\"checkbox\" checked><label for=\"sk-estimator-id-19\" class=\"sk-toggleable__label sk-toggleable__label-arrow\">XGBRegressor</label><div class=\"sk-toggleable__content\"><pre>XGBRegressor(base_score=0.5, booster=&#x27;gbtree&#x27;, callbacks=None,\n",
       "             colsample_bylevel=1, colsample_bynode=1, colsample_bytree=1,\n",
       "             early_stopping_rounds=None, enable_categorical=False,\n",
       "             eval_metric=None, gamma=0, gpu_id=-1, grow_policy=&#x27;depthwise&#x27;,\n",
       "             importance_type=None, interaction_constraints=&#x27;&#x27;,\n",
       "             learning_rate=0.300000012, max_bin=256, max_cat_to_onehot=4,\n",
       "             max_delta_step=0, max_depth=7, max_leaves=0, min_child_weight=1,\n",
       "             missing=nan, monotone_constraints=&#x27;()&#x27;, n_estimators=400, n_jobs=0,\n",
       "             num_parallel_tree=1, predictor=&#x27;auto&#x27;, random_state=0, reg_alpha=0,\n",
       "             reg_lambda=1, ...)</pre></div></div></div></div></div>"
      ],
      "text/plain": [
       "XGBRegressor(base_score=0.5, booster='gbtree', callbacks=None,\n",
       "             colsample_bylevel=1, colsample_bynode=1, colsample_bytree=1,\n",
       "             early_stopping_rounds=None, enable_categorical=False,\n",
       "             eval_metric=None, gamma=0, gpu_id=-1, grow_policy='depthwise',\n",
       "             importance_type=None, interaction_constraints='',\n",
       "             learning_rate=0.300000012, max_bin=256, max_cat_to_onehot=4,\n",
       "             max_delta_step=0, max_depth=7, max_leaves=0, min_child_weight=1,\n",
       "             missing=nan, monotone_constraints='()', n_estimators=400, n_jobs=0,\n",
       "             num_parallel_tree=1, predictor='auto', random_state=0, reg_alpha=0,\n",
       "             reg_lambda=1, ...)"
      ]
     },
     "execution_count": 111,
     "metadata": {},
     "output_type": "execute_result"
    }
   ],
   "source": [
    "model_xg.fit(x_train,y_train)"
   ]
  },
  {
   "cell_type": "code",
   "execution_count": 112,
   "id": "35172008",
   "metadata": {},
   "outputs": [
    {
     "data": {
      "text/plain": [
       "0.7485608522793818"
      ]
     },
     "execution_count": 112,
     "metadata": {},
     "output_type": "execute_result"
    }
   ],
   "source": [
    "model_xg.score(x_test,y_test)"
   ]
  },
  {
   "cell_type": "code",
   "execution_count": 113,
   "id": "804c1622",
   "metadata": {},
   "outputs": [],
   "source": [
    "# Light GBM"
   ]
  },
  {
   "cell_type": "code",
   "execution_count": 114,
   "id": "7064de83",
   "metadata": {},
   "outputs": [
    {
     "name": "stdout",
     "output_type": "stream",
     "text": [
      "Requirement already satisfied: lightgbm in d:\\anaconda\\lib\\site-packages (3.3.2)\n",
      "Requirement already satisfied: scikit-learn!=0.22.0 in d:\\anaconda\\lib\\site-packages (from lightgbm) (1.1.1)\n",
      "Requirement already satisfied: scipy in d:\\anaconda\\lib\\site-packages (from lightgbm) (1.7.1)\n",
      "Requirement already satisfied: wheel in d:\\anaconda\\lib\\site-packages (from lightgbm) (0.37.0)\n",
      "Requirement already satisfied: numpy in d:\\anaconda\\lib\\site-packages (from lightgbm) (1.20.3)\n",
      "Requirement already satisfied: joblib>=1.0.0 in d:\\anaconda\\lib\\site-packages (from scikit-learn!=0.22.0->lightgbm) (1.1.0)\n",
      "Requirement already satisfied: threadpoolctl>=2.0.0 in d:\\anaconda\\lib\\site-packages (from scikit-learn!=0.22.0->lightgbm) (2.2.0)\n",
      "Note: you may need to restart the kernel to use updated packages.\n"
     ]
    }
   ],
   "source": [
    "pip install lightgbm"
   ]
  },
  {
   "cell_type": "code",
   "execution_count": 115,
   "id": "590f2d97",
   "metadata": {},
   "outputs": [],
   "source": [
    "from lightgbm import LGBMRegressor"
   ]
  },
  {
   "cell_type": "code",
   "execution_count": 116,
   "id": "f946b7c2",
   "metadata": {},
   "outputs": [],
   "source": [
    "model_lgb = LGBMRegressor(n_estimators=400, max_depth=9)"
   ]
  },
  {
   "cell_type": "code",
   "execution_count": 117,
   "id": "957ad6b7",
   "metadata": {},
   "outputs": [
    {
     "data": {
      "text/html": [
       "<style>#sk-container-id-8 {color: black;background-color: white;}#sk-container-id-8 pre{padding: 0;}#sk-container-id-8 div.sk-toggleable {background-color: white;}#sk-container-id-8 label.sk-toggleable__label {cursor: pointer;display: block;width: 100%;margin-bottom: 0;padding: 0.3em;box-sizing: border-box;text-align: center;}#sk-container-id-8 label.sk-toggleable__label-arrow:before {content: \"▸\";float: left;margin-right: 0.25em;color: #696969;}#sk-container-id-8 label.sk-toggleable__label-arrow:hover:before {color: black;}#sk-container-id-8 div.sk-estimator:hover label.sk-toggleable__label-arrow:before {color: black;}#sk-container-id-8 div.sk-toggleable__content {max-height: 0;max-width: 0;overflow: hidden;text-align: left;background-color: #f0f8ff;}#sk-container-id-8 div.sk-toggleable__content pre {margin: 0.2em;color: black;border-radius: 0.25em;background-color: #f0f8ff;}#sk-container-id-8 input.sk-toggleable__control:checked~div.sk-toggleable__content {max-height: 200px;max-width: 100%;overflow: auto;}#sk-container-id-8 input.sk-toggleable__control:checked~label.sk-toggleable__label-arrow:before {content: \"▾\";}#sk-container-id-8 div.sk-estimator input.sk-toggleable__control:checked~label.sk-toggleable__label {background-color: #d4ebff;}#sk-container-id-8 div.sk-label input.sk-toggleable__control:checked~label.sk-toggleable__label {background-color: #d4ebff;}#sk-container-id-8 input.sk-hidden--visually {border: 0;clip: rect(1px 1px 1px 1px);clip: rect(1px, 1px, 1px, 1px);height: 1px;margin: -1px;overflow: hidden;padding: 0;position: absolute;width: 1px;}#sk-container-id-8 div.sk-estimator {font-family: monospace;background-color: #f0f8ff;border: 1px dotted black;border-radius: 0.25em;box-sizing: border-box;margin-bottom: 0.5em;}#sk-container-id-8 div.sk-estimator:hover {background-color: #d4ebff;}#sk-container-id-8 div.sk-parallel-item::after {content: \"\";width: 100%;border-bottom: 1px solid gray;flex-grow: 1;}#sk-container-id-8 div.sk-label:hover label.sk-toggleable__label {background-color: #d4ebff;}#sk-container-id-8 div.sk-serial::before {content: \"\";position: absolute;border-left: 1px solid gray;box-sizing: border-box;top: 0;bottom: 0;left: 50%;z-index: 0;}#sk-container-id-8 div.sk-serial {display: flex;flex-direction: column;align-items: center;background-color: white;padding-right: 0.2em;padding-left: 0.2em;position: relative;}#sk-container-id-8 div.sk-item {position: relative;z-index: 1;}#sk-container-id-8 div.sk-parallel {display: flex;align-items: stretch;justify-content: center;background-color: white;position: relative;}#sk-container-id-8 div.sk-item::before, #sk-container-id-8 div.sk-parallel-item::before {content: \"\";position: absolute;border-left: 1px solid gray;box-sizing: border-box;top: 0;bottom: 0;left: 50%;z-index: -1;}#sk-container-id-8 div.sk-parallel-item {display: flex;flex-direction: column;z-index: 1;position: relative;background-color: white;}#sk-container-id-8 div.sk-parallel-item:first-child::after {align-self: flex-end;width: 50%;}#sk-container-id-8 div.sk-parallel-item:last-child::after {align-self: flex-start;width: 50%;}#sk-container-id-8 div.sk-parallel-item:only-child::after {width: 0;}#sk-container-id-8 div.sk-dashed-wrapped {border: 1px dashed gray;margin: 0 0.4em 0.5em 0.4em;box-sizing: border-box;padding-bottom: 0.4em;background-color: white;}#sk-container-id-8 div.sk-label label {font-family: monospace;font-weight: bold;display: inline-block;line-height: 1.2em;}#sk-container-id-8 div.sk-label-container {text-align: center;}#sk-container-id-8 div.sk-container {/* jupyter's `normalize.less` sets `[hidden] { display: none; }` but bootstrap.min.css set `[hidden] { display: none !important; }` so we also need the `!important` here to be able to override the default hidden behavior on the sphinx rendered scikit-learn.org. See: https://github.com/scikit-learn/scikit-learn/issues/21755 */display: inline-block !important;position: relative;}#sk-container-id-8 div.sk-text-repr-fallback {display: none;}</style><div id=\"sk-container-id-8\" class=\"sk-top-container\"><div class=\"sk-text-repr-fallback\"><pre>LGBMRegressor(max_depth=9, n_estimators=400)</pre><b>In a Jupyter environment, please rerun this cell to show the HTML representation or trust the notebook. <br />On GitHub, the HTML representation is unable to render, please try loading this page with nbviewer.org.</b></div><div class=\"sk-container\" hidden><div class=\"sk-item\"><div class=\"sk-estimator sk-toggleable\"><input class=\"sk-toggleable__control sk-hidden--visually\" id=\"sk-estimator-id-20\" type=\"checkbox\" checked><label for=\"sk-estimator-id-20\" class=\"sk-toggleable__label sk-toggleable__label-arrow\">LGBMRegressor</label><div class=\"sk-toggleable__content\"><pre>LGBMRegressor(max_depth=9, n_estimators=400)</pre></div></div></div></div></div>"
      ],
      "text/plain": [
       "LGBMRegressor(max_depth=9, n_estimators=400)"
      ]
     },
     "execution_count": 117,
     "metadata": {},
     "output_type": "execute_result"
    }
   ],
   "source": [
    "model_lgb.fit(x_train,y_train)"
   ]
  },
  {
   "cell_type": "code",
   "execution_count": 118,
   "id": "ea36ccf0",
   "metadata": {},
   "outputs": [
    {
     "data": {
      "text/plain": [
       "0.7283432399127798"
      ]
     },
     "execution_count": 118,
     "metadata": {},
     "output_type": "execute_result"
    }
   ],
   "source": [
    "model_lgb.score(x_test,y_test)"
   ]
  },
  {
   "cell_type": "code",
   "execution_count": null,
   "id": "6978edd6",
   "metadata": {},
   "outputs": [],
   "source": []
  }
 ],
 "metadata": {
  "kernelspec": {
   "display_name": "Python 3 (ipykernel)",
   "language": "python",
   "name": "python3"
  },
  "language_info": {
   "codemirror_mode": {
    "name": "ipython",
    "version": 3
   },
   "file_extension": ".py",
   "mimetype": "text/x-python",
   "name": "python",
   "nbconvert_exporter": "python",
   "pygments_lexer": "ipython3",
   "version": "3.9.7"
  }
 },
 "nbformat": 4,
 "nbformat_minor": 5
}
